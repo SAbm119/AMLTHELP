{
 "cells": [
  {
   "cell_type": "markdown",
   "id": "0e5460d6",
   "metadata": {
    "papermill": {
     "duration": 0.058969,
     "end_time": "2023-03-26T17:43:58.678778",
     "exception": false,
     "start_time": "2023-03-26T17:43:58.619809",
     "status": "completed"
    },
    "tags": []
   },
   "source": [
    "# V.V Imp Work on preprocessing steps from DL notebook and also do each type on wine dataset"
   ]
  },
  {
   "cell_type": "markdown",
   "id": "6c1b3cfd",
   "metadata": {
    "papermill": {
     "duration": 0.055269,
     "end_time": "2023-03-26T17:43:58.789040",
     "exception": false,
     "start_time": "2023-03-26T17:43:58.733771",
     "status": "completed"
    },
    "tags": []
   },
   "source": [
    "### Preprocessing"
   ]
  },
  {
   "cell_type": "code",
   "execution_count": 1,
   "id": "f07e2945",
   "metadata": {
    "execution": {
     "iopub.execute_input": "2023-03-26T17:43:58.902055Z",
     "iopub.status.busy": "2023-03-26T17:43:58.901447Z",
     "iopub.status.idle": "2023-03-26T17:43:58.910707Z",
     "shell.execute_reply": "2023-03-26T17:43:58.909622Z"
    },
    "papermill": {
     "duration": 0.070065,
     "end_time": "2023-03-26T17:43:58.913406",
     "exception": false,
     "start_time": "2023-03-26T17:43:58.843341",
     "status": "completed"
    },
    "tags": []
   },
   "outputs": [],
   "source": [
    "## PRe-processing\n",
    "# Drop null values\n",
    "# bank.dropna(inplace=True)\n",
    "\n",
    "# Remove two columns name is 'default' and 'loan'\n",
    "# bank=bank.drop(['default', 'loan'], axis=1)\n",
    "\n",
    "# get names of indexes for which\n",
    "# column duration has value < 60\n",
    "# index_names = bank[ bank['duration'] < 60 ].index\n",
    "# drop these row indexes\n",
    "# from dataFrame\n",
    "# bank.drop(index_names, inplace = True)\n",
    "\n",
    "\n",
    "# count the number of occurrences of each job type\n",
    "# job_counts = bank[\"job\"].value_counts()\n",
    "# filter out the job types that have a count less than 2\n",
    "# jobs_to_drop = job_counts[job_counts < 2].index.tolist()\n",
    "# drop the rows that correspond to the filtered job types from the original DataFrame\n",
    "# bank.drop(bank[bank[\"job\"].isin(jobs_to_drop)].index, inplace=True)\n",
    "\n",
    "# print the modified DataFrame\n",
    "# print(bank)\n",
    "\n",
    "\n",
    "# from sklearn.preprocessing import LabelEncoder\n",
    "# Initialize LabelEncoder object\n",
    "# le = LabelEncoder()\n",
    "# Encode the 'job', 'marital', 'education', 'housing', 'contact', 'month', 'poutcome', and 'y' columns\n",
    "# bank['job'] = le.fit_transform(bank['job'])\n",
    "# bank['marital'] = le.fit_transform(bank['marital'])\n",
    "# bank['education'] = le.fit_transform(bank['education'])\n",
    "# bank['housing'] = le.fit_transform(bank['housing'])\n",
    "# bank['contact'] = le.fit_transform(bank['contact'])\n",
    "# bank['month'] = le.fit_transform(bank['month'])\n",
    "# bank['poutcome'] = le.fit_transform(bank['poutcome'])\n",
    "# Since y is already classified and hence this does not need to be standarized as per Wine data\n",
    "# bank['y'] = le.fit_transform(bank['y'])\n",
    "# bank\n",
    "\n",
    "# One hot encoding\n",
    "\n",
    "# one_hot_encoded_data = pd.get_dummies(data, columns = ['Remarks', 'Gender'])\n",
    "# print(one_hot_encoded_data)\n",
    "\n",
    "#checking for null values\n",
    "# bank.isnull().sum()\n",
    "\n",
    "#Normalization of features if required\n",
    "# from sklearn.preprocessing import StandardScaler\n",
    "# scaler=StandardScaler()\n",
    "# X_scaled=scaler.fit_transform(X_1)\n",
    "# X_scaled\n",
    "\n",
    "#filling null values\n",
    "#house['City'].fillna(method='ffill',inplace=True)\n",
    "#house['Facing'].fillna(value=\"North\",inplace=True)\n",
    "#df[column].fillna(value=df[column].mean(), inplace=True)\n",
    "\n",
    "# First do standarization, then split into targets and features\n",
    "\n",
    "#Target\n",
    "#y=bank['y']\n",
    "# Features\n",
    "#X=bank.drop(['y'],axis=1)\n",
    "\n",
    "\n"
   ]
  },
  {
   "cell_type": "markdown",
   "id": "a5a1b6fc",
   "metadata": {
    "papermill": {
     "duration": 0.055189,
     "end_time": "2023-03-26T17:43:59.023534",
     "exception": false,
     "start_time": "2023-03-26T17:43:58.968345",
     "status": "completed"
    },
    "tags": []
   },
   "source": [
    "### PCA"
   ]
  },
  {
   "cell_type": "code",
   "execution_count": 2,
   "id": "81070234",
   "metadata": {
    "execution": {
     "iopub.execute_input": "2023-03-26T17:43:59.134061Z",
     "iopub.status.busy": "2023-03-26T17:43:59.133589Z",
     "iopub.status.idle": "2023-03-26T17:43:59.142741Z",
     "shell.execute_reply": "2023-03-26T17:43:59.141589Z"
    },
    "papermill": {
     "duration": 0.068375,
     "end_time": "2023-03-26T17:43:59.145649",
     "exception": false,
     "start_time": "2023-03-26T17:43:59.077274",
     "status": "completed"
    },
    "tags": []
   },
   "outputs": [],
   "source": [
    "import pandas as pd\n",
    "import numpy as np\n",
    "import matplotlib.pyplot as plt"
   ]
  },
  {
   "cell_type": "code",
   "execution_count": 3,
   "id": "dcc92a6f",
   "metadata": {
    "execution": {
     "iopub.execute_input": "2023-03-26T17:43:59.260679Z",
     "iopub.status.busy": "2023-03-26T17:43:59.260158Z",
     "iopub.status.idle": "2023-03-26T17:43:59.432004Z",
     "shell.execute_reply": "2023-03-26T17:43:59.430461Z"
    },
    "papermill": {
     "duration": 0.230876,
     "end_time": "2023-03-26T17:43:59.435211",
     "exception": false,
     "start_time": "2023-03-26T17:43:59.204335",
     "status": "completed"
    },
    "tags": []
   },
   "outputs": [],
   "source": [
    "wine=pd.read_csv('https://gist.githubusercontent.com/tijptjik/9408623/raw/b237fa5848349a14a14e5d4107dc7897c21951f5/wine.csv')"
   ]
  },
  {
   "cell_type": "code",
   "execution_count": 4,
   "id": "ef64ff2a",
   "metadata": {
    "execution": {
     "iopub.execute_input": "2023-03-26T17:43:59.547427Z",
     "iopub.status.busy": "2023-03-26T17:43:59.546935Z",
     "iopub.status.idle": "2023-03-26T17:43:59.599853Z",
     "shell.execute_reply": "2023-03-26T17:43:59.598402Z"
    },
    "papermill": {
     "duration": 0.11274,
     "end_time": "2023-03-26T17:43:59.603104",
     "exception": false,
     "start_time": "2023-03-26T17:43:59.490364",
     "status": "completed"
    },
    "tags": []
   },
   "outputs": [
    {
     "data": {
      "text/html": [
       "<div>\n",
       "<style scoped>\n",
       "    .dataframe tbody tr th:only-of-type {\n",
       "        vertical-align: middle;\n",
       "    }\n",
       "\n",
       "    .dataframe tbody tr th {\n",
       "        vertical-align: top;\n",
       "    }\n",
       "\n",
       "    .dataframe thead th {\n",
       "        text-align: right;\n",
       "    }\n",
       "</style>\n",
       "<table border=\"1\" class=\"dataframe\">\n",
       "  <thead>\n",
       "    <tr style=\"text-align: right;\">\n",
       "      <th></th>\n",
       "      <th>Wine</th>\n",
       "      <th>Alcohol</th>\n",
       "      <th>Malic.acid</th>\n",
       "      <th>Ash</th>\n",
       "      <th>Acl</th>\n",
       "      <th>Mg</th>\n",
       "      <th>Phenols</th>\n",
       "      <th>Flavanoids</th>\n",
       "      <th>Nonflavanoid.phenols</th>\n",
       "      <th>Proanth</th>\n",
       "      <th>Color.int</th>\n",
       "      <th>Hue</th>\n",
       "      <th>OD</th>\n",
       "      <th>Proline</th>\n",
       "    </tr>\n",
       "  </thead>\n",
       "  <tbody>\n",
       "    <tr>\n",
       "      <th>0</th>\n",
       "      <td>1</td>\n",
       "      <td>14.23</td>\n",
       "      <td>1.71</td>\n",
       "      <td>2.43</td>\n",
       "      <td>15.6</td>\n",
       "      <td>127</td>\n",
       "      <td>2.80</td>\n",
       "      <td>3.06</td>\n",
       "      <td>0.28</td>\n",
       "      <td>2.29</td>\n",
       "      <td>5.64</td>\n",
       "      <td>1.04</td>\n",
       "      <td>3.92</td>\n",
       "      <td>1065</td>\n",
       "    </tr>\n",
       "    <tr>\n",
       "      <th>1</th>\n",
       "      <td>1</td>\n",
       "      <td>13.20</td>\n",
       "      <td>1.78</td>\n",
       "      <td>2.14</td>\n",
       "      <td>11.2</td>\n",
       "      <td>100</td>\n",
       "      <td>2.65</td>\n",
       "      <td>2.76</td>\n",
       "      <td>0.26</td>\n",
       "      <td>1.28</td>\n",
       "      <td>4.38</td>\n",
       "      <td>1.05</td>\n",
       "      <td>3.40</td>\n",
       "      <td>1050</td>\n",
       "    </tr>\n",
       "    <tr>\n",
       "      <th>2</th>\n",
       "      <td>1</td>\n",
       "      <td>13.16</td>\n",
       "      <td>2.36</td>\n",
       "      <td>2.67</td>\n",
       "      <td>18.6</td>\n",
       "      <td>101</td>\n",
       "      <td>2.80</td>\n",
       "      <td>3.24</td>\n",
       "      <td>0.30</td>\n",
       "      <td>2.81</td>\n",
       "      <td>5.68</td>\n",
       "      <td>1.03</td>\n",
       "      <td>3.17</td>\n",
       "      <td>1185</td>\n",
       "    </tr>\n",
       "    <tr>\n",
       "      <th>3</th>\n",
       "      <td>1</td>\n",
       "      <td>14.37</td>\n",
       "      <td>1.95</td>\n",
       "      <td>2.50</td>\n",
       "      <td>16.8</td>\n",
       "      <td>113</td>\n",
       "      <td>3.85</td>\n",
       "      <td>3.49</td>\n",
       "      <td>0.24</td>\n",
       "      <td>2.18</td>\n",
       "      <td>7.80</td>\n",
       "      <td>0.86</td>\n",
       "      <td>3.45</td>\n",
       "      <td>1480</td>\n",
       "    </tr>\n",
       "    <tr>\n",
       "      <th>4</th>\n",
       "      <td>1</td>\n",
       "      <td>13.24</td>\n",
       "      <td>2.59</td>\n",
       "      <td>2.87</td>\n",
       "      <td>21.0</td>\n",
       "      <td>118</td>\n",
       "      <td>2.80</td>\n",
       "      <td>2.69</td>\n",
       "      <td>0.39</td>\n",
       "      <td>1.82</td>\n",
       "      <td>4.32</td>\n",
       "      <td>1.04</td>\n",
       "      <td>2.93</td>\n",
       "      <td>735</td>\n",
       "    </tr>\n",
       "    <tr>\n",
       "      <th>...</th>\n",
       "      <td>...</td>\n",
       "      <td>...</td>\n",
       "      <td>...</td>\n",
       "      <td>...</td>\n",
       "      <td>...</td>\n",
       "      <td>...</td>\n",
       "      <td>...</td>\n",
       "      <td>...</td>\n",
       "      <td>...</td>\n",
       "      <td>...</td>\n",
       "      <td>...</td>\n",
       "      <td>...</td>\n",
       "      <td>...</td>\n",
       "      <td>...</td>\n",
       "    </tr>\n",
       "    <tr>\n",
       "      <th>173</th>\n",
       "      <td>3</td>\n",
       "      <td>13.71</td>\n",
       "      <td>5.65</td>\n",
       "      <td>2.45</td>\n",
       "      <td>20.5</td>\n",
       "      <td>95</td>\n",
       "      <td>1.68</td>\n",
       "      <td>0.61</td>\n",
       "      <td>0.52</td>\n",
       "      <td>1.06</td>\n",
       "      <td>7.70</td>\n",
       "      <td>0.64</td>\n",
       "      <td>1.74</td>\n",
       "      <td>740</td>\n",
       "    </tr>\n",
       "    <tr>\n",
       "      <th>174</th>\n",
       "      <td>3</td>\n",
       "      <td>13.40</td>\n",
       "      <td>3.91</td>\n",
       "      <td>2.48</td>\n",
       "      <td>23.0</td>\n",
       "      <td>102</td>\n",
       "      <td>1.80</td>\n",
       "      <td>0.75</td>\n",
       "      <td>0.43</td>\n",
       "      <td>1.41</td>\n",
       "      <td>7.30</td>\n",
       "      <td>0.70</td>\n",
       "      <td>1.56</td>\n",
       "      <td>750</td>\n",
       "    </tr>\n",
       "    <tr>\n",
       "      <th>175</th>\n",
       "      <td>3</td>\n",
       "      <td>13.27</td>\n",
       "      <td>4.28</td>\n",
       "      <td>2.26</td>\n",
       "      <td>20.0</td>\n",
       "      <td>120</td>\n",
       "      <td>1.59</td>\n",
       "      <td>0.69</td>\n",
       "      <td>0.43</td>\n",
       "      <td>1.35</td>\n",
       "      <td>10.20</td>\n",
       "      <td>0.59</td>\n",
       "      <td>1.56</td>\n",
       "      <td>835</td>\n",
       "    </tr>\n",
       "    <tr>\n",
       "      <th>176</th>\n",
       "      <td>3</td>\n",
       "      <td>13.17</td>\n",
       "      <td>2.59</td>\n",
       "      <td>2.37</td>\n",
       "      <td>20.0</td>\n",
       "      <td>120</td>\n",
       "      <td>1.65</td>\n",
       "      <td>0.68</td>\n",
       "      <td>0.53</td>\n",
       "      <td>1.46</td>\n",
       "      <td>9.30</td>\n",
       "      <td>0.60</td>\n",
       "      <td>1.62</td>\n",
       "      <td>840</td>\n",
       "    </tr>\n",
       "    <tr>\n",
       "      <th>177</th>\n",
       "      <td>3</td>\n",
       "      <td>14.13</td>\n",
       "      <td>4.10</td>\n",
       "      <td>2.74</td>\n",
       "      <td>24.5</td>\n",
       "      <td>96</td>\n",
       "      <td>2.05</td>\n",
       "      <td>0.76</td>\n",
       "      <td>0.56</td>\n",
       "      <td>1.35</td>\n",
       "      <td>9.20</td>\n",
       "      <td>0.61</td>\n",
       "      <td>1.60</td>\n",
       "      <td>560</td>\n",
       "    </tr>\n",
       "  </tbody>\n",
       "</table>\n",
       "<p>178 rows × 14 columns</p>\n",
       "</div>"
      ],
      "text/plain": [
       "     Wine  Alcohol  Malic.acid   Ash   Acl   Mg  Phenols  Flavanoids  \\\n",
       "0       1    14.23        1.71  2.43  15.6  127     2.80        3.06   \n",
       "1       1    13.20        1.78  2.14  11.2  100     2.65        2.76   \n",
       "2       1    13.16        2.36  2.67  18.6  101     2.80        3.24   \n",
       "3       1    14.37        1.95  2.50  16.8  113     3.85        3.49   \n",
       "4       1    13.24        2.59  2.87  21.0  118     2.80        2.69   \n",
       "..    ...      ...         ...   ...   ...  ...      ...         ...   \n",
       "173     3    13.71        5.65  2.45  20.5   95     1.68        0.61   \n",
       "174     3    13.40        3.91  2.48  23.0  102     1.80        0.75   \n",
       "175     3    13.27        4.28  2.26  20.0  120     1.59        0.69   \n",
       "176     3    13.17        2.59  2.37  20.0  120     1.65        0.68   \n",
       "177     3    14.13        4.10  2.74  24.5   96     2.05        0.76   \n",
       "\n",
       "     Nonflavanoid.phenols  Proanth  Color.int   Hue    OD  Proline  \n",
       "0                    0.28     2.29       5.64  1.04  3.92     1065  \n",
       "1                    0.26     1.28       4.38  1.05  3.40     1050  \n",
       "2                    0.30     2.81       5.68  1.03  3.17     1185  \n",
       "3                    0.24     2.18       7.80  0.86  3.45     1480  \n",
       "4                    0.39     1.82       4.32  1.04  2.93      735  \n",
       "..                    ...      ...        ...   ...   ...      ...  \n",
       "173                  0.52     1.06       7.70  0.64  1.74      740  \n",
       "174                  0.43     1.41       7.30  0.70  1.56      750  \n",
       "175                  0.43     1.35      10.20  0.59  1.56      835  \n",
       "176                  0.53     1.46       9.30  0.60  1.62      840  \n",
       "177                  0.56     1.35       9.20  0.61  1.60      560  \n",
       "\n",
       "[178 rows x 14 columns]"
      ]
     },
     "execution_count": 4,
     "metadata": {},
     "output_type": "execute_result"
    }
   ],
   "source": [
    "wine"
   ]
  },
  {
   "cell_type": "markdown",
   "id": "6e4df775",
   "metadata": {
    "papermill": {
     "duration": 0.055596,
     "end_time": "2023-03-26T17:43:59.714841",
     "exception": false,
     "start_time": "2023-03-26T17:43:59.659245",
     "status": "completed"
    },
    "tags": []
   },
   "source": [
    "Here all columns are numeric, if that is not the case maybe one hot encoding or label encoding is to be used as per the question"
   ]
  },
  {
   "cell_type": "markdown",
   "id": "11b26afd",
   "metadata": {
    "papermill": {
     "duration": 0.056289,
     "end_time": "2023-03-26T17:43:59.826959",
     "exception": false,
     "start_time": "2023-03-26T17:43:59.770670",
     "status": "completed"
    },
    "tags": []
   },
   "source": [
    "## PREPROCESSING THE DATASET"
   ]
  },
  {
   "cell_type": "code",
   "execution_count": 5,
   "id": "7a9ba25b",
   "metadata": {
    "execution": {
     "iopub.execute_input": "2023-03-26T17:43:59.944286Z",
     "iopub.status.busy": "2023-03-26T17:43:59.943369Z",
     "iopub.status.idle": "2023-03-26T17:43:59.955664Z",
     "shell.execute_reply": "2023-03-26T17:43:59.954598Z"
    },
    "papermill": {
     "duration": 0.074543,
     "end_time": "2023-03-26T17:43:59.958405",
     "exception": false,
     "start_time": "2023-03-26T17:43:59.883862",
     "status": "completed"
    },
    "tags": []
   },
   "outputs": [
    {
     "data": {
      "text/plain": [
       "0      1\n",
       "1      1\n",
       "2      1\n",
       "3      1\n",
       "4      1\n",
       "      ..\n",
       "173    3\n",
       "174    3\n",
       "175    3\n",
       "176    3\n",
       "177    3\n",
       "Name: Wine, Length: 178, dtype: int64"
      ]
     },
     "execution_count": 5,
     "metadata": {},
     "output_type": "execute_result"
    }
   ],
   "source": [
    "y=wine['Wine']\n",
    "y\n",
    "\n",
    "# Segregating Target column"
   ]
  },
  {
   "cell_type": "code",
   "execution_count": 6,
   "id": "4cedf09d",
   "metadata": {
    "execution": {
     "iopub.execute_input": "2023-03-26T17:44:00.072027Z",
     "iopub.status.busy": "2023-03-26T17:44:00.071186Z",
     "iopub.status.idle": "2023-03-26T17:44:00.101556Z",
     "shell.execute_reply": "2023-03-26T17:44:00.100152Z"
    },
    "papermill": {
     "duration": 0.090118,
     "end_time": "2023-03-26T17:44:00.104303",
     "exception": false,
     "start_time": "2023-03-26T17:44:00.014185",
     "status": "completed"
    },
    "tags": []
   },
   "outputs": [
    {
     "data": {
      "text/html": [
       "<div>\n",
       "<style scoped>\n",
       "    .dataframe tbody tr th:only-of-type {\n",
       "        vertical-align: middle;\n",
       "    }\n",
       "\n",
       "    .dataframe tbody tr th {\n",
       "        vertical-align: top;\n",
       "    }\n",
       "\n",
       "    .dataframe thead th {\n",
       "        text-align: right;\n",
       "    }\n",
       "</style>\n",
       "<table border=\"1\" class=\"dataframe\">\n",
       "  <thead>\n",
       "    <tr style=\"text-align: right;\">\n",
       "      <th></th>\n",
       "      <th>Alcohol</th>\n",
       "      <th>Malic.acid</th>\n",
       "      <th>Ash</th>\n",
       "      <th>Acl</th>\n",
       "      <th>Mg</th>\n",
       "      <th>Phenols</th>\n",
       "      <th>Flavanoids</th>\n",
       "      <th>Nonflavanoid.phenols</th>\n",
       "      <th>Proanth</th>\n",
       "      <th>Color.int</th>\n",
       "      <th>Hue</th>\n",
       "      <th>OD</th>\n",
       "      <th>Proline</th>\n",
       "    </tr>\n",
       "  </thead>\n",
       "  <tbody>\n",
       "    <tr>\n",
       "      <th>0</th>\n",
       "      <td>14.23</td>\n",
       "      <td>1.71</td>\n",
       "      <td>2.43</td>\n",
       "      <td>15.6</td>\n",
       "      <td>127</td>\n",
       "      <td>2.80</td>\n",
       "      <td>3.06</td>\n",
       "      <td>0.28</td>\n",
       "      <td>2.29</td>\n",
       "      <td>5.64</td>\n",
       "      <td>1.04</td>\n",
       "      <td>3.92</td>\n",
       "      <td>1065</td>\n",
       "    </tr>\n",
       "    <tr>\n",
       "      <th>1</th>\n",
       "      <td>13.20</td>\n",
       "      <td>1.78</td>\n",
       "      <td>2.14</td>\n",
       "      <td>11.2</td>\n",
       "      <td>100</td>\n",
       "      <td>2.65</td>\n",
       "      <td>2.76</td>\n",
       "      <td>0.26</td>\n",
       "      <td>1.28</td>\n",
       "      <td>4.38</td>\n",
       "      <td>1.05</td>\n",
       "      <td>3.40</td>\n",
       "      <td>1050</td>\n",
       "    </tr>\n",
       "    <tr>\n",
       "      <th>2</th>\n",
       "      <td>13.16</td>\n",
       "      <td>2.36</td>\n",
       "      <td>2.67</td>\n",
       "      <td>18.6</td>\n",
       "      <td>101</td>\n",
       "      <td>2.80</td>\n",
       "      <td>3.24</td>\n",
       "      <td>0.30</td>\n",
       "      <td>2.81</td>\n",
       "      <td>5.68</td>\n",
       "      <td>1.03</td>\n",
       "      <td>3.17</td>\n",
       "      <td>1185</td>\n",
       "    </tr>\n",
       "    <tr>\n",
       "      <th>3</th>\n",
       "      <td>14.37</td>\n",
       "      <td>1.95</td>\n",
       "      <td>2.50</td>\n",
       "      <td>16.8</td>\n",
       "      <td>113</td>\n",
       "      <td>3.85</td>\n",
       "      <td>3.49</td>\n",
       "      <td>0.24</td>\n",
       "      <td>2.18</td>\n",
       "      <td>7.80</td>\n",
       "      <td>0.86</td>\n",
       "      <td>3.45</td>\n",
       "      <td>1480</td>\n",
       "    </tr>\n",
       "    <tr>\n",
       "      <th>4</th>\n",
       "      <td>13.24</td>\n",
       "      <td>2.59</td>\n",
       "      <td>2.87</td>\n",
       "      <td>21.0</td>\n",
       "      <td>118</td>\n",
       "      <td>2.80</td>\n",
       "      <td>2.69</td>\n",
       "      <td>0.39</td>\n",
       "      <td>1.82</td>\n",
       "      <td>4.32</td>\n",
       "      <td>1.04</td>\n",
       "      <td>2.93</td>\n",
       "      <td>735</td>\n",
       "    </tr>\n",
       "    <tr>\n",
       "      <th>...</th>\n",
       "      <td>...</td>\n",
       "      <td>...</td>\n",
       "      <td>...</td>\n",
       "      <td>...</td>\n",
       "      <td>...</td>\n",
       "      <td>...</td>\n",
       "      <td>...</td>\n",
       "      <td>...</td>\n",
       "      <td>...</td>\n",
       "      <td>...</td>\n",
       "      <td>...</td>\n",
       "      <td>...</td>\n",
       "      <td>...</td>\n",
       "    </tr>\n",
       "    <tr>\n",
       "      <th>173</th>\n",
       "      <td>13.71</td>\n",
       "      <td>5.65</td>\n",
       "      <td>2.45</td>\n",
       "      <td>20.5</td>\n",
       "      <td>95</td>\n",
       "      <td>1.68</td>\n",
       "      <td>0.61</td>\n",
       "      <td>0.52</td>\n",
       "      <td>1.06</td>\n",
       "      <td>7.70</td>\n",
       "      <td>0.64</td>\n",
       "      <td>1.74</td>\n",
       "      <td>740</td>\n",
       "    </tr>\n",
       "    <tr>\n",
       "      <th>174</th>\n",
       "      <td>13.40</td>\n",
       "      <td>3.91</td>\n",
       "      <td>2.48</td>\n",
       "      <td>23.0</td>\n",
       "      <td>102</td>\n",
       "      <td>1.80</td>\n",
       "      <td>0.75</td>\n",
       "      <td>0.43</td>\n",
       "      <td>1.41</td>\n",
       "      <td>7.30</td>\n",
       "      <td>0.70</td>\n",
       "      <td>1.56</td>\n",
       "      <td>750</td>\n",
       "    </tr>\n",
       "    <tr>\n",
       "      <th>175</th>\n",
       "      <td>13.27</td>\n",
       "      <td>4.28</td>\n",
       "      <td>2.26</td>\n",
       "      <td>20.0</td>\n",
       "      <td>120</td>\n",
       "      <td>1.59</td>\n",
       "      <td>0.69</td>\n",
       "      <td>0.43</td>\n",
       "      <td>1.35</td>\n",
       "      <td>10.20</td>\n",
       "      <td>0.59</td>\n",
       "      <td>1.56</td>\n",
       "      <td>835</td>\n",
       "    </tr>\n",
       "    <tr>\n",
       "      <th>176</th>\n",
       "      <td>13.17</td>\n",
       "      <td>2.59</td>\n",
       "      <td>2.37</td>\n",
       "      <td>20.0</td>\n",
       "      <td>120</td>\n",
       "      <td>1.65</td>\n",
       "      <td>0.68</td>\n",
       "      <td>0.53</td>\n",
       "      <td>1.46</td>\n",
       "      <td>9.30</td>\n",
       "      <td>0.60</td>\n",
       "      <td>1.62</td>\n",
       "      <td>840</td>\n",
       "    </tr>\n",
       "    <tr>\n",
       "      <th>177</th>\n",
       "      <td>14.13</td>\n",
       "      <td>4.10</td>\n",
       "      <td>2.74</td>\n",
       "      <td>24.5</td>\n",
       "      <td>96</td>\n",
       "      <td>2.05</td>\n",
       "      <td>0.76</td>\n",
       "      <td>0.56</td>\n",
       "      <td>1.35</td>\n",
       "      <td>9.20</td>\n",
       "      <td>0.61</td>\n",
       "      <td>1.60</td>\n",
       "      <td>560</td>\n",
       "    </tr>\n",
       "  </tbody>\n",
       "</table>\n",
       "<p>178 rows × 13 columns</p>\n",
       "</div>"
      ],
      "text/plain": [
       "     Alcohol  Malic.acid   Ash   Acl   Mg  Phenols  Flavanoids  \\\n",
       "0      14.23        1.71  2.43  15.6  127     2.80        3.06   \n",
       "1      13.20        1.78  2.14  11.2  100     2.65        2.76   \n",
       "2      13.16        2.36  2.67  18.6  101     2.80        3.24   \n",
       "3      14.37        1.95  2.50  16.8  113     3.85        3.49   \n",
       "4      13.24        2.59  2.87  21.0  118     2.80        2.69   \n",
       "..       ...         ...   ...   ...  ...      ...         ...   \n",
       "173    13.71        5.65  2.45  20.5   95     1.68        0.61   \n",
       "174    13.40        3.91  2.48  23.0  102     1.80        0.75   \n",
       "175    13.27        4.28  2.26  20.0  120     1.59        0.69   \n",
       "176    13.17        2.59  2.37  20.0  120     1.65        0.68   \n",
       "177    14.13        4.10  2.74  24.5   96     2.05        0.76   \n",
       "\n",
       "     Nonflavanoid.phenols  Proanth  Color.int   Hue    OD  Proline  \n",
       "0                    0.28     2.29       5.64  1.04  3.92     1065  \n",
       "1                    0.26     1.28       4.38  1.05  3.40     1050  \n",
       "2                    0.30     2.81       5.68  1.03  3.17     1185  \n",
       "3                    0.24     2.18       7.80  0.86  3.45     1480  \n",
       "4                    0.39     1.82       4.32  1.04  2.93      735  \n",
       "..                    ...      ...        ...   ...   ...      ...  \n",
       "173                  0.52     1.06       7.70  0.64  1.74      740  \n",
       "174                  0.43     1.41       7.30  0.70  1.56      750  \n",
       "175                  0.43     1.35      10.20  0.59  1.56      835  \n",
       "176                  0.53     1.46       9.30  0.60  1.62      840  \n",
       "177                  0.56     1.35       9.20  0.61  1.60      560  \n",
       "\n",
       "[178 rows x 13 columns]"
      ]
     },
     "execution_count": 6,
     "metadata": {},
     "output_type": "execute_result"
    }
   ],
   "source": [
    "# Features\n",
    "X=wine.drop(['Wine'],axis=1)\n",
    "X"
   ]
  },
  {
   "cell_type": "code",
   "execution_count": 7,
   "id": "10c40f4f",
   "metadata": {
    "execution": {
     "iopub.execute_input": "2023-03-26T17:44:00.221597Z",
     "iopub.status.busy": "2023-03-26T17:44:00.220592Z",
     "iopub.status.idle": "2023-03-26T17:44:00.228881Z",
     "shell.execute_reply": "2023-03-26T17:44:00.227623Z"
    },
    "papermill": {
     "duration": 0.071681,
     "end_time": "2023-03-26T17:44:00.231554",
     "exception": false,
     "start_time": "2023-03-26T17:44:00.159873",
     "status": "completed"
    },
    "tags": []
   },
   "outputs": [
    {
     "data": {
      "text/plain": [
       "(178, 13)"
      ]
     },
     "execution_count": 7,
     "metadata": {},
     "output_type": "execute_result"
    }
   ],
   "source": [
    "X.shape"
   ]
  },
  {
   "cell_type": "markdown",
   "id": "577d1c63",
   "metadata": {
    "papermill": {
     "duration": 0.055962,
     "end_time": "2023-03-26T17:44:00.346457",
     "exception": false,
     "start_time": "2023-03-26T17:44:00.290495",
     "status": "completed"
    },
    "tags": []
   },
   "source": [
    "## STANDARISATION"
   ]
  },
  {
   "cell_type": "code",
   "execution_count": 8,
   "id": "5e9511f8",
   "metadata": {
    "execution": {
     "iopub.execute_input": "2023-03-26T17:44:00.469333Z",
     "iopub.status.busy": "2023-03-26T17:44:00.468474Z",
     "iopub.status.idle": "2023-03-26T17:44:01.721850Z",
     "shell.execute_reply": "2023-03-26T17:44:01.720376Z"
    },
    "papermill": {
     "duration": 1.31934,
     "end_time": "2023-03-26T17:44:01.725007",
     "exception": false,
     "start_time": "2023-03-26T17:44:00.405667",
     "status": "completed"
    },
    "tags": []
   },
   "outputs": [
    {
     "data": {
      "text/plain": [
       "array([[ 1.51861254, -0.5622498 ,  0.23205254, ...,  0.36217728,\n",
       "         1.84791957,  1.01300893],\n",
       "       [ 0.24628963, -0.49941338, -0.82799632, ...,  0.40605066,\n",
       "         1.1134493 ,  0.96524152],\n",
       "       [ 0.19687903,  0.02123125,  1.10933436, ...,  0.31830389,\n",
       "         0.78858745,  1.39514818],\n",
       "       ...,\n",
       "       [ 0.33275817,  1.74474449, -0.38935541, ..., -1.61212515,\n",
       "        -1.48544548,  0.28057537],\n",
       "       [ 0.20923168,  0.22769377,  0.01273209, ..., -1.56825176,\n",
       "        -1.40069891,  0.29649784],\n",
       "       [ 1.39508604,  1.58316512,  1.36520822, ..., -1.52437837,\n",
       "        -1.42894777, -0.59516041]])"
      ]
     },
     "execution_count": 8,
     "metadata": {},
     "output_type": "execute_result"
    }
   ],
   "source": [
    "from sklearn.preprocessing import StandardScaler\n",
    "sc=StandardScaler()\n",
    "X_scaled=sc.fit_transform(X)\n",
    "X_scaled\n",
    "\n",
    "# X_scaled is a numpy array of shape X"
   ]
  },
  {
   "cell_type": "code",
   "execution_count": 9,
   "id": "03254e86",
   "metadata": {
    "execution": {
     "iopub.execute_input": "2023-03-26T17:44:01.841912Z",
     "iopub.status.busy": "2023-03-26T17:44:01.841151Z",
     "iopub.status.idle": "2023-03-26T17:44:01.850199Z",
     "shell.execute_reply": "2023-03-26T17:44:01.848775Z"
    },
    "papermill": {
     "duration": 0.071678,
     "end_time": "2023-03-26T17:44:01.852844",
     "exception": false,
     "start_time": "2023-03-26T17:44:01.781166",
     "status": "completed"
    },
    "tags": []
   },
   "outputs": [
    {
     "data": {
      "text/plain": [
       "(178, 13)"
      ]
     },
     "execution_count": 9,
     "metadata": {},
     "output_type": "execute_result"
    }
   ],
   "source": [
    "X_scaled.shape"
   ]
  },
  {
   "cell_type": "code",
   "execution_count": 10,
   "id": "c0429d1a",
   "metadata": {
    "execution": {
     "iopub.execute_input": "2023-03-26T17:44:01.968478Z",
     "iopub.status.busy": "2023-03-26T17:44:01.967648Z",
     "iopub.status.idle": "2023-03-26T17:44:01.993565Z",
     "shell.execute_reply": "2023-03-26T17:44:01.991891Z"
    },
    "papermill": {
     "duration": 0.088178,
     "end_time": "2023-03-26T17:44:01.996761",
     "exception": false,
     "start_time": "2023-03-26T17:44:01.908583",
     "status": "completed"
    },
    "tags": []
   },
   "outputs": [
    {
     "data": {
      "text/html": [
       "<div>\n",
       "<style scoped>\n",
       "    .dataframe tbody tr th:only-of-type {\n",
       "        vertical-align: middle;\n",
       "    }\n",
       "\n",
       "    .dataframe tbody tr th {\n",
       "        vertical-align: top;\n",
       "    }\n",
       "\n",
       "    .dataframe thead th {\n",
       "        text-align: right;\n",
       "    }\n",
       "</style>\n",
       "<table border=\"1\" class=\"dataframe\">\n",
       "  <thead>\n",
       "    <tr style=\"text-align: right;\">\n",
       "      <th></th>\n",
       "      <th>0</th>\n",
       "      <th>1</th>\n",
       "      <th>2</th>\n",
       "      <th>3</th>\n",
       "      <th>4</th>\n",
       "      <th>5</th>\n",
       "      <th>6</th>\n",
       "      <th>7</th>\n",
       "      <th>8</th>\n",
       "      <th>9</th>\n",
       "      <th>10</th>\n",
       "      <th>11</th>\n",
       "      <th>12</th>\n",
       "    </tr>\n",
       "  </thead>\n",
       "  <tbody>\n",
       "    <tr>\n",
       "      <th>0</th>\n",
       "      <td>1.518613</td>\n",
       "      <td>-0.562250</td>\n",
       "      <td>0.232053</td>\n",
       "      <td>-1.169593</td>\n",
       "      <td>1.913905</td>\n",
       "      <td>0.808997</td>\n",
       "      <td>1.034819</td>\n",
       "      <td>-0.659563</td>\n",
       "      <td>1.224884</td>\n",
       "      <td>0.251717</td>\n",
       "      <td>0.362177</td>\n",
       "      <td>1.847920</td>\n",
       "      <td>1.013009</td>\n",
       "    </tr>\n",
       "    <tr>\n",
       "      <th>1</th>\n",
       "      <td>0.246290</td>\n",
       "      <td>-0.499413</td>\n",
       "      <td>-0.827996</td>\n",
       "      <td>-2.490847</td>\n",
       "      <td>0.018145</td>\n",
       "      <td>0.568648</td>\n",
       "      <td>0.733629</td>\n",
       "      <td>-0.820719</td>\n",
       "      <td>-0.544721</td>\n",
       "      <td>-0.293321</td>\n",
       "      <td>0.406051</td>\n",
       "      <td>1.113449</td>\n",
       "      <td>0.965242</td>\n",
       "    </tr>\n",
       "    <tr>\n",
       "      <th>2</th>\n",
       "      <td>0.196879</td>\n",
       "      <td>0.021231</td>\n",
       "      <td>1.109334</td>\n",
       "      <td>-0.268738</td>\n",
       "      <td>0.088358</td>\n",
       "      <td>0.808997</td>\n",
       "      <td>1.215533</td>\n",
       "      <td>-0.498407</td>\n",
       "      <td>2.135968</td>\n",
       "      <td>0.269020</td>\n",
       "      <td>0.318304</td>\n",
       "      <td>0.788587</td>\n",
       "      <td>1.395148</td>\n",
       "    </tr>\n",
       "    <tr>\n",
       "      <th>3</th>\n",
       "      <td>1.691550</td>\n",
       "      <td>-0.346811</td>\n",
       "      <td>0.487926</td>\n",
       "      <td>-0.809251</td>\n",
       "      <td>0.930918</td>\n",
       "      <td>2.491446</td>\n",
       "      <td>1.466525</td>\n",
       "      <td>-0.981875</td>\n",
       "      <td>1.032155</td>\n",
       "      <td>1.186068</td>\n",
       "      <td>-0.427544</td>\n",
       "      <td>1.184071</td>\n",
       "      <td>2.334574</td>\n",
       "    </tr>\n",
       "    <tr>\n",
       "      <th>4</th>\n",
       "      <td>0.295700</td>\n",
       "      <td>0.227694</td>\n",
       "      <td>1.840403</td>\n",
       "      <td>0.451946</td>\n",
       "      <td>1.281985</td>\n",
       "      <td>0.808997</td>\n",
       "      <td>0.663351</td>\n",
       "      <td>0.226796</td>\n",
       "      <td>0.401404</td>\n",
       "      <td>-0.319276</td>\n",
       "      <td>0.362177</td>\n",
       "      <td>0.449601</td>\n",
       "      <td>-0.037874</td>\n",
       "    </tr>\n",
       "    <tr>\n",
       "      <th>...</th>\n",
       "      <td>...</td>\n",
       "      <td>...</td>\n",
       "      <td>...</td>\n",
       "      <td>...</td>\n",
       "      <td>...</td>\n",
       "      <td>...</td>\n",
       "      <td>...</td>\n",
       "      <td>...</td>\n",
       "      <td>...</td>\n",
       "      <td>...</td>\n",
       "      <td>...</td>\n",
       "      <td>...</td>\n",
       "      <td>...</td>\n",
       "    </tr>\n",
       "    <tr>\n",
       "      <th>173</th>\n",
       "      <td>0.876275</td>\n",
       "      <td>2.974543</td>\n",
       "      <td>0.305159</td>\n",
       "      <td>0.301803</td>\n",
       "      <td>-0.332922</td>\n",
       "      <td>-0.985614</td>\n",
       "      <td>-1.424900</td>\n",
       "      <td>1.274310</td>\n",
       "      <td>-0.930179</td>\n",
       "      <td>1.142811</td>\n",
       "      <td>-1.392758</td>\n",
       "      <td>-1.231206</td>\n",
       "      <td>-0.021952</td>\n",
       "    </tr>\n",
       "    <tr>\n",
       "      <th>174</th>\n",
       "      <td>0.493343</td>\n",
       "      <td>1.412609</td>\n",
       "      <td>0.414820</td>\n",
       "      <td>1.052516</td>\n",
       "      <td>0.158572</td>\n",
       "      <td>-0.793334</td>\n",
       "      <td>-1.284344</td>\n",
       "      <td>0.549108</td>\n",
       "      <td>-0.316950</td>\n",
       "      <td>0.969783</td>\n",
       "      <td>-1.129518</td>\n",
       "      <td>-1.485445</td>\n",
       "      <td>0.009893</td>\n",
       "    </tr>\n",
       "    <tr>\n",
       "      <th>175</th>\n",
       "      <td>0.332758</td>\n",
       "      <td>1.744744</td>\n",
       "      <td>-0.389355</td>\n",
       "      <td>0.151661</td>\n",
       "      <td>1.422412</td>\n",
       "      <td>-1.129824</td>\n",
       "      <td>-1.344582</td>\n",
       "      <td>0.549108</td>\n",
       "      <td>-0.422075</td>\n",
       "      <td>2.224236</td>\n",
       "      <td>-1.612125</td>\n",
       "      <td>-1.485445</td>\n",
       "      <td>0.280575</td>\n",
       "    </tr>\n",
       "    <tr>\n",
       "      <th>176</th>\n",
       "      <td>0.209232</td>\n",
       "      <td>0.227694</td>\n",
       "      <td>0.012732</td>\n",
       "      <td>0.151661</td>\n",
       "      <td>1.422412</td>\n",
       "      <td>-1.033684</td>\n",
       "      <td>-1.354622</td>\n",
       "      <td>1.354888</td>\n",
       "      <td>-0.229346</td>\n",
       "      <td>1.834923</td>\n",
       "      <td>-1.568252</td>\n",
       "      <td>-1.400699</td>\n",
       "      <td>0.296498</td>\n",
       "    </tr>\n",
       "    <tr>\n",
       "      <th>177</th>\n",
       "      <td>1.395086</td>\n",
       "      <td>1.583165</td>\n",
       "      <td>1.365208</td>\n",
       "      <td>1.502943</td>\n",
       "      <td>-0.262708</td>\n",
       "      <td>-0.392751</td>\n",
       "      <td>-1.274305</td>\n",
       "      <td>1.596623</td>\n",
       "      <td>-0.422075</td>\n",
       "      <td>1.791666</td>\n",
       "      <td>-1.524378</td>\n",
       "      <td>-1.428948</td>\n",
       "      <td>-0.595160</td>\n",
       "    </tr>\n",
       "  </tbody>\n",
       "</table>\n",
       "<p>178 rows × 13 columns</p>\n",
       "</div>"
      ],
      "text/plain": [
       "           0         1         2         3         4         5         6   \\\n",
       "0    1.518613 -0.562250  0.232053 -1.169593  1.913905  0.808997  1.034819   \n",
       "1    0.246290 -0.499413 -0.827996 -2.490847  0.018145  0.568648  0.733629   \n",
       "2    0.196879  0.021231  1.109334 -0.268738  0.088358  0.808997  1.215533   \n",
       "3    1.691550 -0.346811  0.487926 -0.809251  0.930918  2.491446  1.466525   \n",
       "4    0.295700  0.227694  1.840403  0.451946  1.281985  0.808997  0.663351   \n",
       "..        ...       ...       ...       ...       ...       ...       ...   \n",
       "173  0.876275  2.974543  0.305159  0.301803 -0.332922 -0.985614 -1.424900   \n",
       "174  0.493343  1.412609  0.414820  1.052516  0.158572 -0.793334 -1.284344   \n",
       "175  0.332758  1.744744 -0.389355  0.151661  1.422412 -1.129824 -1.344582   \n",
       "176  0.209232  0.227694  0.012732  0.151661  1.422412 -1.033684 -1.354622   \n",
       "177  1.395086  1.583165  1.365208  1.502943 -0.262708 -0.392751 -1.274305   \n",
       "\n",
       "           7         8         9         10        11        12  \n",
       "0   -0.659563  1.224884  0.251717  0.362177  1.847920  1.013009  \n",
       "1   -0.820719 -0.544721 -0.293321  0.406051  1.113449  0.965242  \n",
       "2   -0.498407  2.135968  0.269020  0.318304  0.788587  1.395148  \n",
       "3   -0.981875  1.032155  1.186068 -0.427544  1.184071  2.334574  \n",
       "4    0.226796  0.401404 -0.319276  0.362177  0.449601 -0.037874  \n",
       "..        ...       ...       ...       ...       ...       ...  \n",
       "173  1.274310 -0.930179  1.142811 -1.392758 -1.231206 -0.021952  \n",
       "174  0.549108 -0.316950  0.969783 -1.129518 -1.485445  0.009893  \n",
       "175  0.549108 -0.422075  2.224236 -1.612125 -1.485445  0.280575  \n",
       "176  1.354888 -0.229346  1.834923 -1.568252 -1.400699  0.296498  \n",
       "177  1.596623 -0.422075  1.791666 -1.524378 -1.428948 -0.595160  \n",
       "\n",
       "[178 rows x 13 columns]"
      ]
     },
     "execution_count": 10,
     "metadata": {},
     "output_type": "execute_result"
    }
   ],
   "source": [
    "X_df=pd.DataFrame(X_scaled)\n",
    "X_df"
   ]
  },
  {
   "cell_type": "markdown",
   "id": "547a638d",
   "metadata": {
    "papermill": {
     "duration": 0.057379,
     "end_time": "2023-03-26T17:44:02.111263",
     "exception": false,
     "start_time": "2023-03-26T17:44:02.053884",
     "status": "completed"
    },
    "tags": []
   },
   "source": [
    "The code you provided is using the StandardScaler class from the sklearn.preprocessing module to standardize the input data X.\n",
    "\n",
    "The fit_transform method is then called on the sc object to standardize X. This method applies the standardization to X and returns a new array X_scaled with the standardized values.\n",
    "\n",
    "Standardization is a common preprocessing step in machine learning that transforms the data so that it has a mean of 0 and a standard deviation of 1. This is often done to make the data easier to work with for certain algorithms or to compare different features that may have different scales.\n",
    "\n",
    "In this code, X is assumed to be a numpy array or a pandas dataframe containing the features to be standardized. The standardized features are then stored in X_scaled which can be used for further analysis or modeling."
   ]
  },
  {
   "cell_type": "markdown",
   "id": "1e851112",
   "metadata": {
    "papermill": {
     "duration": 0.152199,
     "end_time": "2023-03-26T17:44:02.320441",
     "exception": false,
     "start_time": "2023-03-26T17:44:02.168242",
     "status": "completed"
    },
    "tags": []
   },
   "source": [
    "## CONSTRUCTION OF THE COVARIANCE MATRIX"
   ]
  },
  {
   "cell_type": "code",
   "execution_count": 11,
   "id": "bde94c83",
   "metadata": {
    "execution": {
     "iopub.execute_input": "2023-03-26T17:44:02.438087Z",
     "iopub.status.busy": "2023-03-26T17:44:02.437559Z",
     "iopub.status.idle": "2023-03-26T17:44:02.450816Z",
     "shell.execute_reply": "2023-03-26T17:44:02.449507Z"
    },
    "papermill": {
     "duration": 0.075431,
     "end_time": "2023-03-26T17:44:02.453584",
     "exception": false,
     "start_time": "2023-03-26T17:44:02.378153",
     "status": "completed"
    },
    "tags": []
   },
   "outputs": [
    {
     "data": {
      "text/plain": [
       "array([[ 1.00564972,  0.09493026,  0.21273976, -0.31198788,  0.27232816,\n",
       "         0.29073446,  0.23815287, -0.15681042,  0.13747022,  0.549451  ,\n",
       "        -0.07215255,  0.07275191,  0.64735687],\n",
       "       [ 0.09493026,  1.00564972,  0.16497228,  0.29013035, -0.05488343,\n",
       "        -0.3370606 , -0.41332866,  0.29463237, -0.22199334,  0.25039204,\n",
       "        -0.56446685, -0.37079354, -0.19309537],\n",
       "       [ 0.21273976,  0.16497228,  1.00564972,  0.44587209,  0.28820583,\n",
       "         0.12970824,  0.11572743,  0.1872826 ,  0.00970647,  0.2603499 ,\n",
       "        -0.07508874,  0.00393333,  0.22488969],\n",
       "       [-0.31198788,  0.29013035,  0.44587209,  1.00564972, -0.0838039 ,\n",
       "        -0.32292752, -0.353355  ,  0.36396647, -0.19844168,  0.01883781,\n",
       "        -0.27550299, -0.27833221, -0.44308618],\n",
       "       [ 0.27232816, -0.05488343,  0.28820583, -0.0838039 ,  1.00564972,\n",
       "         0.21561254,  0.19688989, -0.25774204,  0.23777643,  0.20107967,\n",
       "         0.05571118,  0.06637684,  0.39557317],\n",
       "       [ 0.29073446, -0.3370606 ,  0.12970824, -0.32292752,  0.21561254,\n",
       "         1.00564972,  0.86944804, -0.45247731,  0.61587304, -0.05544792,\n",
       "         0.43613151,  0.70390388,  0.50092909],\n",
       "       [ 0.23815287, -0.41332866,  0.11572743, -0.353355  ,  0.19688989,\n",
       "         0.86944804,  1.00564972, -0.54093859,  0.65637929, -0.17335329,\n",
       "         0.54654907,  0.79164133,  0.49698518],\n",
       "       [-0.15681042,  0.29463237,  0.1872826 ,  0.36396647, -0.25774204,\n",
       "        -0.45247731, -0.54093859,  1.00564972, -0.36791202,  0.13984265,\n",
       "        -0.26412347, -0.50611293, -0.31314443],\n",
       "       [ 0.13747022, -0.22199334,  0.00970647, -0.19844168,  0.23777643,\n",
       "         0.61587304,  0.65637929, -0.36791202,  1.00564972, -0.02539259,\n",
       "         0.29721399,  0.52199968,  0.33228346],\n",
       "       [ 0.549451  ,  0.25039204,  0.2603499 ,  0.01883781,  0.20107967,\n",
       "        -0.05544792, -0.17335329,  0.13984265, -0.02539259,  1.00564972,\n",
       "        -0.52476129, -0.43123763,  0.31788599],\n",
       "       [-0.07215255, -0.56446685, -0.07508874, -0.27550299,  0.05571118,\n",
       "         0.43613151,  0.54654907, -0.26412347,  0.29721399, -0.52476129,\n",
       "         1.00564972,  0.56866303,  0.23751782],\n",
       "       [ 0.07275191, -0.37079354,  0.00393333, -0.27833221,  0.06637684,\n",
       "         0.70390388,  0.79164133, -0.50611293,  0.52199968, -0.43123763,\n",
       "         0.56866303,  1.00564972,  0.31452809],\n",
       "       [ 0.64735687, -0.19309537,  0.22488969, -0.44308618,  0.39557317,\n",
       "         0.50092909,  0.49698518, -0.31314443,  0.33228346,  0.31788599,\n",
       "         0.23751782,  0.31452809,  1.00564972]])"
      ]
     },
     "execution_count": 11,
     "metadata": {},
     "output_type": "execute_result"
    }
   ],
   "source": [
    "cm=np.cov(X_scaled.T)\n",
    "cm"
   ]
  },
  {
   "cell_type": "markdown",
   "id": "68738ddf",
   "metadata": {
    "papermill": {
     "duration": 0.059354,
     "end_time": "2023-03-26T17:44:02.571502",
     "exception": false,
     "start_time": "2023-03-26T17:44:02.512148",
     "status": "completed"
    },
    "tags": []
   },
   "source": [
    "The provided code calculates the covariance matrix cm of the standardized data X_scaled.\n",
    "\n",
    "The np.cov function from the NumPy library is used to calculate the covariance matrix. The T method is called on X_scaled to transpose the data so that each row represents a variable, and each column represents an observation.\n",
    "\n",
    "The resulting cm matrix is a square matrix where each element cm[i,j] represents the covariance between variables i and j. The diagonal elements cm[i,i] represent the variance of variable i.\n",
    "\n",
    "The covariance matrix is a useful tool in data analysis and machine learning because it provides information about the relationships between variables. Positive covariance indicates that two variables tend to increase or decrease together, while negative covariance indicates that they tend to move in opposite directions. The magnitude of the covariance indicates the strength of the relationship.\n",
    "\n",
    "Note that calculating the covariance matrix is often a necessary step before performing principal component analysis (PCA) or other multivariate techniques."
   ]
  },
  {
   "cell_type": "code",
   "execution_count": 12,
   "id": "6ad86386",
   "metadata": {
    "execution": {
     "iopub.execute_input": "2023-03-26T17:44:02.688873Z",
     "iopub.status.busy": "2023-03-26T17:44:02.688429Z",
     "iopub.status.idle": "2023-03-26T17:44:02.696058Z",
     "shell.execute_reply": "2023-03-26T17:44:02.694601Z"
    },
    "papermill": {
     "duration": 0.069558,
     "end_time": "2023-03-26T17:44:02.698694",
     "exception": false,
     "start_time": "2023-03-26T17:44:02.629136",
     "status": "completed"
    },
    "tags": []
   },
   "outputs": [
    {
     "data": {
      "text/plain": [
       "(13, 13)"
      ]
     },
     "execution_count": 12,
     "metadata": {},
     "output_type": "execute_result"
    }
   ],
   "source": [
    "cm.shape"
   ]
  },
  {
   "cell_type": "markdown",
   "id": "a4032ad5",
   "metadata": {
    "papermill": {
     "duration": 0.056949,
     "end_time": "2023-03-26T17:44:02.813459",
     "exception": false,
     "start_time": "2023-03-26T17:44:02.756510",
     "status": "completed"
    },
    "tags": []
   },
   "source": [
    "## Finding eigen value, eigen vector"
   ]
  },
  {
   "cell_type": "code",
   "execution_count": 13,
   "id": "b4452b2a",
   "metadata": {
    "execution": {
     "iopub.execute_input": "2023-03-26T17:44:02.934240Z",
     "iopub.status.busy": "2023-03-26T17:44:02.933741Z",
     "iopub.status.idle": "2023-03-26T17:44:02.958062Z",
     "shell.execute_reply": "2023-03-26T17:44:02.956891Z"
    },
    "papermill": {
     "duration": 0.088697,
     "end_time": "2023-03-26T17:44:02.960767",
     "exception": false,
     "start_time": "2023-03-26T17:44:02.872070",
     "status": "completed"
    },
    "tags": []
   },
   "outputs": [
    {
     "data": {
      "text/plain": [
       "array([4.73243698, 2.51108093, 1.45424187, 0.92416587, 0.85804868,\n",
       "       0.64528221, 0.55414147, 0.10396199, 0.35046627, 0.16972374,\n",
       "       0.29051203, 0.22706428, 0.25232001])"
      ]
     },
     "execution_count": 13,
     "metadata": {},
     "output_type": "execute_result"
    }
   ],
   "source": [
    "eig_val,eig_vec=np.linalg.eig(cm)\n",
    "eig_val "
   ]
  },
  {
   "cell_type": "markdown",
   "id": "9a5c4488",
   "metadata": {
    "papermill": {
     "duration": 0.058026,
     "end_time": "2023-03-26T17:44:03.076835",
     "exception": false,
     "start_time": "2023-03-26T17:44:03.018809",
     "status": "completed"
    },
    "tags": []
   },
   "source": [
    "The code you provided calculates the eigenvalues and eigenvectors of the covariance matrix cm using the NumPy linalg.eig function.\n",
    "\n",
    "The eig function returns a tuple (eig_val, eig_vec) containing the eigenvalues and eigenvectors of the matrix cm.\n",
    "\n",
    "The line eig_val you provided prints out the eigenvalues of the covariance matrix, which are stored in the eig_val variable.\n",
    "\n",
    "The eigenvalues represent the amount of variance explained by each principal component (PC) in a principal component analysis (PCA). The eigenvectors represent the direction of each principal component.\n",
    "\n",
    "The eigenvalues are sorted in descending order, so the first eigenvalue represents the largest amount of variance explained by any PC, the second eigenvalue represents the second largest amount of variance explained, and so on.\n",
    "\n",
    "In general, PCs with larger eigenvalues explain more of the variation in the data, and are therefore more important in describing the underlying structure of the data.\n"
   ]
  },
  {
   "cell_type": "code",
   "execution_count": 14,
   "id": "6bef005f",
   "metadata": {
    "execution": {
     "iopub.execute_input": "2023-03-26T17:44:03.196937Z",
     "iopub.status.busy": "2023-03-26T17:44:03.196007Z",
     "iopub.status.idle": "2023-03-26T17:44:03.206651Z",
     "shell.execute_reply": "2023-03-26T17:44:03.205262Z"
    },
    "papermill": {
     "duration": 0.074891,
     "end_time": "2023-03-26T17:44:03.209645",
     "exception": false,
     "start_time": "2023-03-26T17:44:03.134754",
     "status": "completed"
    },
    "tags": []
   },
   "outputs": [
    {
     "data": {
      "text/plain": [
       "array([[-0.1443294 ,  0.48365155, -0.20738262,  0.0178563 , -0.26566365,\n",
       "         0.21353865,  0.05639636, -0.01496997,  0.39613926, -0.26628645,\n",
       "        -0.50861912, -0.22591696,  0.21160473],\n",
       "       [ 0.24518758,  0.22493093,  0.08901289, -0.53689028,  0.03521363,\n",
       "         0.53681385, -0.42052391, -0.02596375,  0.06582674,  0.12169604,\n",
       "         0.07528304,  0.07648554, -0.30907994],\n",
       "       [ 0.00205106,  0.31606881,  0.6262239 ,  0.21417556, -0.14302547,\n",
       "         0.15447466,  0.14917061,  0.14121803, -0.17026002, -0.04962237,\n",
       "         0.30769445, -0.49869142, -0.02712539],\n",
       "       [ 0.23932041, -0.0105905 ,  0.61208035, -0.06085941,  0.06610294,\n",
       "        -0.10082451,  0.28696914, -0.09168285,  0.42797018, -0.05574287,\n",
       "        -0.20044931,  0.47931378,  0.05279942],\n",
       "       [-0.14199204,  0.299634  ,  0.13075693,  0.35179658,  0.72704851,\n",
       "         0.03814394, -0.3228833 , -0.05677422, -0.15636143,  0.06222011,\n",
       "        -0.27140257,  0.07128891,  0.06787022],\n",
       "       [-0.39466085,  0.06503951,  0.14617896, -0.19806835, -0.14931841,\n",
       "        -0.0841223 ,  0.02792498,  0.46390791, -0.40593409, -0.30388245,\n",
       "        -0.28603452,  0.30434119, -0.32013135],\n",
       "       [-0.4229343 , -0.00335981,  0.1506819 , -0.15229479, -0.10902584,\n",
       "        -0.01892002,  0.06068521, -0.83225706, -0.18724536, -0.04289883,\n",
       "        -0.04957849, -0.02569409, -0.16315051],\n",
       "       [ 0.2985331 ,  0.02877949,  0.17036816,  0.20330102, -0.50070298,\n",
       "        -0.25859401, -0.59544729, -0.11403985, -0.23328465,  0.04235219,\n",
       "        -0.19550132,  0.11689586,  0.21553507],\n",
       "       [-0.31342949,  0.03930172,  0.14945431, -0.39905653,  0.13685982,\n",
       "        -0.53379539, -0.37213935,  0.11691707,  0.36822675, -0.09555303,\n",
       "         0.20914487, -0.23736257,  0.1341839 ],\n",
       "       [ 0.0886167 ,  0.52999567, -0.13730621, -0.06592568, -0.07643678,\n",
       "        -0.41864414,  0.22771214,  0.0119928 , -0.03379692,  0.60422163,\n",
       "        -0.05621752,  0.0318388 , -0.29077518],\n",
       "       [-0.29671456, -0.27923515,  0.08522192,  0.42777141, -0.17361452,\n",
       "         0.10598274, -0.23207564,  0.08988884,  0.43662362,  0.259214  ,\n",
       "        -0.08582839, -0.04821201, -0.52239889],\n",
       "       [-0.37616741, -0.16449619,  0.16600459, -0.18412074, -0.10116099,\n",
       "         0.26585107,  0.0447637 ,  0.15671813, -0.07810789,  0.60095872,\n",
       "        -0.1372269 ,  0.0464233 ,  0.52370587],\n",
       "       [-0.28675223,  0.36490283, -0.12674592,  0.23207086, -0.1578688 ,\n",
       "         0.11972557, -0.0768045 , -0.01444734,  0.12002267, -0.07940162,\n",
       "         0.57578611,  0.53926983,  0.162116  ]])"
      ]
     },
     "execution_count": 14,
     "metadata": {},
     "output_type": "execute_result"
    }
   ],
   "source": [
    "eig_vec"
   ]
  },
  {
   "cell_type": "code",
   "execution_count": 15,
   "id": "78707d44",
   "metadata": {
    "execution": {
     "iopub.execute_input": "2023-03-26T17:44:03.330052Z",
     "iopub.status.busy": "2023-03-26T17:44:03.328914Z",
     "iopub.status.idle": "2023-03-26T17:44:03.337428Z",
     "shell.execute_reply": "2023-03-26T17:44:03.335879Z"
    },
    "papermill": {
     "duration": 0.071388,
     "end_time": "2023-03-26T17:44:03.339932",
     "exception": false,
     "start_time": "2023-03-26T17:44:03.268544",
     "status": "completed"
    },
    "tags": []
   },
   "outputs": [
    {
     "data": {
      "text/plain": [
       "(13, 13)"
      ]
     },
     "execution_count": 15,
     "metadata": {},
     "output_type": "execute_result"
    }
   ],
   "source": [
    "eig_vec.shape"
   ]
  },
  {
   "cell_type": "markdown",
   "id": "740d6cfa",
   "metadata": {
    "papermill": {
     "duration": 0.059791,
     "end_time": "2023-03-26T17:44:03.458106",
     "exception": false,
     "start_time": "2023-03-26T17:44:03.398315",
     "status": "completed"
    },
    "tags": []
   },
   "source": [
    "## Sorting eigen values"
   ]
  },
  {
   "cell_type": "code",
   "execution_count": 16,
   "id": "4aab51ed",
   "metadata": {
    "execution": {
     "iopub.execute_input": "2023-03-26T17:44:03.581707Z",
     "iopub.status.busy": "2023-03-26T17:44:03.581253Z",
     "iopub.status.idle": "2023-03-26T17:44:03.590640Z",
     "shell.execute_reply": "2023-03-26T17:44:03.589038Z"
    },
    "papermill": {
     "duration": 0.071842,
     "end_time": "2023-03-26T17:44:03.593531",
     "exception": false,
     "start_time": "2023-03-26T17:44:03.521689",
     "status": "completed"
    },
    "tags": []
   },
   "outputs": [
    {
     "data": {
      "text/plain": [
       "[4.7324369775835935,\n",
       " 2.511080929645125,\n",
       " 1.4542418678464686,\n",
       " 0.9241658668248736,\n",
       " 0.8580486765371114,\n",
       " 0.6452822124678544,\n",
       " 0.5541414662457832,\n",
       " 0.3504662749462544,\n",
       " 0.29051203269397685,\n",
       " 0.252320010360825,\n",
       " 0.2270642817308853,\n",
       " 0.16972373898012166,\n",
       " 0.10396199182075287]"
      ]
     },
     "execution_count": 16,
     "metadata": {},
     "output_type": "execute_result"
    }
   ],
   "source": [
    "sorted_eig_val=[i for i in sorted(eig_val, reverse=True)]\n",
    "sorted_eig_val"
   ]
  },
  {
   "cell_type": "markdown",
   "id": "8960dab7",
   "metadata": {
    "papermill": {
     "duration": 0.058674,
     "end_time": "2023-03-26T17:44:03.710840",
     "exception": false,
     "start_time": "2023-03-26T17:44:03.652166",
     "status": "completed"
    },
    "tags": []
   },
   "source": [
    "## Choosing the dimension =2"
   ]
  },
  {
   "cell_type": "code",
   "execution_count": 17,
   "id": "2822248d",
   "metadata": {
    "execution": {
     "iopub.execute_input": "2023-03-26T17:44:03.829900Z",
     "iopub.status.busy": "2023-03-26T17:44:03.829470Z",
     "iopub.status.idle": "2023-03-26T17:44:03.837273Z",
     "shell.execute_reply": "2023-03-26T17:44:03.835845Z"
    },
    "papermill": {
     "duration": 0.071104,
     "end_time": "2023-03-26T17:44:03.840293",
     "exception": false,
     "start_time": "2023-03-26T17:44:03.769189",
     "status": "completed"
    },
    "tags": []
   },
   "outputs": [
    {
     "data": {
      "text/plain": [
       "13.073446327683627"
      ]
     },
     "execution_count": 17,
     "metadata": {},
     "output_type": "execute_result"
    }
   ],
   "source": [
    "tot=sum(sorted_eig_val)\n",
    "tot"
   ]
  },
  {
   "cell_type": "code",
   "execution_count": 18,
   "id": "711d83ea",
   "metadata": {
    "execution": {
     "iopub.execute_input": "2023-03-26T17:44:03.961617Z",
     "iopub.status.busy": "2023-03-26T17:44:03.961113Z",
     "iopub.status.idle": "2023-03-26T17:44:03.968888Z",
     "shell.execute_reply": "2023-03-26T17:44:03.967910Z"
    },
    "papermill": {
     "duration": 0.071294,
     "end_time": "2023-03-26T17:44:03.971504",
     "exception": false,
     "start_time": "2023-03-26T17:44:03.900210",
     "status": "completed"
    },
    "tags": []
   },
   "outputs": [
    {
     "data": {
      "text/plain": [
       "[0.36198848099926334,\n",
       " 0.19207490257008936,\n",
       " 0.11123630536249988,\n",
       " 0.07069030182714023,\n",
       " 0.06563293679648599,\n",
       " 0.049358233192225646,\n",
       " 0.04238679322623316,\n",
       " 0.026807489483788666,\n",
       " 0.022221534047897087,\n",
       " 0.01930019093944079,\n",
       " 0.017368356899899164,\n",
       " 0.01298232575604214,\n",
       " 0.007952148898994487]"
      ]
     },
     "execution_count": 18,
     "metadata": {},
     "output_type": "execute_result"
    }
   ],
   "source": [
    "exp_var=[(i/tot) for i in sorted_eig_val]\n",
    "exp_var"
   ]
  },
  {
   "cell_type": "code",
   "execution_count": 19,
   "id": "61294350",
   "metadata": {
    "execution": {
     "iopub.execute_input": "2023-03-26T17:44:04.090679Z",
     "iopub.status.busy": "2023-03-26T17:44:04.090213Z",
     "iopub.status.idle": "2023-03-26T17:44:04.098704Z",
     "shell.execute_reply": "2023-03-26T17:44:04.097214Z"
    },
    "papermill": {
     "duration": 0.071039,
     "end_time": "2023-03-26T17:44:04.101257",
     "exception": false,
     "start_time": "2023-03-26T17:44:04.030218",
     "status": "completed"
    },
    "tags": []
   },
   "outputs": [
    {
     "data": {
      "text/plain": [
       "array([0.36198848, 0.55406338, 0.66529969, 0.73598999, 0.80162293,\n",
       "       0.85098116, 0.89336795, 0.92017544, 0.94239698, 0.96169717,\n",
       "       0.97906553, 0.99204785, 1.        ])"
      ]
     },
     "execution_count": 19,
     "metadata": {},
     "output_type": "execute_result"
    }
   ],
   "source": [
    "cum_exp_var=np.cumsum(exp_var)\n",
    "cum_exp_var"
   ]
  },
  {
   "cell_type": "markdown",
   "id": "75999820",
   "metadata": {
    "papermill": {
     "duration": 0.058248,
     "end_time": "2023-03-26T17:44:04.218515",
     "exception": false,
     "start_time": "2023-03-26T17:44:04.160267",
     "status": "completed"
    },
    "tags": []
   },
   "source": [
    "## Plotting"
   ]
  },
  {
   "cell_type": "code",
   "execution_count": 20,
   "id": "c0fb6a30",
   "metadata": {
    "execution": {
     "iopub.execute_input": "2023-03-26T17:44:04.337837Z",
     "iopub.status.busy": "2023-03-26T17:44:04.337372Z",
     "iopub.status.idle": "2023-03-26T17:44:04.675280Z",
     "shell.execute_reply": "2023-03-26T17:44:04.673817Z"
    },
    "papermill": {
     "duration": 0.40206,
     "end_time": "2023-03-26T17:44:04.678513",
     "exception": false,
     "start_time": "2023-03-26T17:44:04.276453",
     "status": "completed"
    },
    "tags": []
   },
   "outputs": [
    {
     "data": {
      "image/png": "[encoded data removed]",
      "text/plain": [
       "<Figure size 432x288 with 1 Axes>"
      ]
     },
     "metadata": {
      "needs_background": "light"
     },
     "output_type": "display_data"
    }
   ],
   "source": [
    "# This value for range will change based on the number of principal components derived from the dataset as per above step\n",
    "# This is also equivalent to the number of features in the dataset excluding target\n",
    "plt.bar(range(1,14), exp_var,label='Explained Variance')\n",
    "plt.xlabel('Principal Component')\n",
    "plt.ylabel(' Explained Variance')\n",
    "plt.legend();"
   ]
  },
  {
   "cell_type": "code",
   "execution_count": 21,
   "id": "ed53a3a3",
   "metadata": {
    "execution": {
     "iopub.execute_input": "2023-03-26T17:44:04.802215Z",
     "iopub.status.busy": "2023-03-26T17:44:04.801716Z",
     "iopub.status.idle": "2023-03-26T17:44:05.147341Z",
     "shell.execute_reply": "2023-03-26T17:44:05.145336Z"
    },
    "papermill": {
     "duration": 0.411735,
     "end_time": "2023-03-26T17:44:05.151336",
     "exception": false,
     "start_time": "2023-03-26T17:44:04.739601",
     "status": "completed"
    },
    "tags": []
   },
   "outputs": [
    {
     "data": {
      "image/png": "[encoded data removed]",
      "text/plain": [
       "<Figure size 720x504 with 1 Axes>"
      ]
     },
     "metadata": {
      "needs_background": "light"
     },
     "output_type": "display_data"
    }
   ],
   "source": [
    "plt.figure(figsize=(10,7))\n",
    "plt.bar(range(1,14),exp_var, label= 'Variance Explained');\n",
    "plt.step(range(1,14),cum_exp_var,label='Cum Variance Explained');\n",
    "plt.xlabel('Principal Component')\n",
    "plt.ylabel('Cum Variance Explained')\n",
    "plt.title('PCA plot according to Variance explained')\n",
    "plt.legend()\n",
    "plt.show()"
   ]
  },
  {
   "cell_type": "markdown",
   "id": "710ad051",
   "metadata": {
    "papermill": {
     "duration": 0.062225,
     "end_time": "2023-03-26T17:44:05.293505",
     "exception": false,
     "start_time": "2023-03-26T17:44:05.231280",
     "status": "completed"
    },
    "tags": []
   },
   "source": [
    "## Construction of projection matrix"
   ]
  },
  {
   "cell_type": "code",
   "execution_count": 22,
   "id": "196f1b34",
   "metadata": {
    "execution": {
     "iopub.execute_input": "2023-03-26T17:44:05.435627Z",
     "iopub.status.busy": "2023-03-26T17:44:05.435185Z",
     "iopub.status.idle": "2023-03-26T17:44:05.449703Z",
     "shell.execute_reply": "2023-03-26T17:44:05.448391Z"
    },
    "papermill": {
     "duration": 0.088262,
     "end_time": "2023-03-26T17:44:05.452368",
     "exception": false,
     "start_time": "2023-03-26T17:44:05.364106",
     "status": "completed"
    },
    "tags": []
   },
   "outputs": [
    {
     "data": {
      "text/plain": [
       "[(4.7324369775835935,\n",
       "  array([-0.1443294 ,  0.24518758,  0.00205106,  0.23932041, -0.14199204,\n",
       "         -0.39466085, -0.4229343 ,  0.2985331 , -0.31342949,  0.0886167 ,\n",
       "         -0.29671456, -0.37616741, -0.28675223])),\n",
       " (2.511080929645125,\n",
       "  array([ 0.48365155,  0.22493093,  0.31606881, -0.0105905 ,  0.299634  ,\n",
       "          0.06503951, -0.00335981,  0.02877949,  0.03930172,  0.52999567,\n",
       "         -0.27923515, -0.16449619,  0.36490283])),\n",
       " (1.4542418678464686,\n",
       "  array([-0.20738262,  0.08901289,  0.6262239 ,  0.61208035,  0.13075693,\n",
       "          0.14617896,  0.1506819 ,  0.17036816,  0.14945431, -0.13730621,\n",
       "          0.08522192,  0.16600459, -0.12674592])),\n",
       " (0.9241658668248736,\n",
       "  array([ 0.0178563 , -0.53689028,  0.21417556, -0.06085941,  0.35179658,\n",
       "         -0.19806835, -0.15229479,  0.20330102, -0.39905653, -0.06592568,\n",
       "          0.42777141, -0.18412074,  0.23207086])),\n",
       " (0.8580486765371114,\n",
       "  array([-0.26566365,  0.03521363, -0.14302547,  0.06610294,  0.72704851,\n",
       "         -0.14931841, -0.10902584, -0.50070298,  0.13685982, -0.07643678,\n",
       "         -0.17361452, -0.10116099, -0.1578688 ])),\n",
       " (0.6452822124678544,\n",
       "  array([ 0.21353865,  0.53681385,  0.15447466, -0.10082451,  0.03814394,\n",
       "         -0.0841223 , -0.01892002, -0.25859401, -0.53379539, -0.41864414,\n",
       "          0.10598274,  0.26585107,  0.11972557])),\n",
       " (0.5541414662457832,\n",
       "  array([ 0.05639636, -0.42052391,  0.14917061,  0.28696914, -0.3228833 ,\n",
       "          0.02792498,  0.06068521, -0.59544729, -0.37213935,  0.22771214,\n",
       "         -0.23207564,  0.0447637 , -0.0768045 ])),\n",
       " (0.10396199182075287,\n",
       "  array([-0.01496997, -0.02596375,  0.14121803, -0.09168285, -0.05677422,\n",
       "          0.46390791, -0.83225706, -0.11403985,  0.11691707,  0.0119928 ,\n",
       "          0.08988884,  0.15671813, -0.01444734])),\n",
       " (0.3504662749462544,\n",
       "  array([ 0.39613926,  0.06582674, -0.17026002,  0.42797018, -0.15636143,\n",
       "         -0.40593409, -0.18724536, -0.23328465,  0.36822675, -0.03379692,\n",
       "          0.43662362, -0.07810789,  0.12002267])),\n",
       " (0.16972373898012166,\n",
       "  array([-0.26628645,  0.12169604, -0.04962237, -0.05574287,  0.06222011,\n",
       "         -0.30388245, -0.04289883,  0.04235219, -0.09555303,  0.60422163,\n",
       "          0.259214  ,  0.60095872, -0.07940162])),\n",
       " (0.29051203269397685,\n",
       "  array([-0.50861912,  0.07528304,  0.30769445, -0.20044931, -0.27140257,\n",
       "         -0.28603452, -0.04957849, -0.19550132,  0.20914487, -0.05621752,\n",
       "         -0.08582839, -0.1372269 ,  0.57578611])),\n",
       " (0.2270642817308853,\n",
       "  array([-0.22591696,  0.07648554, -0.49869142,  0.47931378,  0.07128891,\n",
       "          0.30434119, -0.02569409,  0.11689586, -0.23736257,  0.0318388 ,\n",
       "         -0.04821201,  0.0464233 ,  0.53926983])),\n",
       " (0.252320010360825,\n",
       "  array([ 0.21160473, -0.30907994, -0.02712539,  0.05279942,  0.06787022,\n",
       "         -0.32013135, -0.16315051,  0.21553507,  0.1341839 , -0.29077518,\n",
       "         -0.52239889,  0.52370587,  0.162116  ]))]"
      ]
     },
     "execution_count": 22,
     "metadata": {},
     "output_type": "execute_result"
    }
   ],
   "source": [
    "eigen_pair=[(np.abs(eig_val[i]),eig_vec[:,i]) for i in range(len(eig_val))]\n",
    "eigen_pair"
   ]
  },
  {
   "cell_type": "markdown",
   "id": "b46d989a",
   "metadata": {
    "papermill": {
     "duration": 0.060644,
     "end_time": "2023-03-26T17:44:05.573222",
     "exception": false,
     "start_time": "2023-03-26T17:44:05.512578",
     "status": "completed"
    },
    "tags": []
   },
   "source": [
    "The code you provided creates a list of tuples called eigen_pair, where each tuple contains the absolute value of an eigenvalue and the corresponding eigenvector from the eig_val and eig_vec arrays, respectively.\n",
    "\n",
    "The list is created using a list comprehension that iterates over the length of eig_val, creating a tuple for each index i. The np.abs function is used to take the absolute value of each eigenvalue, which ensures that they are sorted in descending order based on magnitude.\n",
    "\n",
    "The eig_vec[:,i] expression extracts the eigenvector corresponding to the i-th eigenvalue, using NumPy's indexing syntax for a two-dimensional array.\n",
    "\n",
    "The resulting eigen_pair list contains tuples where the first element is the absolute value of the eigenvalue, and the second element is the corresponding eigenvector. This list can be sorted based on the eigenvalues to determine the principal components that explain the most variance in the data."
   ]
  },
  {
   "cell_type": "code",
   "execution_count": 23,
   "id": "79d7c46a",
   "metadata": {
    "execution": {
     "iopub.execute_input": "2023-03-26T17:44:05.697275Z",
     "iopub.status.busy": "2023-03-26T17:44:05.696360Z",
     "iopub.status.idle": "2023-03-26T17:44:05.702761Z",
     "shell.execute_reply": "2023-03-26T17:44:05.701562Z"
    },
    "papermill": {
     "duration": 0.071347,
     "end_time": "2023-03-26T17:44:05.705497",
     "exception": false,
     "start_time": "2023-03-26T17:44:05.634150",
     "status": "completed"
    },
    "tags": []
   },
   "outputs": [],
   "source": [
    "# Taking only 2 dimension\n",
    "\n",
    "w=np.hstack((eigen_pair[0][1][:,np.newaxis],\n",
    "            eigen_pair[1][1][:,np.newaxis]))"
   ]
  },
  {
   "cell_type": "code",
   "execution_count": 24,
   "id": "8a5fbad2",
   "metadata": {
    "execution": {
     "iopub.execute_input": "2023-03-26T17:44:05.832778Z",
     "iopub.status.busy": "2023-03-26T17:44:05.831815Z",
     "iopub.status.idle": "2023-03-26T17:44:05.840190Z",
     "shell.execute_reply": "2023-03-26T17:44:05.838986Z"
    },
    "papermill": {
     "duration": 0.074213,
     "end_time": "2023-03-26T17:44:05.842837",
     "exception": false,
     "start_time": "2023-03-26T17:44:05.768624",
     "status": "completed"
    },
    "tags": []
   },
   "outputs": [
    {
     "data": {
      "text/plain": [
       "array([[-0.1443294 ,  0.48365155],\n",
       "       [ 0.24518758,  0.22493093],\n",
       "       [ 0.00205106,  0.31606881],\n",
       "       [ 0.23932041, -0.0105905 ],\n",
       "       [-0.14199204,  0.299634  ],\n",
       "       [-0.39466085,  0.06503951],\n",
       "       [-0.4229343 , -0.00335981],\n",
       "       [ 0.2985331 ,  0.02877949],\n",
       "       [-0.31342949,  0.03930172],\n",
       "       [ 0.0886167 ,  0.52999567],\n",
       "       [-0.29671456, -0.27923515],\n",
       "       [-0.37616741, -0.16449619],\n",
       "       [-0.28675223,  0.36490283]])"
      ]
     },
     "execution_count": 24,
     "metadata": {},
     "output_type": "execute_result"
    }
   ],
   "source": [
    "w\n",
    "# This is the pairwise elements from the first two principal components"
   ]
  },
  {
   "cell_type": "markdown",
   "id": "73b3045b",
   "metadata": {
    "papermill": {
     "duration": 0.062675,
     "end_time": "2023-03-26T17:44:05.967233",
     "exception": false,
     "start_time": "2023-03-26T17:44:05.904558",
     "status": "completed"
    },
    "tags": []
   },
   "source": [
    "The code you provided selects the first two eigenvectors (i.e., the eigenvectors corresponding to the two largest eigenvalues) from the eigen_pair list, and stacks them horizontally using NumPy's hstack function.\n",
    "\n",
    "The resulting matrix w has two columns, where each column contains the weights (i.e., coefficients) assigned to each standardized feature by the corresponding principal component.\n",
    "\n",
    "By stacking the first two eigenvectors horizontally, w defines a 2-dimensional subspace of the original feature space. This subspace represents the most important directions (i.e., dimensions) of variation in the data, as determined by the PCA.\n",
    "\n",
    "This operation effectively reduces the dimensionality of the data from the original number of features to 2, while retaining as much of the original variation in the data as possible."
   ]
  },
  {
   "cell_type": "code",
   "execution_count": 25,
   "id": "2b9b55c9",
   "metadata": {
    "execution": {
     "iopub.execute_input": "2023-03-26T17:44:06.092331Z",
     "iopub.status.busy": "2023-03-26T17:44:06.090950Z",
     "iopub.status.idle": "2023-03-26T17:44:06.099003Z",
     "shell.execute_reply": "2023-03-26T17:44:06.097465Z"
    },
    "papermill": {
     "duration": 0.073649,
     "end_time": "2023-03-26T17:44:06.101949",
     "exception": false,
     "start_time": "2023-03-26T17:44:06.028300",
     "status": "completed"
    },
    "tags": []
   },
   "outputs": [
    {
     "data": {
      "text/plain": [
       "(13, 2)"
      ]
     },
     "execution_count": 25,
     "metadata": {},
     "output_type": "execute_result"
    }
   ],
   "source": [
    "w.shape"
   ]
  },
  {
   "cell_type": "markdown",
   "id": "a395e057",
   "metadata": {
    "papermill": {
     "duration": 0.060805,
     "end_time": "2023-03-26T17:44:06.223366",
     "exception": false,
     "start_time": "2023-03-26T17:44:06.162561",
     "status": "completed"
    },
    "tags": []
   },
   "source": [
    "## Transforming 13 dim data to 2 dim"
   ]
  },
  {
   "cell_type": "code",
   "execution_count": 26,
   "id": "05d3240d",
   "metadata": {
    "execution": {
     "iopub.execute_input": "2023-03-26T17:44:06.347311Z",
     "iopub.status.busy": "2023-03-26T17:44:06.346802Z",
     "iopub.status.idle": "2023-03-26T17:44:06.355035Z",
     "shell.execute_reply": "2023-03-26T17:44:06.353513Z"
    },
    "papermill": {
     "duration": 0.073831,
     "end_time": "2023-03-26T17:44:06.357885",
     "exception": false,
     "start_time": "2023-03-26T17:44:06.284054",
     "status": "completed"
    },
    "tags": []
   },
   "outputs": [
    {
     "data": {
      "text/plain": [
       "(178, 13)"
      ]
     },
     "execution_count": 26,
     "metadata": {},
     "output_type": "execute_result"
    }
   ],
   "source": [
    "X_scaled.shape"
   ]
  },
  {
   "cell_type": "code",
   "execution_count": 27,
   "id": "49babe60",
   "metadata": {
    "execution": {
     "iopub.execute_input": "2023-03-26T17:44:06.485329Z",
     "iopub.status.busy": "2023-03-26T17:44:06.483895Z",
     "iopub.status.idle": "2023-03-26T17:44:06.491665Z",
     "shell.execute_reply": "2023-03-26T17:44:06.490421Z"
    },
    "papermill": {
     "duration": 0.074415,
     "end_time": "2023-03-26T17:44:06.494335",
     "exception": false,
     "start_time": "2023-03-26T17:44:06.419920",
     "status": "completed"
    },
    "tags": []
   },
   "outputs": [
    {
     "data": {
      "text/plain": [
       "(13, 2)"
      ]
     },
     "execution_count": 27,
     "metadata": {},
     "output_type": "execute_result"
    }
   ],
   "source": [
    "w.shape"
   ]
  },
  {
   "cell_type": "code",
   "execution_count": 28,
   "id": "3ff45280",
   "metadata": {
    "execution": {
     "iopub.execute_input": "2023-03-26T17:44:06.623165Z",
     "iopub.status.busy": "2023-03-26T17:44:06.621933Z",
     "iopub.status.idle": "2023-03-26T17:44:06.633846Z",
     "shell.execute_reply": "2023-03-26T17:44:06.632778Z"
    },
    "papermill": {
     "duration": 0.077793,
     "end_time": "2023-03-26T17:44:06.636469",
     "exception": false,
     "start_time": "2023-03-26T17:44:06.558676",
     "status": "completed"
    },
    "tags": []
   },
   "outputs": [
    {
     "data": {
      "text/plain": [
       "array([[-3.31675081,  1.44346263],\n",
       "       [-2.20946492, -0.33339289],\n",
       "       [-2.51674015,  1.0311513 ],\n",
       "       [-3.75706561,  2.75637191],\n",
       "       [-1.00890849,  0.86983082],\n",
       "       [-3.05025392,  2.12240111],\n",
       "       [-2.44908967,  1.17485013],\n",
       "       [-2.05943687,  1.60896307],\n",
       "       [-2.5108743 ,  0.91807096],\n",
       "       [-2.75362819,  0.78943767],\n",
       "       [-3.47973668,  1.30233324],\n",
       "       [-1.7547529 ,  0.61197723],\n",
       "       [-2.11346234,  0.67570634],\n",
       "       [-3.45815682,  1.13062988],\n",
       "       [-4.31278391,  2.09597558],\n",
       "       [-2.3051882 ,  1.66255173],\n",
       "       [-2.17195527,  2.32730534],\n",
       "       [-1.89897118,  1.63136888],\n",
       "       [-3.54198508,  2.51834367],\n",
       "       [-2.0845222 ,  1.06113799],\n",
       "       [-3.12440254,  0.78689711],\n",
       "       [-1.08657007,  0.24174355],\n",
       "       [-2.53522408, -0.09184062],\n",
       "       [-1.64498834, -0.51627893],\n",
       "       [-1.76157587, -0.31714893],\n",
       "       [-0.9900791 ,  0.94066734],\n",
       "       [-1.77527763,  0.68617513],\n",
       "       [-1.23542396, -0.08980704],\n",
       "       [-2.18840633,  0.68956962],\n",
       "       [-2.25610898,  0.19146194],\n",
       "       [-2.50022003,  1.24083383],\n",
       "       [-2.67741105,  1.47187365],\n",
       "       [-1.62857912,  0.05270445],\n",
       "       [-1.90269086,  1.63306043],\n",
       "       [-1.41038853,  0.69793432],\n",
       "       [-1.90382623,  0.17671095],\n",
       "       [-1.38486223,  0.65863985],\n",
       "       [-1.12220741,  0.11410976],\n",
       "       [-1.5021945 , -0.76943201],\n",
       "       [-2.52980109,  1.80300198],\n",
       "       [-2.58809543,  0.7796163 ],\n",
       "       [-0.66848199,  0.16996094],\n",
       "       [-3.07080699,  1.15591896],\n",
       "       [-0.46220914,  0.33074213],\n",
       "       [-2.10135193, -0.07100892],\n",
       "       [-1.13616618,  1.77710739],\n",
       "       [-2.72660096,  1.19133469],\n",
       "       [-2.82133927,  0.6462586 ],\n",
       "       [-2.00985085,  1.24702946],\n",
       "       [-2.7074913 ,  1.75196741],\n",
       "       [-3.21491747,  0.16699199],\n",
       "       [-2.85895983,  0.7452788 ],\n",
       "       [-3.50560436,  1.61273386],\n",
       "       [-2.22479138,  1.875168  ],\n",
       "       [-2.14698782,  1.01675154],\n",
       "       [-2.46932948,  1.32900831],\n",
       "       [-2.74151791,  1.43654878],\n",
       "       [-2.17374092,  1.21219984],\n",
       "       [-3.13938015,  1.73157912],\n",
       "       [ 0.92858197, -3.07348616],\n",
       "       [ 1.54248014, -1.38144351],\n",
       "       [ 1.83624976, -0.82998412],\n",
       "       [-0.03060683, -1.26278614],\n",
       "       [-2.05026161, -1.9250326 ],\n",
       "       [ 0.60968083, -1.90805881],\n",
       "       [-0.90022784, -0.76391147],\n",
       "       [-2.24850719, -1.88459248],\n",
       "       [-0.18338403, -2.42714611],\n",
       "       [ 0.81280503, -0.22051399],\n",
       "       [-1.9756205 , -1.40328323],\n",
       "       [ 1.57221622, -0.88498314],\n",
       "       [-1.65768181, -0.9567122 ],\n",
       "       [ 0.72537239, -1.0636454 ],\n",
       "       [-2.56222717,  0.26019855],\n",
       "       [-1.83256757, -1.2878782 ],\n",
       "       [ 0.8679929 , -2.44410119],\n",
       "       [-0.3700144 , -2.15390698],\n",
       "       [ 1.45737704, -1.38335177],\n",
       "       [-1.26293085, -0.77084953],\n",
       "       [-0.37615037, -1.0270434 ],\n",
       "       [-0.7620639 , -3.37505381],\n",
       "       [-1.03457797, -1.45070974],\n",
       "       [ 0.49487676, -2.38124353],\n",
       "       [ 2.53897708, -0.08744336],\n",
       "       [-0.83532015, -1.47367055],\n",
       "       [-0.78790461, -2.02662652],\n",
       "       [ 0.80683216, -2.23383039],\n",
       "       [ 0.55804262, -2.37298543],\n",
       "       [ 1.11511104, -1.80224719],\n",
       "       [ 0.55572283, -2.65754004],\n",
       "       [ 1.34928528, -2.11800147],\n",
       "       [ 1.56448261, -1.85221452],\n",
       "       [ 1.93255561, -1.55949546],\n",
       "       [-0.74666594, -2.31293171],\n",
       "       [-0.95745536, -2.22352843],\n",
       "       [-2.54386518,  0.16927402],\n",
       "       [ 0.54395259, -0.36892655],\n",
       "       [-1.03104975, -2.56556935],\n",
       "       [-2.25190942, -1.43274138],\n",
       "       [-1.41021602, -2.16619177],\n",
       "       [-0.79771979, -2.3769488 ],\n",
       "       [ 0.54953173, -2.29312864],\n",
       "       [ 0.16117374, -1.16448332],\n",
       "       [ 0.65979494, -2.67996119],\n",
       "       [-0.39235441, -2.09873171],\n",
       "       [ 1.77249908, -1.71728847],\n",
       "       [ 0.36626736, -2.1693533 ],\n",
       "       [ 1.62067257, -1.35558339],\n",
       "       [-0.08253578, -2.30623459],\n",
       "       [-1.57827507, -1.46203429],\n",
       "       [-1.42056925, -1.41820664],\n",
       "       [ 0.27870275, -1.93056809],\n",
       "       [ 1.30314497, -0.76317231],\n",
       "       [ 0.45707187, -2.26941561],\n",
       "       [ 0.49418585, -1.93904505],\n",
       "       [-0.48207441, -3.87178385],\n",
       "       [ 0.25288888, -2.82149237],\n",
       "       [ 0.10722764, -1.92892204],\n",
       "       [ 2.4330126 , -1.25714104],\n",
       "       [ 0.55108954, -2.22216155],\n",
       "       [-0.73962193, -1.40895667],\n",
       "       [-1.33632173,  0.25333693],\n",
       "       [ 1.177087  , -0.66396684],\n",
       "       [ 0.46233501, -0.61828818],\n",
       "       [-0.97847408, -1.4455705 ],\n",
       "       [ 0.09680973, -2.10999799],\n",
       "       [-0.03848715, -1.26676211],\n",
       "       [ 1.5971585 , -1.20814357],\n",
       "       [ 0.47956492, -1.93884066],\n",
       "       [ 1.79283347, -1.1502881 ],\n",
       "       [ 1.32710166,  0.17038923],\n",
       "       [ 2.38450083,  0.37458261],\n",
       "       [ 2.9369401 ,  0.26386183],\n",
       "       [ 2.14681113,  0.36825495],\n",
       "       [ 2.36986949, -0.45963481],\n",
       "       [ 3.06384157,  0.35341284],\n",
       "       [ 3.91575378,  0.15458252],\n",
       "       [ 3.93646339,  0.65968723],\n",
       "       [ 3.09427612,  0.34884276],\n",
       "       [ 2.37447163,  0.29198035],\n",
       "       [ 2.77881295,  0.28680487],\n",
       "       [ 2.28656128,  0.37250784],\n",
       "       [ 2.98563349,  0.48921791],\n",
       "       [ 2.3751947 ,  0.48233372],\n",
       "       [ 2.20986553,  1.1600525 ],\n",
       "       [ 2.625621  ,  0.56316076],\n",
       "       [ 4.28063878,  0.64967096],\n",
       "       [ 3.58264137,  1.27270275],\n",
       "       [ 2.80706372,  1.57053379],\n",
       "       [ 2.89965933,  2.04105701],\n",
       "       [ 2.32073698,  2.35636608],\n",
       "       [ 2.54983095,  2.04528309],\n",
       "       [ 1.81254128,  1.52764595],\n",
       "       [ 2.76014464,  2.13893235],\n",
       "       [ 2.7371505 ,  0.40988627],\n",
       "       [ 3.60486887,  1.80238422],\n",
       "       [ 2.889826  ,  1.92521861],\n",
       "       [ 3.39215608,  1.31187639],\n",
       "       [ 1.0481819 ,  3.51508969],\n",
       "       [ 1.60991228,  2.40663816],\n",
       "       [ 3.14313097,  0.73816104],\n",
       "       [ 2.2401569 ,  1.17546529],\n",
       "       [ 2.84767378,  0.55604397],\n",
       "       [ 2.59749706,  0.69796554],\n",
       "       [ 2.94929937,  1.55530896],\n",
       "       [ 3.53003227,  0.8825268 ],\n",
       "       [ 2.40611054,  2.59235618],\n",
       "       [ 2.92908473,  1.27444695],\n",
       "       [ 2.18141278,  2.07753731],\n",
       "       [ 2.38092779,  2.58866743],\n",
       "       [ 3.21161722, -0.2512491 ],\n",
       "       [ 3.67791872,  0.84774784],\n",
       "       [ 2.4655558 ,  2.1937983 ],\n",
       "       [ 3.37052415,  2.21628914],\n",
       "       [ 2.60195585,  1.75722935],\n",
       "       [ 2.67783946,  2.76089913],\n",
       "       [ 2.38701709,  2.29734668],\n",
       "       [ 3.20875816,  2.76891957]])"
      ]
     },
     "execution_count": 28,
     "metadata": {},
     "output_type": "execute_result"
    }
   ],
   "source": [
    "new_X=X_scaled.dot(w)\n",
    "new_X"
   ]
  },
  {
   "cell_type": "markdown",
   "id": "c809d5a7",
   "metadata": {
    "papermill": {
     "duration": 0.064492,
     "end_time": "2023-03-26T17:44:06.764210",
     "exception": false,
     "start_time": "2023-03-26T17:44:06.699718",
     "status": "completed"
    },
    "tags": []
   },
   "source": [
    "The code you provided applies the transformation matrix w to the standardized input data X_scaled, resulting in a new two-dimensional dataset new_X that represents the original data projected onto the 2D subspace defined by the first two principal components.\n",
    "\n",
    "The dot method of the NumPy ndarray object is used to perform matrix multiplication between X_scaled and w, resulting in a new matrix with the same number of rows as X_scaled and two columns (i.e., the number of principal components selected).\n",
    "\n",
    "The resulting new_X matrix contains the transformed data in the reduced 2D subspace. Each row of new_X represents an observation in the original data, and the two columns represent the values along the first and second principal components.\n",
    "\n",
    "This new representation of the data is often used for data visualization or as input to machine learning algorithms that require lower-dimensional input. It can also be used to understand the relationships between variables and identify patterns in the data that may not be easily visible in the original feature space."
   ]
  },
  {
   "cell_type": "code",
   "execution_count": 29,
   "id": "f68afcf9",
   "metadata": {
    "execution": {
     "iopub.execute_input": "2023-03-26T17:44:06.892331Z",
     "iopub.status.busy": "2023-03-26T17:44:06.891566Z",
     "iopub.status.idle": "2023-03-26T17:44:06.898056Z",
     "shell.execute_reply": "2023-03-26T17:44:06.897099Z"
    },
    "papermill": {
     "duration": 0.072071,
     "end_time": "2023-03-26T17:44:06.900574",
     "exception": false,
     "start_time": "2023-03-26T17:44:06.828503",
     "status": "completed"
    },
    "tags": []
   },
   "outputs": [
    {
     "data": {
      "text/plain": [
       "(178, 2)"
      ]
     },
     "execution_count": 29,
     "metadata": {},
     "output_type": "execute_result"
    }
   ],
   "source": [
    "new_X.shape"
   ]
  },
  {
   "cell_type": "markdown",
   "id": "87d749b8",
   "metadata": {
    "papermill": {
     "duration": 0.063526,
     "end_time": "2023-03-26T17:44:07.026191",
     "exception": false,
     "start_time": "2023-03-26T17:44:06.962665",
     "status": "completed"
    },
    "tags": []
   },
   "source": [
    "## Visualising the projected data"
   ]
  },
  {
   "cell_type": "code",
   "execution_count": 30,
   "id": "d8faa7fe",
   "metadata": {
    "execution": {
     "iopub.execute_input": "2023-03-26T17:44:07.152189Z",
     "iopub.status.busy": "2023-03-26T17:44:07.151417Z",
     "iopub.status.idle": "2023-03-26T17:44:07.446652Z",
     "shell.execute_reply": "2023-03-26T17:44:07.444809Z"
    },
    "papermill": {
     "duration": 0.362139,
     "end_time": "2023-03-26T17:44:07.450039",
     "exception": false,
     "start_time": "2023-03-26T17:44:07.087900",
     "status": "completed"
    },
    "tags": []
   },
   "outputs": [
    {
     "data": {
      "image/png": "[encoded data removed]",
      "text/plain": [
       "<Figure size 432x288 with 1 Axes>"
      ]
     },
     "metadata": {
      "needs_background": "light"
     },
     "output_type": "display_data"
    }
   ],
   "source": [
    "for l in np.unique(y):\n",
    "    plt.scatter(new_X[y==1,0], new_X[y==1,1],marker='s')\n",
    "    plt.scatter(new_X[y==2,0], new_X[y==2,1],marker='x')\n",
    "    plt.scatter(new_X[y==3,0], new_X[y==3,1],marker='o')"
   ]
  },
  {
   "cell_type": "markdown",
   "id": "2c790ba9",
   "metadata": {
    "papermill": {
     "duration": 0.076937,
     "end_time": "2023-03-26T17:44:07.590984",
     "exception": false,
     "start_time": "2023-03-26T17:44:07.514047",
     "status": "completed"
    },
    "tags": []
   },
   "source": [
    "The code you provided creates a scatter plot of the transformed data new_X with different markers and colors for each class label in y.\n",
    "\n",
    "The np.unique function is used to find the unique values in y, which represent the class labels of the observations in the original data.\n",
    "\n",
    "For each unique label, the plt.scatter function is called three times, each time plotting the points in new_X that correspond to the observations with the given label using a different marker shape.\n",
    "\n",
    "The marker argument is used to specify the shape of the marker used to plot the points for each class. The s marker is a square, the x marker is an x-shaped cross, and the o marker is a circle."
   ]
  },
  {
   "cell_type": "markdown",
   "id": "85bb429d",
   "metadata": {
    "papermill": {
     "duration": 0.061369,
     "end_time": "2023-03-26T17:44:07.721686",
     "exception": false,
     "start_time": "2023-03-26T17:44:07.660317",
     "status": "completed"
    },
    "tags": []
   },
   "source": [
    "## Using Sklearn"
   ]
  },
  {
   "cell_type": "code",
   "execution_count": 31,
   "id": "bf1d14a7",
   "metadata": {
    "execution": {
     "iopub.execute_input": "2023-03-26T17:44:07.847526Z",
     "iopub.status.busy": "2023-03-26T17:44:07.846959Z",
     "iopub.status.idle": "2023-03-26T17:44:08.104280Z",
     "shell.execute_reply": "2023-03-26T17:44:08.102719Z"
    },
    "papermill": {
     "duration": 0.324172,
     "end_time": "2023-03-26T17:44:08.107401",
     "exception": false,
     "start_time": "2023-03-26T17:44:07.783229",
     "status": "completed"
    },
    "tags": []
   },
   "outputs": [],
   "source": [
    "# Direct method\n",
    "from sklearn.decomposition import PCA\n",
    "pca=PCA(n_components=0.95)\n",
    "X_pca=pca.fit_transform(X_scaled)"
   ]
  },
  {
   "cell_type": "markdown",
   "id": "ed13a18f",
   "metadata": {
    "papermill": {
     "duration": 0.063379,
     "end_time": "2023-03-26T17:44:08.234318",
     "exception": false,
     "start_time": "2023-03-26T17:44:08.170939",
     "status": "completed"
    },
    "tags": []
   },
   "source": [
    "The code you provided performs PCA using scikit-learn's PCA class, setting the n_components parameter to 0.95.\n",
    "\n",
    "This means that PCA will automatically determine the minimum number of principal components necessary to explain at least 95% of the variance in the data. The resulting transformed data X_pca will have a reduced number of features equal to the number of selected principal components.\n",
    "\n",
    "The fit_transform method of the PCA object is called on the standardized input data X_scaled. This method first fits the PCA model to the data (i.e., calculates the eigenvectors and eigenvalues of the covariance matrix) and then applies the transformation to the data (i.e., projects the data onto the principal components).\n",
    "\n",
    "The resulting X_pca matrix has the same number of rows as X_scaled (i.e., the number of observations) and a reduced number of columns equal to the number of principal components selected by PCA. These new columns represent the transformed features that capture the most important patterns of variation in the original data.\n",
    "\n",
    "Note that setting n_components to a value less than 1.0 is a common practice in PCA, as it allows for the automatic determination of the minimum number of principal components required to capture a specified amount of variance in the data. This can be especially useful for large datasets with many features, where manually selecting the number of components can be difficult or impractical."
   ]
  },
  {
   "cell_type": "code",
   "execution_count": 32,
   "id": "929ff189",
   "metadata": {
    "execution": {
     "iopub.execute_input": "2023-03-26T17:44:08.363844Z",
     "iopub.status.busy": "2023-03-26T17:44:08.362921Z",
     "iopub.status.idle": "2023-03-26T17:44:08.372130Z",
     "shell.execute_reply": "2023-03-26T17:44:08.371055Z"
    },
    "papermill": {
     "duration": 0.078523,
     "end_time": "2023-03-26T17:44:08.375049",
     "exception": false,
     "start_time": "2023-03-26T17:44:08.296526",
     "status": "completed"
    },
    "tags": []
   },
   "outputs": [
    {
     "data": {
      "text/plain": [
       "array([-0.48365155, -0.22493093, -0.31606881,  0.0105905 , -0.299634  ,\n",
       "       -0.06503951,  0.00335981, -0.02877949, -0.03930172, -0.52999567,\n",
       "        0.27923515,  0.16449619, -0.36490283])"
      ]
     },
     "execution_count": 32,
     "metadata": {},
     "output_type": "execute_result"
    }
   ],
   "source": [
    "pca.components_.T[:,1]"
   ]
  },
  {
   "cell_type": "markdown",
   "id": "d565cae7",
   "metadata": {
    "papermill": {
     "duration": 0.062533,
     "end_time": "2023-03-26T17:44:08.500640",
     "exception": false,
     "start_time": "2023-03-26T17:44:08.438107",
     "status": "completed"
    },
    "tags": []
   },
   "source": [
    "The code you provided accesses the second principal component of the PCA model pca using the components_ attribute.\n",
    "\n",
    "The components_ attribute is a matrix whose columns are the principal components of the data, sorted in descending order of the amount of variance they explain. Therefore, the second principal component can be accessed by indexing the second column of pca.components_, which is achieved by using the [:, 1] indexing syntax.\n",
    "\n",
    "Note that the components are typically returned as row vectors, so the T attribute is used to transpose the matrix and obtain the second principal component as a column vector instead.\n",
    "\n",
    "The resulting vector represents the weights of each original feature in the second principal component. These weights indicate the contribution of each feature to the variation captured by the second principal component."
   ]
  },
  {
   "cell_type": "code",
   "execution_count": 33,
   "id": "973ffa0c",
   "metadata": {
    "execution": {
     "iopub.execute_input": "2023-03-26T17:44:08.627616Z",
     "iopub.status.busy": "2023-03-26T17:44:08.627120Z",
     "iopub.status.idle": "2023-03-26T17:44:08.634985Z",
     "shell.execute_reply": "2023-03-26T17:44:08.633515Z"
    },
    "papermill": {
     "duration": 0.074843,
     "end_time": "2023-03-26T17:44:08.638133",
     "exception": false,
     "start_time": "2023-03-26T17:44:08.563290",
     "status": "completed"
    },
    "tags": []
   },
   "outputs": [
    {
     "data": {
      "text/plain": [
       "array([0.36198848, 0.1920749 , 0.11123631, 0.0706903 , 0.06563294,\n",
       "       0.04935823, 0.04238679, 0.02680749, 0.02222153, 0.01930019])"
      ]
     },
     "execution_count": 33,
     "metadata": {},
     "output_type": "execute_result"
    }
   ],
   "source": [
    "pca.explained_variance_ratio_"
   ]
  },
  {
   "cell_type": "markdown",
   "id": "19ac411d",
   "metadata": {
    "papermill": {
     "duration": 0.061768,
     "end_time": "2023-03-26T17:44:08.763157",
     "exception": false,
     "start_time": "2023-03-26T17:44:08.701389",
     "status": "completed"
    },
    "tags": []
   },
   "source": [
    "The code pca.explained_variance_ratio_ returns an array of the proportion of variance in the data that is explained by each principal component in the PCA model pca.\n",
    "\n",
    "Each element of the array corresponds to a principal component, and the elements are sorted in descending order of the amount of variance explained. The sum of all the elements in the array equals 1.0, since the total variance in the data is fully explained by the principal components.\n",
    "\n",
    "The explained_variance_ratio_ attribute can be useful for understanding the amount of information retained by each principal component, and for deciding how many principal components to include in the final reduced-dimensionality dataset.\n",
    "\n",
    "For example, if the first two principal components explain a large proportion of the variance in the data (e.g., 90%), it might be appropriate to reduce the data to just those two components to preserve most of the important information while discarding noise or unimportant variability captured by the remaining components."
   ]
  },
  {
   "cell_type": "code",
   "execution_count": 34,
   "id": "fdc19690",
   "metadata": {
    "execution": {
     "iopub.execute_input": "2023-03-26T17:44:08.901917Z",
     "iopub.status.busy": "2023-03-26T17:44:08.901419Z",
     "iopub.status.idle": "2023-03-26T17:44:09.191617Z",
     "shell.execute_reply": "2023-03-26T17:44:09.190125Z"
    },
    "papermill": {
     "duration": 0.358166,
     "end_time": "2023-03-26T17:44:09.194526",
     "exception": false,
     "start_time": "2023-03-26T17:44:08.836360",
     "status": "completed"
    },
    "tags": []
   },
   "outputs": [
    {
     "data": {
      "image/png": "[encoded data removed]",
      "text/plain": [
       "<Figure size 432x288 with 1 Axes>"
      ]
     },
     "metadata": {
      "needs_background": "light"
     },
     "output_type": "display_data"
    }
   ],
   "source": [
    "#another way of ploting\n",
    "for l in np.unique(y):\n",
    "    plt.scatter(X_pca[y==l, 0],\n",
    "            X_pca[y==l, 1], label=l)\n",
    "plt.xlabel('PC 1')\n",
    "plt.ylabel('PC 2')\n",
    "plt.legend(loc='lower left')\n",
    "plt.show()"
   ]
  },
  {
   "cell_type": "code",
   "execution_count": 35,
   "id": "86274980",
   "metadata": {
    "execution": {
     "iopub.execute_input": "2023-03-26T17:44:09.322607Z",
     "iopub.status.busy": "2023-03-26T17:44:09.321307Z",
     "iopub.status.idle": "2023-03-26T17:44:09.565796Z",
     "shell.execute_reply": "2023-03-26T17:44:09.564717Z"
    },
    "papermill": {
     "duration": 0.311385,
     "end_time": "2023-03-26T17:44:09.568581",
     "exception": false,
     "start_time": "2023-03-26T17:44:09.257196",
     "status": "completed"
    },
    "tags": []
   },
   "outputs": [
    {
     "data": {
      "image/png": "[encoded data removed]",
      "text/plain": [
       "<Figure size 432x288 with 1 Axes>"
      ]
     },
     "metadata": {
      "needs_background": "light"
     },
     "output_type": "display_data"
    }
   ],
   "source": [
    "#another way of plotting the graph best method\n",
    "#plt.figure(figsize=(10, 10))\n",
    "plt.scatter(X_pca[:,0],X_pca[:,1],c=y)\n",
    "plt.xlabel('PC 1')\n",
    "plt.ylabel('PC 2');"
   ]
  },
  {
   "cell_type": "code",
   "execution_count": 36,
   "id": "d526f7d0",
   "metadata": {
    "execution": {
     "iopub.execute_input": "2023-03-26T17:44:09.701865Z",
     "iopub.status.busy": "2023-03-26T17:44:09.700658Z",
     "iopub.status.idle": "2023-03-26T17:44:09.709746Z",
     "shell.execute_reply": "2023-03-26T17:44:09.708426Z"
    },
    "papermill": {
     "duration": 0.077382,
     "end_time": "2023-03-26T17:44:09.712421",
     "exception": false,
     "start_time": "2023-03-26T17:44:09.635039",
     "status": "completed"
    },
    "tags": []
   },
   "outputs": [
    {
     "data": {
      "text/plain": [
       "{'copy': True,\n",
       " 'iterated_power': 'auto',\n",
       " 'n_components': 0.95,\n",
       " 'random_state': None,\n",
       " 'svd_solver': 'auto',\n",
       " 'tol': 0.0,\n",
       " 'whiten': False}"
      ]
     },
     "execution_count": 36,
     "metadata": {},
     "output_type": "execute_result"
    }
   ],
   "source": [
    "pca.get_params(deep=True)"
   ]
  },
  {
   "cell_type": "markdown",
   "id": "77b624d1",
   "metadata": {
    "papermill": {
     "duration": 0.063347,
     "end_time": "2023-03-26T17:44:09.838876",
     "exception": false,
     "start_time": "2023-03-26T17:44:09.775529",
     "status": "completed"
    },
    "tags": []
   },
   "source": [
    "The get_params method is a function available in the PCA class of the sklearn.decomposition module in Python, which is used for principal component analysis. The get_params method is used to get the parameters of the PCA estimator. Here is what the pca.get_params(deep=True) code does:\n",
    "\n",
    "pca is an instance of the PCA class, which has been previously created and fitted to some data.\n",
    "The get_params method is called on this instance with the parameter deep set to True.\n",
    "The get_params method returns a dictionary containing the parameters of the estimator, with their names as keys and their values as values.\n",
    "The deep parameter controls whether the method should recursively return the parameters of nested estimators, if any. When deep=True, the method returns the parameters of the nested estimators as well. If deep=False, only the top-level parameters are returned.\n",
    "\n",
    "By calling pca.get_params(deep=True), you can obtain a dictionary containing all the parameters of the PCA estimator and the nested estimators, if any. This can be useful for inspecting and debugging the PCA estimator, as well as for reproducing the analysis on new data."
   ]
  },
  {
   "cell_type": "markdown",
   "id": "41710366",
   "metadata": {
    "papermill": {
     "duration": 0.063003,
     "end_time": "2023-03-26T17:44:09.964923",
     "exception": false,
     "start_time": "2023-03-26T17:44:09.901920",
     "status": "completed"
    },
    "tags": []
   },
   "source": [
    "# LDA and LLE"
   ]
  },
  {
   "cell_type": "code",
   "execution_count": 37,
   "id": "a7e68047",
   "metadata": {
    "execution": {
     "iopub.execute_input": "2023-03-26T17:44:10.094862Z",
     "iopub.status.busy": "2023-03-26T17:44:10.093939Z",
     "iopub.status.idle": "2023-03-26T17:44:10.099541Z",
     "shell.execute_reply": "2023-03-26T17:44:10.098277Z"
    },
    "papermill": {
     "duration": 0.074083,
     "end_time": "2023-03-26T17:44:10.102335",
     "exception": false,
     "start_time": "2023-03-26T17:44:10.028252",
     "status": "completed"
    },
    "tags": []
   },
   "outputs": [],
   "source": [
    "import pandas as pd\n",
    "import numpy as np\n",
    "import matplotlib.pyplot as plt"
   ]
  },
  {
   "cell_type": "code",
   "execution_count": 38,
   "id": "527ac308",
   "metadata": {
    "execution": {
     "iopub.execute_input": "2023-03-26T17:44:10.312941Z",
     "iopub.status.busy": "2023-03-26T17:44:10.312121Z",
     "iopub.status.idle": "2023-03-26T17:44:10.374811Z",
     "shell.execute_reply": "2023-03-26T17:44:10.373458Z"
    },
    "papermill": {
     "duration": 0.210562,
     "end_time": "2023-03-26T17:44:10.378146",
     "exception": false,
     "start_time": "2023-03-26T17:44:10.167584",
     "status": "completed"
    },
    "tags": []
   },
   "outputs": [],
   "source": [
    "wine=pd.read_csv('https://gist.githubusercontent.com/tijptjik/9408623/raw/b237fa5848349a14a14e5d4107dc7897c21951f5/wine.csv')"
   ]
  },
  {
   "cell_type": "code",
   "execution_count": 39,
   "id": "e33bb612",
   "metadata": {
    "execution": {
     "iopub.execute_input": "2023-03-26T17:44:10.509072Z",
     "iopub.status.busy": "2023-03-26T17:44:10.508591Z",
     "iopub.status.idle": "2023-03-26T17:44:10.539902Z",
     "shell.execute_reply": "2023-03-26T17:44:10.538868Z"
    },
    "papermill": {
     "duration": 0.09922,
     "end_time": "2023-03-26T17:44:10.542446",
     "exception": false,
     "start_time": "2023-03-26T17:44:10.443226",
     "status": "completed"
    },
    "tags": []
   },
   "outputs": [
    {
     "data": {
      "text/html": [
       "<div>\n",
       "<style scoped>\n",
       "    .dataframe tbody tr th:only-of-type {\n",
       "        vertical-align: middle;\n",
       "    }\n",
       "\n",
       "    .dataframe tbody tr th {\n",
       "        vertical-align: top;\n",
       "    }\n",
       "\n",
       "    .dataframe thead th {\n",
       "        text-align: right;\n",
       "    }\n",
       "</style>\n",
       "<table border=\"1\" class=\"dataframe\">\n",
       "  <thead>\n",
       "    <tr style=\"text-align: right;\">\n",
       "      <th></th>\n",
       "      <th>Wine</th>\n",
       "      <th>Alcohol</th>\n",
       "      <th>Malic.acid</th>\n",
       "      <th>Ash</th>\n",
       "      <th>Acl</th>\n",
       "      <th>Mg</th>\n",
       "      <th>Phenols</th>\n",
       "      <th>Flavanoids</th>\n",
       "      <th>Nonflavanoid.phenols</th>\n",
       "      <th>Proanth</th>\n",
       "      <th>Color.int</th>\n",
       "      <th>Hue</th>\n",
       "      <th>OD</th>\n",
       "      <th>Proline</th>\n",
       "    </tr>\n",
       "  </thead>\n",
       "  <tbody>\n",
       "    <tr>\n",
       "      <th>0</th>\n",
       "      <td>1</td>\n",
       "      <td>14.23</td>\n",
       "      <td>1.71</td>\n",
       "      <td>2.43</td>\n",
       "      <td>15.6</td>\n",
       "      <td>127</td>\n",
       "      <td>2.80</td>\n",
       "      <td>3.06</td>\n",
       "      <td>0.28</td>\n",
       "      <td>2.29</td>\n",
       "      <td>5.64</td>\n",
       "      <td>1.04</td>\n",
       "      <td>3.92</td>\n",
       "      <td>1065</td>\n",
       "    </tr>\n",
       "    <tr>\n",
       "      <th>1</th>\n",
       "      <td>1</td>\n",
       "      <td>13.20</td>\n",
       "      <td>1.78</td>\n",
       "      <td>2.14</td>\n",
       "      <td>11.2</td>\n",
       "      <td>100</td>\n",
       "      <td>2.65</td>\n",
       "      <td>2.76</td>\n",
       "      <td>0.26</td>\n",
       "      <td>1.28</td>\n",
       "      <td>4.38</td>\n",
       "      <td>1.05</td>\n",
       "      <td>3.40</td>\n",
       "      <td>1050</td>\n",
       "    </tr>\n",
       "    <tr>\n",
       "      <th>2</th>\n",
       "      <td>1</td>\n",
       "      <td>13.16</td>\n",
       "      <td>2.36</td>\n",
       "      <td>2.67</td>\n",
       "      <td>18.6</td>\n",
       "      <td>101</td>\n",
       "      <td>2.80</td>\n",
       "      <td>3.24</td>\n",
       "      <td>0.30</td>\n",
       "      <td>2.81</td>\n",
       "      <td>5.68</td>\n",
       "      <td>1.03</td>\n",
       "      <td>3.17</td>\n",
       "      <td>1185</td>\n",
       "    </tr>\n",
       "    <tr>\n",
       "      <th>3</th>\n",
       "      <td>1</td>\n",
       "      <td>14.37</td>\n",
       "      <td>1.95</td>\n",
       "      <td>2.50</td>\n",
       "      <td>16.8</td>\n",
       "      <td>113</td>\n",
       "      <td>3.85</td>\n",
       "      <td>3.49</td>\n",
       "      <td>0.24</td>\n",
       "      <td>2.18</td>\n",
       "      <td>7.80</td>\n",
       "      <td>0.86</td>\n",
       "      <td>3.45</td>\n",
       "      <td>1480</td>\n",
       "    </tr>\n",
       "    <tr>\n",
       "      <th>4</th>\n",
       "      <td>1</td>\n",
       "      <td>13.24</td>\n",
       "      <td>2.59</td>\n",
       "      <td>2.87</td>\n",
       "      <td>21.0</td>\n",
       "      <td>118</td>\n",
       "      <td>2.80</td>\n",
       "      <td>2.69</td>\n",
       "      <td>0.39</td>\n",
       "      <td>1.82</td>\n",
       "      <td>4.32</td>\n",
       "      <td>1.04</td>\n",
       "      <td>2.93</td>\n",
       "      <td>735</td>\n",
       "    </tr>\n",
       "    <tr>\n",
       "      <th>...</th>\n",
       "      <td>...</td>\n",
       "      <td>...</td>\n",
       "      <td>...</td>\n",
       "      <td>...</td>\n",
       "      <td>...</td>\n",
       "      <td>...</td>\n",
       "      <td>...</td>\n",
       "      <td>...</td>\n",
       "      <td>...</td>\n",
       "      <td>...</td>\n",
       "      <td>...</td>\n",
       "      <td>...</td>\n",
       "      <td>...</td>\n",
       "      <td>...</td>\n",
       "    </tr>\n",
       "    <tr>\n",
       "      <th>173</th>\n",
       "      <td>3</td>\n",
       "      <td>13.71</td>\n",
       "      <td>5.65</td>\n",
       "      <td>2.45</td>\n",
       "      <td>20.5</td>\n",
       "      <td>95</td>\n",
       "      <td>1.68</td>\n",
       "      <td>0.61</td>\n",
       "      <td>0.52</td>\n",
       "      <td>1.06</td>\n",
       "      <td>7.70</td>\n",
       "      <td>0.64</td>\n",
       "      <td>1.74</td>\n",
       "      <td>740</td>\n",
       "    </tr>\n",
       "    <tr>\n",
       "      <th>174</th>\n",
       "      <td>3</td>\n",
       "      <td>13.40</td>\n",
       "      <td>3.91</td>\n",
       "      <td>2.48</td>\n",
       "      <td>23.0</td>\n",
       "      <td>102</td>\n",
       "      <td>1.80</td>\n",
       "      <td>0.75</td>\n",
       "      <td>0.43</td>\n",
       "      <td>1.41</td>\n",
       "      <td>7.30</td>\n",
       "      <td>0.70</td>\n",
       "      <td>1.56</td>\n",
       "      <td>750</td>\n",
       "    </tr>\n",
       "    <tr>\n",
       "      <th>175</th>\n",
       "      <td>3</td>\n",
       "      <td>13.27</td>\n",
       "      <td>4.28</td>\n",
       "      <td>2.26</td>\n",
       "      <td>20.0</td>\n",
       "      <td>120</td>\n",
       "      <td>1.59</td>\n",
       "      <td>0.69</td>\n",
       "      <td>0.43</td>\n",
       "      <td>1.35</td>\n",
       "      <td>10.20</td>\n",
       "      <td>0.59</td>\n",
       "      <td>1.56</td>\n",
       "      <td>835</td>\n",
       "    </tr>\n",
       "    <tr>\n",
       "      <th>176</th>\n",
       "      <td>3</td>\n",
       "      <td>13.17</td>\n",
       "      <td>2.59</td>\n",
       "      <td>2.37</td>\n",
       "      <td>20.0</td>\n",
       "      <td>120</td>\n",
       "      <td>1.65</td>\n",
       "      <td>0.68</td>\n",
       "      <td>0.53</td>\n",
       "      <td>1.46</td>\n",
       "      <td>9.30</td>\n",
       "      <td>0.60</td>\n",
       "      <td>1.62</td>\n",
       "      <td>840</td>\n",
       "    </tr>\n",
       "    <tr>\n",
       "      <th>177</th>\n",
       "      <td>3</td>\n",
       "      <td>14.13</td>\n",
       "      <td>4.10</td>\n",
       "      <td>2.74</td>\n",
       "      <td>24.5</td>\n",
       "      <td>96</td>\n",
       "      <td>2.05</td>\n",
       "      <td>0.76</td>\n",
       "      <td>0.56</td>\n",
       "      <td>1.35</td>\n",
       "      <td>9.20</td>\n",
       "      <td>0.61</td>\n",
       "      <td>1.60</td>\n",
       "      <td>560</td>\n",
       "    </tr>\n",
       "  </tbody>\n",
       "</table>\n",
       "<p>178 rows × 14 columns</p>\n",
       "</div>"
      ],
      "text/plain": [
       "     Wine  Alcohol  Malic.acid   Ash   Acl   Mg  Phenols  Flavanoids  \\\n",
       "0       1    14.23        1.71  2.43  15.6  127     2.80        3.06   \n",
       "1       1    13.20        1.78  2.14  11.2  100     2.65        2.76   \n",
       "2       1    13.16        2.36  2.67  18.6  101     2.80        3.24   \n",
       "3       1    14.37        1.95  2.50  16.8  113     3.85        3.49   \n",
       "4       1    13.24        2.59  2.87  21.0  118     2.80        2.69   \n",
       "..    ...      ...         ...   ...   ...  ...      ...         ...   \n",
       "173     3    13.71        5.65  2.45  20.5   95     1.68        0.61   \n",
       "174     3    13.40        3.91  2.48  23.0  102     1.80        0.75   \n",
       "175     3    13.27        4.28  2.26  20.0  120     1.59        0.69   \n",
       "176     3    13.17        2.59  2.37  20.0  120     1.65        0.68   \n",
       "177     3    14.13        4.10  2.74  24.5   96     2.05        0.76   \n",
       "\n",
       "     Nonflavanoid.phenols  Proanth  Color.int   Hue    OD  Proline  \n",
       "0                    0.28     2.29       5.64  1.04  3.92     1065  \n",
       "1                    0.26     1.28       4.38  1.05  3.40     1050  \n",
       "2                    0.30     2.81       5.68  1.03  3.17     1185  \n",
       "3                    0.24     2.18       7.80  0.86  3.45     1480  \n",
       "4                    0.39     1.82       4.32  1.04  2.93      735  \n",
       "..                    ...      ...        ...   ...   ...      ...  \n",
       "173                  0.52     1.06       7.70  0.64  1.74      740  \n",
       "174                  0.43     1.41       7.30  0.70  1.56      750  \n",
       "175                  0.43     1.35      10.20  0.59  1.56      835  \n",
       "176                  0.53     1.46       9.30  0.60  1.62      840  \n",
       "177                  0.56     1.35       9.20  0.61  1.60      560  \n",
       "\n",
       "[178 rows x 14 columns]"
      ]
     },
     "execution_count": 39,
     "metadata": {},
     "output_type": "execute_result"
    }
   ],
   "source": [
    "wine"
   ]
  },
  {
   "cell_type": "code",
   "execution_count": 40,
   "id": "0d49486b",
   "metadata": {
    "execution": {
     "iopub.execute_input": "2023-03-26T17:44:10.676492Z",
     "iopub.status.busy": "2023-03-26T17:44:10.675309Z",
     "iopub.status.idle": "2023-03-26T17:44:10.707839Z",
     "shell.execute_reply": "2023-03-26T17:44:10.706336Z"
    },
    "papermill": {
     "duration": 0.102289,
     "end_time": "2023-03-26T17:44:10.710722",
     "exception": false,
     "start_time": "2023-03-26T17:44:10.608433",
     "status": "completed"
    },
    "tags": []
   },
   "outputs": [
    {
     "data": {
      "text/html": [
       "<div>\n",
       "<style scoped>\n",
       "    .dataframe tbody tr th:only-of-type {\n",
       "        vertical-align: middle;\n",
       "    }\n",
       "\n",
       "    .dataframe tbody tr th {\n",
       "        vertical-align: top;\n",
       "    }\n",
       "\n",
       "    .dataframe thead th {\n",
       "        text-align: right;\n",
       "    }\n",
       "</style>\n",
       "<table border=\"1\" class=\"dataframe\">\n",
       "  <thead>\n",
       "    <tr style=\"text-align: right;\">\n",
       "      <th></th>\n",
       "      <th>Alcohol</th>\n",
       "      <th>Malic.acid</th>\n",
       "      <th>Ash</th>\n",
       "      <th>Acl</th>\n",
       "      <th>Mg</th>\n",
       "      <th>Phenols</th>\n",
       "      <th>Flavanoids</th>\n",
       "      <th>Nonflavanoid.phenols</th>\n",
       "      <th>Proanth</th>\n",
       "      <th>Color.int</th>\n",
       "      <th>Hue</th>\n",
       "      <th>OD</th>\n",
       "      <th>Proline</th>\n",
       "    </tr>\n",
       "  </thead>\n",
       "  <tbody>\n",
       "    <tr>\n",
       "      <th>0</th>\n",
       "      <td>14.23</td>\n",
       "      <td>1.71</td>\n",
       "      <td>2.43</td>\n",
       "      <td>15.6</td>\n",
       "      <td>127</td>\n",
       "      <td>2.80</td>\n",
       "      <td>3.06</td>\n",
       "      <td>0.28</td>\n",
       "      <td>2.29</td>\n",
       "      <td>5.64</td>\n",
       "      <td>1.04</td>\n",
       "      <td>3.92</td>\n",
       "      <td>1065</td>\n",
       "    </tr>\n",
       "    <tr>\n",
       "      <th>1</th>\n",
       "      <td>13.20</td>\n",
       "      <td>1.78</td>\n",
       "      <td>2.14</td>\n",
       "      <td>11.2</td>\n",
       "      <td>100</td>\n",
       "      <td>2.65</td>\n",
       "      <td>2.76</td>\n",
       "      <td>0.26</td>\n",
       "      <td>1.28</td>\n",
       "      <td>4.38</td>\n",
       "      <td>1.05</td>\n",
       "      <td>3.40</td>\n",
       "      <td>1050</td>\n",
       "    </tr>\n",
       "    <tr>\n",
       "      <th>2</th>\n",
       "      <td>13.16</td>\n",
       "      <td>2.36</td>\n",
       "      <td>2.67</td>\n",
       "      <td>18.6</td>\n",
       "      <td>101</td>\n",
       "      <td>2.80</td>\n",
       "      <td>3.24</td>\n",
       "      <td>0.30</td>\n",
       "      <td>2.81</td>\n",
       "      <td>5.68</td>\n",
       "      <td>1.03</td>\n",
       "      <td>3.17</td>\n",
       "      <td>1185</td>\n",
       "    </tr>\n",
       "    <tr>\n",
       "      <th>3</th>\n",
       "      <td>14.37</td>\n",
       "      <td>1.95</td>\n",
       "      <td>2.50</td>\n",
       "      <td>16.8</td>\n",
       "      <td>113</td>\n",
       "      <td>3.85</td>\n",
       "      <td>3.49</td>\n",
       "      <td>0.24</td>\n",
       "      <td>2.18</td>\n",
       "      <td>7.80</td>\n",
       "      <td>0.86</td>\n",
       "      <td>3.45</td>\n",
       "      <td>1480</td>\n",
       "    </tr>\n",
       "    <tr>\n",
       "      <th>4</th>\n",
       "      <td>13.24</td>\n",
       "      <td>2.59</td>\n",
       "      <td>2.87</td>\n",
       "      <td>21.0</td>\n",
       "      <td>118</td>\n",
       "      <td>2.80</td>\n",
       "      <td>2.69</td>\n",
       "      <td>0.39</td>\n",
       "      <td>1.82</td>\n",
       "      <td>4.32</td>\n",
       "      <td>1.04</td>\n",
       "      <td>2.93</td>\n",
       "      <td>735</td>\n",
       "    </tr>\n",
       "    <tr>\n",
       "      <th>...</th>\n",
       "      <td>...</td>\n",
       "      <td>...</td>\n",
       "      <td>...</td>\n",
       "      <td>...</td>\n",
       "      <td>...</td>\n",
       "      <td>...</td>\n",
       "      <td>...</td>\n",
       "      <td>...</td>\n",
       "      <td>...</td>\n",
       "      <td>...</td>\n",
       "      <td>...</td>\n",
       "      <td>...</td>\n",
       "      <td>...</td>\n",
       "    </tr>\n",
       "    <tr>\n",
       "      <th>173</th>\n",
       "      <td>13.71</td>\n",
       "      <td>5.65</td>\n",
       "      <td>2.45</td>\n",
       "      <td>20.5</td>\n",
       "      <td>95</td>\n",
       "      <td>1.68</td>\n",
       "      <td>0.61</td>\n",
       "      <td>0.52</td>\n",
       "      <td>1.06</td>\n",
       "      <td>7.70</td>\n",
       "      <td>0.64</td>\n",
       "      <td>1.74</td>\n",
       "      <td>740</td>\n",
       "    </tr>\n",
       "    <tr>\n",
       "      <th>174</th>\n",
       "      <td>13.40</td>\n",
       "      <td>3.91</td>\n",
       "      <td>2.48</td>\n",
       "      <td>23.0</td>\n",
       "      <td>102</td>\n",
       "      <td>1.80</td>\n",
       "      <td>0.75</td>\n",
       "      <td>0.43</td>\n",
       "      <td>1.41</td>\n",
       "      <td>7.30</td>\n",
       "      <td>0.70</td>\n",
       "      <td>1.56</td>\n",
       "      <td>750</td>\n",
       "    </tr>\n",
       "    <tr>\n",
       "      <th>175</th>\n",
       "      <td>13.27</td>\n",
       "      <td>4.28</td>\n",
       "      <td>2.26</td>\n",
       "      <td>20.0</td>\n",
       "      <td>120</td>\n",
       "      <td>1.59</td>\n",
       "      <td>0.69</td>\n",
       "      <td>0.43</td>\n",
       "      <td>1.35</td>\n",
       "      <td>10.20</td>\n",
       "      <td>0.59</td>\n",
       "      <td>1.56</td>\n",
       "      <td>835</td>\n",
       "    </tr>\n",
       "    <tr>\n",
       "      <th>176</th>\n",
       "      <td>13.17</td>\n",
       "      <td>2.59</td>\n",
       "      <td>2.37</td>\n",
       "      <td>20.0</td>\n",
       "      <td>120</td>\n",
       "      <td>1.65</td>\n",
       "      <td>0.68</td>\n",
       "      <td>0.53</td>\n",
       "      <td>1.46</td>\n",
       "      <td>9.30</td>\n",
       "      <td>0.60</td>\n",
       "      <td>1.62</td>\n",
       "      <td>840</td>\n",
       "    </tr>\n",
       "    <tr>\n",
       "      <th>177</th>\n",
       "      <td>14.13</td>\n",
       "      <td>4.10</td>\n",
       "      <td>2.74</td>\n",
       "      <td>24.5</td>\n",
       "      <td>96</td>\n",
       "      <td>2.05</td>\n",
       "      <td>0.76</td>\n",
       "      <td>0.56</td>\n",
       "      <td>1.35</td>\n",
       "      <td>9.20</td>\n",
       "      <td>0.61</td>\n",
       "      <td>1.60</td>\n",
       "      <td>560</td>\n",
       "    </tr>\n",
       "  </tbody>\n",
       "</table>\n",
       "<p>178 rows × 13 columns</p>\n",
       "</div>"
      ],
      "text/plain": [
       "     Alcohol  Malic.acid   Ash   Acl   Mg  Phenols  Flavanoids  \\\n",
       "0      14.23        1.71  2.43  15.6  127     2.80        3.06   \n",
       "1      13.20        1.78  2.14  11.2  100     2.65        2.76   \n",
       "2      13.16        2.36  2.67  18.6  101     2.80        3.24   \n",
       "3      14.37        1.95  2.50  16.8  113     3.85        3.49   \n",
       "4      13.24        2.59  2.87  21.0  118     2.80        2.69   \n",
       "..       ...         ...   ...   ...  ...      ...         ...   \n",
       "173    13.71        5.65  2.45  20.5   95     1.68        0.61   \n",
       "174    13.40        3.91  2.48  23.0  102     1.80        0.75   \n",
       "175    13.27        4.28  2.26  20.0  120     1.59        0.69   \n",
       "176    13.17        2.59  2.37  20.0  120     1.65        0.68   \n",
       "177    14.13        4.10  2.74  24.5   96     2.05        0.76   \n",
       "\n",
       "     Nonflavanoid.phenols  Proanth  Color.int   Hue    OD  Proline  \n",
       "0                    0.28     2.29       5.64  1.04  3.92     1065  \n",
       "1                    0.26     1.28       4.38  1.05  3.40     1050  \n",
       "2                    0.30     2.81       5.68  1.03  3.17     1185  \n",
       "3                    0.24     2.18       7.80  0.86  3.45     1480  \n",
       "4                    0.39     1.82       4.32  1.04  2.93      735  \n",
       "..                    ...      ...        ...   ...   ...      ...  \n",
       "173                  0.52     1.06       7.70  0.64  1.74      740  \n",
       "174                  0.43     1.41       7.30  0.70  1.56      750  \n",
       "175                  0.43     1.35      10.20  0.59  1.56      835  \n",
       "176                  0.53     1.46       9.30  0.60  1.62      840  \n",
       "177                  0.56     1.35       9.20  0.61  1.60      560  \n",
       "\n",
       "[178 rows x 13 columns]"
      ]
     },
     "execution_count": 40,
     "metadata": {},
     "output_type": "execute_result"
    }
   ],
   "source": [
    "# Seperation inot features and target\n",
    "\n",
    "X=wine.drop(['Wine'],axis=1)\n",
    "X"
   ]
  },
  {
   "cell_type": "code",
   "execution_count": 41,
   "id": "7e7d8836",
   "metadata": {
    "execution": {
     "iopub.execute_input": "2023-03-26T17:44:10.844487Z",
     "iopub.status.busy": "2023-03-26T17:44:10.843938Z",
     "iopub.status.idle": "2023-03-26T17:44:10.852382Z",
     "shell.execute_reply": "2023-03-26T17:44:10.851179Z"
    },
    "papermill": {
     "duration": 0.078668,
     "end_time": "2023-03-26T17:44:10.855089",
     "exception": false,
     "start_time": "2023-03-26T17:44:10.776421",
     "status": "completed"
    },
    "tags": []
   },
   "outputs": [
    {
     "data": {
      "text/plain": [
       "(178, 13)"
      ]
     },
     "execution_count": 41,
     "metadata": {},
     "output_type": "execute_result"
    }
   ],
   "source": [
    "X.shape"
   ]
  },
  {
   "cell_type": "code",
   "execution_count": 42,
   "id": "53a58f01",
   "metadata": {
    "execution": {
     "iopub.execute_input": "2023-03-26T17:44:10.987300Z",
     "iopub.status.busy": "2023-03-26T17:44:10.986468Z",
     "iopub.status.idle": "2023-03-26T17:44:10.994762Z",
     "shell.execute_reply": "2023-03-26T17:44:10.993537Z"
    },
    "papermill": {
     "duration": 0.077204,
     "end_time": "2023-03-26T17:44:10.997623",
     "exception": false,
     "start_time": "2023-03-26T17:44:10.920419",
     "status": "completed"
    },
    "tags": []
   },
   "outputs": [
    {
     "data": {
      "text/plain": [
       "(178,)"
      ]
     },
     "execution_count": 42,
     "metadata": {},
     "output_type": "execute_result"
    }
   ],
   "source": [
    "y=wine['Wine']\n",
    "y.shape"
   ]
  },
  {
   "cell_type": "markdown",
   "id": "0ee72595",
   "metadata": {
    "papermill": {
     "duration": 0.06434,
     "end_time": "2023-03-26T17:44:11.127198",
     "exception": false,
     "start_time": "2023-03-26T17:44:11.062858",
     "status": "completed"
    },
    "tags": []
   },
   "source": [
    "## Standardisation of features"
   ]
  },
  {
   "cell_type": "code",
   "execution_count": 43,
   "id": "c3fee06e",
   "metadata": {
    "execution": {
     "iopub.execute_input": "2023-03-26T17:44:11.259914Z",
     "iopub.status.busy": "2023-03-26T17:44:11.259085Z",
     "iopub.status.idle": "2023-03-26T17:44:11.271149Z",
     "shell.execute_reply": "2023-03-26T17:44:11.270134Z"
    },
    "papermill": {
     "duration": 0.08163,
     "end_time": "2023-03-26T17:44:11.273871",
     "exception": false,
     "start_time": "2023-03-26T17:44:11.192241",
     "status": "completed"
    },
    "tags": []
   },
   "outputs": [
    {
     "data": {
      "text/plain": [
       "array([[ 1.51861254, -0.5622498 ,  0.23205254, ...,  0.36217728,\n",
       "         1.84791957,  1.01300893],\n",
       "       [ 0.24628963, -0.49941338, -0.82799632, ...,  0.40605066,\n",
       "         1.1134493 ,  0.96524152],\n",
       "       [ 0.19687903,  0.02123125,  1.10933436, ...,  0.31830389,\n",
       "         0.78858745,  1.39514818],\n",
       "       ...,\n",
       "       [ 0.33275817,  1.74474449, -0.38935541, ..., -1.61212515,\n",
       "        -1.48544548,  0.28057537],\n",
       "       [ 0.20923168,  0.22769377,  0.01273209, ..., -1.56825176,\n",
       "        -1.40069891,  0.29649784],\n",
       "       [ 1.39508604,  1.58316512,  1.36520822, ..., -1.52437837,\n",
       "        -1.42894777, -0.59516041]])"
      ]
     },
     "execution_count": 43,
     "metadata": {},
     "output_type": "execute_result"
    }
   ],
   "source": [
    "from sklearn.preprocessing import StandardScaler\n",
    "sc=StandardScaler()\n",
    "X_scaled=sc.fit_transform(X)\n",
    "X_scaled"
   ]
  },
  {
   "cell_type": "markdown",
   "id": "b9029ae0",
   "metadata": {
    "papermill": {
     "duration": 0.064912,
     "end_time": "2023-03-26T17:44:11.404939",
     "exception": false,
     "start_time": "2023-03-26T17:44:11.340027",
     "status": "completed"
    },
    "tags": []
   },
   "source": [
    "## Building the LDA model"
   ]
  },
  {
   "cell_type": "code",
   "execution_count": 44,
   "id": "1e412538",
   "metadata": {
    "execution": {
     "iopub.execute_input": "2023-03-26T17:44:11.538748Z",
     "iopub.status.busy": "2023-03-26T17:44:11.537748Z",
     "iopub.status.idle": "2023-03-26T17:44:11.572806Z",
     "shell.execute_reply": "2023-03-26T17:44:11.571540Z"
    },
    "papermill": {
     "duration": 0.104601,
     "end_time": "2023-03-26T17:44:11.575653",
     "exception": false,
     "start_time": "2023-03-26T17:44:11.471052",
     "status": "completed"
    },
    "tags": []
   },
   "outputs": [],
   "source": [
    "from sklearn.discriminant_analysis import LinearDiscriminantAnalysis"
   ]
  },
  {
   "cell_type": "code",
   "execution_count": 45,
   "id": "3d0c70c7",
   "metadata": {
    "execution": {
     "iopub.execute_input": "2023-03-26T17:44:11.710781Z",
     "iopub.status.busy": "2023-03-26T17:44:11.709354Z",
     "iopub.status.idle": "2023-03-26T17:44:11.721908Z",
     "shell.execute_reply": "2023-03-26T17:44:11.720985Z"
    },
    "papermill": {
     "duration": 0.082306,
     "end_time": "2023-03-26T17:44:11.724542",
     "exception": false,
     "start_time": "2023-03-26T17:44:11.642236",
     "status": "completed"
    },
    "tags": []
   },
   "outputs": [
    {
     "data": {
      "text/plain": [
       "array([1, 2, 3], dtype=int64)"
      ]
     },
     "execution_count": 45,
     "metadata": {},
     "output_type": "execute_result"
    }
   ],
   "source": [
    "y.unique()"
   ]
  },
  {
   "cell_type": "code",
   "execution_count": 46,
   "id": "58fbedd0",
   "metadata": {
    "execution": {
     "iopub.execute_input": "2023-03-26T17:44:11.860458Z",
     "iopub.status.busy": "2023-03-26T17:44:11.858997Z",
     "iopub.status.idle": "2023-03-26T17:44:11.864995Z",
     "shell.execute_reply": "2023-03-26T17:44:11.863820Z"
    },
    "papermill": {
     "duration": 0.076714,
     "end_time": "2023-03-26T17:44:11.867868",
     "exception": false,
     "start_time": "2023-03-26T17:44:11.791154",
     "status": "completed"
    },
    "tags": []
   },
   "outputs": [],
   "source": [
    "# n_components <= min(n_classes-1, n_features)\n",
    "#              <= min(3-1, 13)\n",
    "#               = 2, the dim of the hyperplane onto which we want to project\n",
    "\n",
    "lda=LinearDiscriminantAnalysis(n_components=2)"
   ]
  },
  {
   "cell_type": "markdown",
   "id": "f45683cb",
   "metadata": {
    "papermill": {
     "duration": 0.064967,
     "end_time": "2023-03-26T17:44:11.999441",
     "exception": false,
     "start_time": "2023-03-26T17:44:11.934474",
     "status": "completed"
    },
    "tags": []
   },
   "source": [
    "## Transformation of the data"
   ]
  },
  {
   "cell_type": "code",
   "execution_count": 47,
   "id": "acc65987",
   "metadata": {
    "execution": {
     "iopub.execute_input": "2023-03-26T17:44:12.133364Z",
     "iopub.status.busy": "2023-03-26T17:44:12.132821Z",
     "iopub.status.idle": "2023-03-26T17:44:12.140151Z",
     "shell.execute_reply": "2023-03-26T17:44:12.139089Z"
    },
    "papermill": {
     "duration": 0.077543,
     "end_time": "2023-03-26T17:44:12.142871",
     "exception": false,
     "start_time": "2023-03-26T17:44:12.065328",
     "status": "completed"
    },
    "tags": []
   },
   "outputs": [],
   "source": [
    "X_lda=lda.fit_transform(X_scaled,y)"
   ]
  },
  {
   "cell_type": "code",
   "execution_count": 48,
   "id": "c90e28a4",
   "metadata": {
    "execution": {
     "iopub.execute_input": "2023-03-26T17:44:12.278168Z",
     "iopub.status.busy": "2023-03-26T17:44:12.277288Z",
     "iopub.status.idle": "2023-03-26T17:44:12.290527Z",
     "shell.execute_reply": "2023-03-26T17:44:12.289350Z"
    },
    "papermill": {
     "duration": 0.083607,
     "end_time": "2023-03-26T17:44:12.293284",
     "exception": false,
     "start_time": "2023-03-26T17:44:12.209677",
     "status": "completed"
    },
    "tags": []
   },
   "outputs": [
    {
     "data": {
      "text/plain": [
       "array([[ 4.70024401,  1.97913835],\n",
       "       [ 4.30195811,  1.17041286],\n",
       "       [ 3.42071952,  1.42910139],\n",
       "       [ 4.20575366,  4.00287148],\n",
       "       [ 1.50998168,  0.4512239 ],\n",
       "       [ 4.51868934,  3.21313756],\n",
       "       [ 4.52737794,  3.26912179],\n",
       "       [ 4.14834781,  3.10411765],\n",
       "       [ 3.86082876,  1.95338263],\n",
       "       [ 3.36662444,  1.67864327],\n",
       "       [ 4.80587907,  2.23536271],\n",
       "       [ 3.42807646,  2.17510939],\n",
       "       [ 3.66610246,  2.26248961],\n",
       "       [ 5.58824635,  2.05478773],\n",
       "       [ 5.50131449,  3.61304865],\n",
       "       [ 3.18475189,  2.88952528],\n",
       "       [ 3.28936988,  2.76584266],\n",
       "       [ 2.99809262,  1.42511132],\n",
       "       [ 5.24640372,  3.70982655],\n",
       "       [ 3.13653106,  1.97689922],\n",
       "       [ 3.57747791,  0.5624599 ],\n",
       "       [ 1.69077135,  0.91342136],\n",
       "       [ 4.83515033,  0.9147628 ],\n",
       "       [ 3.09588961,  0.61735888],\n",
       "       [ 3.32164716,  0.29847734],\n",
       "       [ 2.14482223,  0.16369247],\n",
       "       [ 3.9824285 ,  2.17515679],\n",
       "       [ 2.68591432,  1.21850924],\n",
       "       [ 3.56309464,  1.03817651],\n",
       "       [ 3.17301573,  1.37789624],\n",
       "       [ 2.99626797,  1.32419896],\n",
       "       [ 3.56866244,  2.34065478],\n",
       "       [ 3.38506383,  0.20123426],\n",
       "       [ 3.5275375 ,  1.71592739],\n",
       "       [ 2.85190852,  1.47070771],\n",
       "       [ 2.79411996,  0.23793093],\n",
       "       [ 2.75808511,  1.56970421],\n",
       "       [ 2.17734477,  1.01036455],\n",
       "       [ 3.02926382, -0.23509583],\n",
       "       [ 3.27105228,  2.6040459 ],\n",
       "       [ 2.92065533,  0.25523343],\n",
       "       [ 2.23721062,  0.91946116],\n",
       "       [ 4.69972568,  2.56075339],\n",
       "       [ 1.23036133,  0.42259515],\n",
       "       [ 2.58203904, -0.35029195],\n",
       "       [ 2.58312049,  2.87686572],\n",
       "       [ 3.88887889,  2.05160408],\n",
       "       [ 3.44975356,  0.95183917],\n",
       "       [ 2.34223331,  1.4325895 ],\n",
       "       [ 3.52062596,  2.08155356],\n",
       "       [ 3.21840912,  0.8791287 ],\n",
       "       [ 4.38214896,  2.16471573],\n",
       "       [ 4.36311727,  2.27182928],\n",
       "       [ 3.51917293,  3.00737373],\n",
       "       [ 3.12277475,  1.59356669],\n",
       "       [ 1.8024054 ,  1.33006156],\n",
       "       [ 2.87378754,  1.72989942],\n",
       "       [ 3.61690518,  2.29115753],\n",
       "       [ 3.73868551,  2.46011803],\n",
       "       [-1.58618749, -2.42384416],\n",
       "       [-0.79967216, -1.39406461],\n",
       "       [-2.38015446, -1.45188659],\n",
       "       [ 0.45917726, -1.19045365],\n",
       "       [ 0.50726885, -3.16662403],\n",
       "       [-0.39398359, -2.7798417 ],\n",
       "       [ 0.92256616, -1.38872368],\n",
       "       [ 1.95549377, -2.69360629],\n",
       "       [ 0.34732815, -2.59289903],\n",
       "       [-0.20371212,  0.01962135],\n",
       "       [ 0.24831914, -2.7561761 ],\n",
       "       [-1.17987999, -0.90034277],\n",
       "       [ 1.07718925, -1.82670118],\n",
       "       [-0.64100179, -1.44531367],\n",
       "       [ 1.74684421, -1.78455859],\n",
       "       [ 0.34721117, -1.48810682],\n",
       "       [-1.14274222, -3.089249  ],\n",
       "       [-0.18665882, -2.67317096],\n",
       "       [-0.900525  , -1.81942357],\n",
       "       [ 0.70709551, -2.12304449],\n",
       "       [ 0.59562833, -2.48962245],\n",
       "       [ 0.55761818, -4.65303778],\n",
       "       [ 1.80430417, -1.48714945],\n",
       "       [-0.23077079, -2.84287547],\n",
       "       [-2.03482711, -0.79032003],\n",
       "       [ 0.62113021, -1.69689588],\n",
       "       [ 1.03372742, -2.44143762],\n",
       "       [-0.76598781, -3.44641402],\n",
       "       [-0.35042568, -3.22935698],\n",
       "       [-0.15324508, -2.11287767],\n",
       "       [ 0.14962842, -2.9919321 ],\n",
       "       [-0.48079504, -2.54002408],\n",
       "       [-1.39689016, -2.54082291],\n",
       "       [-0.91972331, -2.24859665],\n",
       "       [ 0.59102937, -2.93845393],\n",
       "       [-0.49411386, -2.93631076],\n",
       "       [ 1.62614426, -2.02049545],\n",
       "       [-2.00044562, -0.63448464],\n",
       "       [ 1.00534818, -3.33112586],\n",
       "       [ 2.07121314, -2.7144542 ],\n",
       "       [ 1.6381589 , -3.87739654],\n",
       "       [ 1.0589434 , -2.99987263],\n",
       "       [-0.02594549, -2.35411388],\n",
       "       [ 0.21887407, -1.64289601],\n",
       "       [-1.3643764 , -3.81747174],\n",
       "       [ 1.12901245, -2.32685245],\n",
       "       [ 0.21263094, -2.99677582],\n",
       "       [ 0.77946884, -2.47277392],\n",
       "       [-0.61546732, -2.17823987],\n",
       "       [-0.22550192, -3.79734159],\n",
       "       [ 2.03869851, -2.18532522],\n",
       "       [-0.79274716, -3.66157598],\n",
       "       [-0.30229545, -2.79527873],\n",
       "       [ 0.50664882, -1.09527341],\n",
       "       [-0.99837397, -3.44598675],\n",
       "       [ 0.21954922, -2.79759769],\n",
       "       [ 0.37131517, -6.00561031],\n",
       "       [-0.05545894, -3.4784697 ],\n",
       "       [ 0.09137874, -3.61977733],\n",
       "       [-1.79755252, -0.85012177],\n",
       "       [ 0.17405009, -2.63224971],\n",
       "       [ 1.17870281, -2.20519226],\n",
       "       [ 3.2105439 , -2.90531169],\n",
       "       [-0.62605202, -1.99570866],\n",
       "       [-0.03366613, -1.38435976],\n",
       "       [ 0.6993008 , -2.45943957],\n",
       "       [ 0.72061079, -3.2466652 ],\n",
       "       [ 0.51933512, -2.86969325],\n",
       "       [-1.17030045, -3.31947864],\n",
       "       [-0.10824791, -3.79876143],\n",
       "       [-1.12319783, -1.28784815],\n",
       "       [-2.24632419,  0.18734787],\n",
       "       [-3.28527755,  0.69608625],\n",
       "       [-4.07236441,  0.14425752],\n",
       "       [-3.86691235,  0.53503357],\n",
       "       [-3.45088333, -0.21734536],\n",
       "       [-3.71583899,  0.5651013 ],\n",
       "       [-3.9222051 ,  0.89352622],\n",
       "       [-4.8516102 ,  0.31406852],\n",
       "       [-3.54993389,  0.9159633 ],\n",
       "       [-3.76889174,  0.22554113],\n",
       "       [-2.6694225 ,  1.14109076],\n",
       "       [-2.32491492,  1.9484833 ],\n",
       "       [-3.17712883,  1.05985317],\n",
       "       [-2.88964418,  1.15705922],\n",
       "       [-3.78325562,  2.00739304],\n",
       "       [-3.04411324,  0.9812437 ],\n",
       "       [-4.70697017,  1.81778277],\n",
       "       [-4.85021393,  2.20818213],\n",
       "       [-4.98359184,  2.0349552 ],\n",
       "       [-4.86968293,  1.80832861],\n",
       "       [-4.5986919 ,  1.87224228],\n",
       "       [-5.67447884,  1.82580271],\n",
       "       [-5.32986123,  0.58218515],\n",
       "       [-5.03401031,  2.27732076],\n",
       "       [-4.52080087, -0.0067342 ],\n",
       "       [-5.0978371 ,  2.0016203 ],\n",
       "       [-5.04368277,  2.5119033 ],\n",
       "       [-4.86980829,  1.09158074],\n",
       "       [-5.61316558,  2.98439332],\n",
       "       [-5.67046737,  2.27306996],\n",
       "       [-5.37413513,  0.76247223],\n",
       "       [-3.09975377,  1.94106484],\n",
       "       [-3.35888137,  0.54868961],\n",
       "       [-3.04007194,  1.45698898],\n",
       "       [-4.94861303,  2.18992458],\n",
       "       [-4.54504458,  1.21989845],\n",
       "       [-5.27255844,  2.71623061],\n",
       "       [-5.13016117,  2.29172536],\n",
       "       [-4.30468082,  2.39112531],\n",
       "       [-5.08336782,  3.15766665],\n",
       "       [-4.06743571,  0.31892192],\n",
       "       [-5.74212961,  1.46708165],\n",
       "       [-4.4820514 ,  3.30708382],\n",
       "       [-4.29150758,  3.39033191],\n",
       "       [-4.50329623,  2.08354592],\n",
       "       [-5.04747033,  3.19623136],\n",
       "       [-4.27615505,  2.43138798],\n",
       "       [-5.5380861 ,  3.04205709]])"
      ]
     },
     "execution_count": 48,
     "metadata": {},
     "output_type": "execute_result"
    }
   ],
   "source": [
    "X_lda"
   ]
  },
  {
   "cell_type": "markdown",
   "id": "09ba867f",
   "metadata": {
    "papermill": {
     "duration": 0.065573,
     "end_time": "2023-03-26T17:44:12.427112",
     "exception": false,
     "start_time": "2023-03-26T17:44:12.361539",
     "status": "completed"
    },
    "tags": []
   },
   "source": [
    "This code appears to fit a dataset X_scaled to a linear discriminant analysis (LDA) model, and transform the original data to a new feature space using the fitted model.\n",
    "\n",
    "In more detail, lda is an instance of the LDA class, which is a supervised learning algorithm used for dimensionality reduction and classification. fit_transform is a method of this class that combines the fitting and transformation steps, taking as input the feature matrix X_scaled and the target vector y.\n",
    "\n",
    "The output of this operation is stored in X_lda, which should be a new feature matrix that has been transformed to a new space where the classes are better separated. Each row of X_lda represents a data point in the new space, and the number of columns corresponds to the number of classes minus one (i.e., if there are three classes, X_lda would have two columns)."
   ]
  },
  {
   "cell_type": "markdown",
   "id": "e051f874",
   "metadata": {
    "papermill": {
     "duration": 0.065589,
     "end_time": "2023-03-26T17:44:12.561183",
     "exception": false,
     "start_time": "2023-03-26T17:44:12.495594",
     "status": "completed"
    },
    "tags": []
   },
   "source": [
    "## Visualisation of the transformed data"
   ]
  },
  {
   "cell_type": "code",
   "execution_count": 49,
   "id": "4fcfe605",
   "metadata": {
    "execution": {
     "iopub.execute_input": "2023-03-26T17:44:12.697485Z",
     "iopub.status.busy": "2023-03-26T17:44:12.696993Z",
     "iopub.status.idle": "2023-03-26T17:44:12.935504Z",
     "shell.execute_reply": "2023-03-26T17:44:12.933908Z"
    },
    "papermill": {
     "duration": 0.310352,
     "end_time": "2023-03-26T17:44:12.938487",
     "exception": false,
     "start_time": "2023-03-26T17:44:12.628135",
     "status": "completed"
    },
    "tags": []
   },
   "outputs": [
    {
     "data": {
      "image/png": "[encoded data removed]",
      "text/plain": [
       "<Figure size 432x288 with 1 Axes>"
      ]
     },
     "metadata": {
      "needs_background": "light"
     },
     "output_type": "display_data"
    }
   ],
   "source": [
    "plt.scatter(X_lda[:,0],X_lda[:,1],c=y);"
   ]
  },
  {
   "cell_type": "markdown",
   "id": "8cdc8ae2",
   "metadata": {
    "papermill": {
     "duration": 0.066281,
     "end_time": "2023-03-26T17:44:13.073702",
     "exception": false,
     "start_time": "2023-03-26T17:44:13.007421",
     "status": "completed"
    },
    "tags": []
   },
   "source": [
    "This code is likely plotting the two-dimensional projection of the transformed data X_lda onto its first two linear discriminants using a scatter plot, where each data point is colored based on its corresponding class label y.\n",
    "\n",
    "Specifically, plt is a shorthand for the matplotlib.pyplot library, which provides a set of functions for creating visualizations. scatter is a method of this library that generates a scatter plot, where each point is represented as a dot on the x-y plane.\n",
    "\n",
    "The input to scatter are the first two columns of X_lda, accessed using X_lda[:,0] and X_lda[:,1], which represent the two discriminant axes that capture the most discriminative information in the data. The c argument is set to y, which assigns a color to each point based on its class label.\n",
    "\n",
    "Overall, this code allows us to visualize the separation of the classes in the transformed feature space, which can help us understand how well the LDA algorithm has performed in separating the classes."
   ]
  },
  {
   "cell_type": "markdown",
   "id": "885a4894",
   "metadata": {
    "papermill": {
     "duration": 0.066655,
     "end_time": "2023-03-26T17:44:13.207504",
     "exception": false,
     "start_time": "2023-03-26T17:44:13.140849",
     "status": "completed"
    },
    "tags": []
   },
   "source": [
    "# Locally Linear Embedding"
   ]
  },
  {
   "cell_type": "markdown",
   "id": "0d132c26",
   "metadata": {
    "papermill": {
     "duration": 0.065633,
     "end_time": "2023-03-26T17:44:13.339500",
     "exception": false,
     "start_time": "2023-03-26T17:44:13.273867",
     "status": "completed"
    },
    "tags": []
   },
   "source": [
    "LLE (Locally Linear Embedding) and LDA (Linear Discriminant Analysis) are both dimensionality reduction techniques, but they are used in different contexts and for different purposes.\n",
    "\n",
    "LLE is a non-linear dimensionality reduction technique used to discover the underlying structure of high-dimensional data when that structure is assumed to be nonlinear. LLE works by finding a lower-dimensional representation of the data that preserves the local structure of the data. It does this by first finding the nearest neighbors of each point in the high-dimensional space, and then representing each point as a linear combination of its neighbors. The weights of these linear combinations are then used to compute a lower-dimensional representation of the data. LLE is typically used for exploratory data analysis and visualization, as well as for feature extraction.\n",
    "\n",
    "On the other hand, LDA is a supervised learning algorithm that is used to find a linear combination of features that separates classes in a dataset. Specifically, LDA identifies the linear discriminants that maximize the ratio of the between-class variance to the within-class variance. This means that LDA tries to find the direction in the data that best separates the different classes. LDA is typically used in classification tasks, where the goal is to predict the class of a new data point based on its features. LDA can also be used for exploratory data analysis and visualization, but its primary use case is classification.\n",
    "\n",
    "In summary, LLE is used when we want to discover the underlying structure of high-dimensional data when that structure is assumed to be nonlinear. LDA, on the other hand, is used when we want to find a linear combination of features that separates classes in a dataset. While both techniques can be used for exploratory data analysis and visualization, LLE is more commonly used for these purposes, while LDA is primarily used for classification."
   ]
  },
  {
   "cell_type": "code",
   "execution_count": 50,
   "id": "83bf1e10",
   "metadata": {
    "execution": {
     "iopub.execute_input": "2023-03-26T17:44:13.476744Z",
     "iopub.status.busy": "2023-03-26T17:44:13.475891Z",
     "iopub.status.idle": "2023-03-26T17:44:13.556604Z",
     "shell.execute_reply": "2023-03-26T17:44:13.555285Z"
    },
    "papermill": {
     "duration": 0.151771,
     "end_time": "2023-03-26T17:44:13.559736",
     "exception": false,
     "start_time": "2023-03-26T17:44:13.407965",
     "status": "completed"
    },
    "tags": []
   },
   "outputs": [],
   "source": [
    "from sklearn.datasets import make_swiss_roll"
   ]
  },
  {
   "cell_type": "markdown",
   "id": "11820ceb",
   "metadata": {
    "papermill": {
     "duration": 0.067418,
     "end_time": "2023-03-26T17:44:13.695061",
     "exception": false,
     "start_time": "2023-03-26T17:44:13.627643",
     "status": "completed"
    },
    "tags": []
   },
   "source": [
    "The make_swiss_roll function is a utility function provided in the Scikit-learn machine learning library that generates a 3D dataset with a non-linear, Swiss roll-like structure.\n",
    "\n",
    "This function takes several arguments, including the number of samples, noise level, and a random state. Specifically, the n_samples parameter controls the number of samples to generate, noise controls the amount of random noise to add to the data, and random_state controls the random seed for the dataset.\n",
    "\n",
    "The output of make_swiss_roll is a tuple containing three arrays: X, y, and t. The X array contains the 3D coordinates of the samples, the y array contains the target values for each sample, and the t array contains the unrolled 2D coordinates of the samples.\n",
    "\n",
    "This function is commonly used in machine learning experiments as a toy dataset for testing and evaluating dimensionality reduction techniques and visualization methods. Because the dataset has a known structure, it can be used to evaluate the effectiveness of different algorithms in recovering the underlying structure of the data. Additionally, because the dataset has a visually appealing structure, it is often used to generate interesting and informative visualizations of the data."
   ]
  },
  {
   "cell_type": "code",
   "execution_count": 51,
   "id": "f23499fb",
   "metadata": {
    "execution": {
     "iopub.execute_input": "2023-03-26T17:44:13.907156Z",
     "iopub.status.busy": "2023-03-26T17:44:13.906224Z",
     "iopub.status.idle": "2023-03-26T17:44:13.915425Z",
     "shell.execute_reply": "2023-03-26T17:44:13.914357Z"
    },
    "papermill": {
     "duration": 0.155378,
     "end_time": "2023-03-26T17:44:13.917901",
     "exception": false,
     "start_time": "2023-03-26T17:44:13.762523",
     "status": "completed"
    },
    "tags": []
   },
   "outputs": [
    {
     "data": {
      "text/plain": [
       "array([[-9.02243256,  0.58237783, -3.91158679],\n",
       "       [ 3.63249892,  8.02698255,  6.37347947],\n",
       "       [-6.59990375, 20.01826915,  5.68894892],\n",
       "       ...,\n",
       "       [ 6.06643253, 20.59885419, -0.90994904],\n",
       "       [ 1.72607563,  7.66075992, -4.75699209],\n",
       "       [-6.24197451, 16.34985863, -8.25349579]])"
      ]
     },
     "execution_count": 51,
     "metadata": {},
     "output_type": "execute_result"
    }
   ],
   "source": [
    "X,y=make_swiss_roll(n_samples=1000, random_state=100)\n",
    "X"
   ]
  },
  {
   "cell_type": "markdown",
   "id": "59b60b3e",
   "metadata": {
    "papermill": {
     "duration": 0.065998,
     "end_time": "2023-03-26T17:44:14.051493",
     "exception": false,
     "start_time": "2023-03-26T17:44:13.985495",
     "status": "completed"
    },
    "tags": []
   },
   "source": [
    "The code you provided generates a 3D dataset with a Swiss roll-like structure using the make_swiss_roll function from Scikit-learn, with 1000 samples and a random state of 100.\n",
    "\n",
    "The line X, y = make_swiss_roll(n_samples=1000, random_state=100) assigns the output of the make_swiss_roll function to two variables, X and y. X is a numpy array with shape (1000, 3), where each row represents the 3D coordinates of a sample, and y is a numpy array with shape (1000,), where each element represents the target value for a sample.\n",
    "\n",
    "Finally, the line X simply prints the X array to the console, which displays the 3D coordinates of each sample. The output will be a numpy array with shape (1000, 3), where each row represents the 3D coordinates of a sample in the dataset. The values in the array will depend on the random state used to generate the data."
   ]
  },
  {
   "cell_type": "code",
   "execution_count": 52,
   "id": "87449d02",
   "metadata": {
    "execution": {
     "iopub.execute_input": "2023-03-26T17:44:14.189380Z",
     "iopub.status.busy": "2023-03-26T17:44:14.188522Z",
     "iopub.status.idle": "2023-03-26T17:44:14.205179Z",
     "shell.execute_reply": "2023-03-26T17:44:14.203909Z"
    },
    "papermill": {
     "duration": 0.08828,
     "end_time": "2023-03-26T17:44:14.208033",
     "exception": false,
     "start_time": "2023-03-26T17:44:14.119753",
     "status": "completed"
    },
    "tags": []
   },
   "outputs": [
    {
     "data": {
      "text/plain": [
       "array([ 9.8338599 ,  7.33595863,  8.71337301, 12.67421645,  4.75686315,\n",
       "        5.85815095, 11.03405017, 12.49586783,  6.00081823, 10.13251592,\n",
       "       13.11290049,  6.68407253,  6.4590663 ,  5.73381711,  6.78298907,\n",
       "       13.93570086, 12.36232244,  6.33289485, 12.405126  ,  7.29547319,\n",
       "        8.78110506, 13.57196131, 12.41855283,  7.88016948,  6.36559356,\n",
       "        8.22624823,  4.7660019 ,  7.09145131, 12.21133145,  4.8561637 ,\n",
       "       10.35635484, 10.40311269,  5.70338257,  8.31212114,  5.05616771,\n",
       "       13.10432026, 13.95735025,  5.27732892, 13.10558677, 10.14955752,\n",
       "       11.71009519, 10.65173266, 10.19612245,  4.90502326,  6.69184284,\n",
       "        9.84592302, 11.96112869,  7.07513585,  7.40689238, 12.74602342,\n",
       "       13.90160869, 13.0519348 ,  8.10067058, 10.35650158,  8.05625884,\n",
       "        7.91860622,  6.39076277,  6.95260412,  5.13520603,  9.47596798,\n",
       "        8.25848482, 10.29944826, 10.64945129,  6.05636528, 13.51363588,\n",
       "       13.63180922, 10.38890125,  8.36700007,  8.13535528,  6.63829784,\n",
       "        7.32083823,  7.03593492,  6.34860585, 13.82247073, 13.73202024,\n",
       "       10.34815818, 11.6047362 ,  7.92044413,  5.5799926 ,  9.08075489,\n",
       "        9.5067631 ,  5.54610647,  9.68900372, 14.06325818,  8.43551492,\n",
       "        7.87531093, 12.30358145, 11.82196076,  7.66297068, 10.68804394,\n",
       "        9.80558211,  7.50960418,  5.75654035,  7.65895437,  9.01931581,\n",
       "       10.92275283,  7.10870963, 10.75462599,  6.59850954, 10.91035675,\n",
       "       12.04759203, 12.05993079, 10.46459631,  7.62464866, 11.28838556,\n",
       "       12.81410055, 10.60592655, 13.97136464, 13.91568586,  6.28344415,\n",
       "        4.93083777,  6.22737066, 13.41614151, 13.69938459,  6.70081373,\n",
       "        8.11025942,  9.89012884,  7.27433438,  9.05345699, 11.27355715,\n",
       "        9.42813221, 11.46119907,  9.6694069 ,  4.72557446,  8.43235154,\n",
       "        9.35095339,  8.50944665,  8.05157179,  9.43056779,  8.90807986,\n",
       "        5.56469793,  7.29065876, 13.60445114,  4.96256633,  5.08936775,\n",
       "        7.380924  , 10.20085348, 14.05133363, 14.06782166, 14.07229971,\n",
       "        5.74957006, 10.97497907,  9.65084855,  6.34428843, 13.59957991,\n",
       "        6.99186659, 14.12710381, 10.20414881,  6.43975287,  8.35832119,\n",
       "        6.50001988,  8.58381137, 10.31711659, 11.4660538 ,  9.30123309,\n",
       "        7.63020427, 10.1546457 ,  8.8753871 ,  8.10227523,  7.74087109,\n",
       "        6.67469599,  8.96540132,  9.3478992 , 13.18598362, 11.58644938,\n",
       "       11.9703141 ,  8.25082053,  7.95205778, 10.88595035, 11.41376419,\n",
       "        5.78245542,  5.96615484,  9.01045584,  6.21786748, 13.7756504 ,\n",
       "       12.60673139,  9.61478796,  6.76955654,  5.98396798, 13.93990959,\n",
       "       11.37611694, 12.81746766,  8.36140503,  7.07644392,  7.53452582,\n",
       "       12.78843907,  9.17015807, 10.96362787, 12.3062022 ,  7.09667407,\n",
       "        5.46235097, 11.61849498, 13.77334674, 13.70178682,  9.33523363,\n",
       "       10.67065882, 11.62070429, 13.21739818,  6.24153016,  8.53773032,\n",
       "        8.64337655, 11.26817997,  8.71647987, 12.79992503, 12.69453955,\n",
       "        5.37400004,  7.55633848, 13.94512466,  5.04816551,  9.35308035,\n",
       "       13.68832936, 12.35186668,  7.48638804, 10.33175751,  8.7761445 ,\n",
       "       10.29560391, 13.13580412,  9.93391568,  9.35754638,  7.72144215,\n",
       "        7.19455301,  9.82326336,  5.48771385, 10.70312383, 12.21833139,\n",
       "       13.71067223, 11.16482073,  9.31444366,  9.28731107, 13.82325511,\n",
       "        6.70429589,  8.59208128, 14.0397673 ,  4.98016442, 11.32223565,\n",
       "        4.94962538,  7.736628  ,  5.40536521,  5.28621248,  5.76236878,\n",
       "        6.30771086, 10.62819279,  8.84414656, 12.54347247,  6.97237712,\n",
       "        6.50359355, 11.42188519, 12.80162808,  9.98136657, 11.35139492,\n",
       "       10.41543556,  9.98288771, 12.82141319, 13.38087902, 12.71974938,\n",
       "        7.11067958, 12.98315511,  8.81339441, 11.5877112 ,  8.60143659,\n",
       "        6.51097634, 11.36646619,  6.98029989, 12.73593268, 12.47937007,\n",
       "        9.66239345,  8.35356518, 10.28130923,  6.00851852, 12.33015811,\n",
       "       13.81508284, 12.06179129,  6.96806899, 12.88612581, 12.32869354,\n",
       "        5.31256944,  6.8916644 , 10.2700434 ,  6.00817294, 11.10654198,\n",
       "       14.06356592,  7.40553799, 11.88382279,  5.1508972 ,  7.84646606,\n",
       "       13.61458931, 10.71142076, 10.38467846, 13.46032351,  6.42467709,\n",
       "        4.88036853,  6.50377704,  9.6309148 ,  9.38540111, 12.25684085,\n",
       "       12.81238539,  6.7194523 ,  8.83355072,  8.68604039,  5.22808811,\n",
       "        4.80601184, 12.15575515,  7.30715494, 11.47692916,  8.68357499,\n",
       "        6.06329775,  6.52686307,  7.67002788, 12.30093903,  4.83138463,\n",
       "        5.17520187, 10.04681693, 11.18542729, 11.56242038,  9.23339617,\n",
       "        8.17747195, 12.62892066,  8.99277962,  7.74119066,  5.58625314,\n",
       "        5.28200307,  5.56958354, 11.14674574, 11.12817244,  7.0042515 ,\n",
       "       10.74859587,  5.36401043, 12.9394658 ,  5.74541015,  6.30570203,\n",
       "        9.11732277, 12.02553808, 12.76533882,  6.69523451,  5.43472158,\n",
       "       12.14773577,  9.87245492, 12.12266648, 13.38362807,  9.2454505 ,\n",
       "        9.04358028, 10.35763452, 10.36083542,  9.46599677,  7.60465098,\n",
       "        9.81452062, 13.42962005, 13.85961479,  8.4426653 , 12.24038582,\n",
       "       10.69795376,  6.8797973 ,  5.19500446,  4.98065403,  5.87020177,\n",
       "        6.78784307, 12.52574436,  7.40308607, 12.07374453,  9.46875221,\n",
       "        6.01723935, 12.04521073, 13.39573656, 13.6001302 , 11.35153996,\n",
       "       11.2523974 ,  9.86351847,  8.19217939, 13.97192773,  5.33074136,\n",
       "       13.17280774,  7.19987995, 10.12669624,  9.54603968,  9.93820978,\n",
       "       10.81179739,  6.46044175,  7.27572317,  6.11139037,  4.99799906,\n",
       "       13.56466431,  7.98046966,  5.74501105,  8.27803691,  8.3322526 ,\n",
       "       10.98385949,  7.0166617 , 10.94670028,  5.64066254, 10.1868914 ,\n",
       "        5.71957263,  9.87956598,  9.61093342,  7.50432977,  9.0075341 ,\n",
       "        5.07681235, 10.35785949,  4.71697658,  9.44187068,  9.44104627,\n",
       "        5.28418739, 13.66439123, 10.44886533, 11.04586506,  9.07392669,\n",
       "       11.35000653,  6.41890658, 10.81570721, 10.06668766, 13.70493074,\n",
       "       12.22101759, 10.22880947,  9.00400844, 11.67213069, 12.36753555,\n",
       "       13.4519024 , 12.50079559,  4.99472326, 11.99588398,  9.63002506,\n",
       "       13.056968  ,  9.03423087,  9.8085792 , 13.26787253,  9.95548759,\n",
       "        6.47590369, 11.13171239,  4.84289092,  8.29466846, 12.33406074,\n",
       "       10.14224307,  6.14292423,  7.82119686, 13.68263955,  4.99875825,\n",
       "       12.04650169,  6.42189159,  6.72605753, 10.86296348,  6.07042358,\n",
       "        8.30329791,  8.53634686, 10.92299189,  9.53620404,  9.26064643,\n",
       "        9.65117808, 12.31145431, 12.29359631,  6.1044328 , 14.07546836,\n",
       "        5.35108484, 14.09773185,  5.87587492,  5.29605792, 11.3477667 ,\n",
       "       13.76940883, 11.42425354, 10.96178321,  5.97224582,  6.41210216,\n",
       "        6.18940125,  5.56508145, 13.87201164,  9.51771692,  8.96180908,\n",
       "        7.8197475 ,  9.3636304 ,  6.06579638,  6.13477921, 12.39677405,\n",
       "        6.70367382,  5.52803115,  8.36220415, 13.13251779,  8.75225689,\n",
       "       11.93463415, 14.09254441,  4.9014769 ,  5.73213326, 11.2601844 ,\n",
       "       13.10669989,  9.35386898,  5.37464919,  5.5458915 ,  5.71337729,\n",
       "        6.60920922, 12.98134992, 13.60205163,  5.99072946, 12.80570003,\n",
       "       11.84843767, 11.17940409, 12.78370653,  6.88836054,  9.60703412,\n",
       "        7.94823047, 10.92117757,  7.37762433,  9.44802355,  7.57071226,\n",
       "        9.91985611,  6.23097609, 10.07083673,  9.29009664,  5.91423236,\n",
       "        9.83656695,  6.60196845, 11.02850628,  9.9724727 ,  6.90250303,\n",
       "        9.57169598,  7.68111839, 12.69133578,  8.92881109,  5.65567   ,\n",
       "       13.2096942 , 12.78083064,  7.41098447,  7.15354568,  5.33792444,\n",
       "        7.70599696,  5.2009977 , 13.61115423, 11.4720028 ,  9.93050401,\n",
       "        8.10290356,  6.21264682,  8.79292238,  7.34531547, 13.76995528,\n",
       "        5.63726276,  8.54823169,  4.79133512, 10.06621826, 10.14680802,\n",
       "        6.00494319, 11.04789971,  6.05894214,  9.51178277,  8.1878885 ,\n",
       "        7.06017081,  5.99681772,  5.83668141,  5.20613544,  8.81121846,\n",
       "       11.97611607, 12.73206621, 10.56784017,  8.29274609, 11.12039953,\n",
       "        7.66955919, 11.56079063, 13.33119001,  5.60675782, 10.9796491 ,\n",
       "        8.07583582, 11.89681165, 13.61885779,  6.82110956,  5.25198786,\n",
       "       10.77065369,  5.54909352, 11.00756023, 10.43531571,  4.89711293,\n",
       "        8.42380381,  9.04314328,  4.9115912 ,  8.23434275, 10.04273367,\n",
       "        4.79603555,  6.24717021, 13.17708118,  8.06226909,  7.63174708,\n",
       "       10.19908641,  9.6336746 , 13.02933867,  7.27917509,  7.53812644,\n",
       "        7.61886522,  5.66433181,  7.49290298, 11.5821548 ,  7.93452163,\n",
       "        7.40851783, 13.72575282, 14.13225806,  7.89185593,  9.19030416,\n",
       "       12.53165281,  5.64926041,  9.50125666, 12.57111347, 11.9706272 ,\n",
       "       12.40301109,  5.19823606, 11.1337144 , 13.79121758, 11.31866312,\n",
       "        8.57510098,  6.66370056, 13.72269034,  8.53895417, 11.46882504,\n",
       "       11.04896322, 12.64934418, 13.5786583 ,  9.1401601 ,  5.7275933 ,\n",
       "       10.05327304, 13.94656994,  8.8019387 , 12.42218191,  8.83336934,\n",
       "       12.35149478,  6.87639779,  8.58576675, 11.60144117, 10.71893575,\n",
       "       11.96138797, 13.72458826,  8.25616828, 13.154176  ,  6.67727136,\n",
       "        5.3080014 ,  6.96888509, 12.06559367,  8.25681651, 10.19274402,\n",
       "        6.99037794,  8.84566858,  6.41311159,  8.22896654, 12.85476936,\n",
       "       12.77993931, 13.57243   ,  8.53639829, 13.97044463,  9.26082399,\n",
       "       12.9790576 ,  8.56598484,  7.72618064, 10.76751286, 11.3980008 ,\n",
       "       11.7088429 , 10.40980512, 12.80300996, 10.83761663,  7.26165843,\n",
       "       12.80332397,  6.41662415,  9.7801403 ,  8.35911754, 10.55184201,\n",
       "        9.88269311,  9.08448704, 12.50144808,  8.49170447, 10.55106984,\n",
       "        9.43146124,  9.43316134, 10.45116553, 14.09348537,  7.04925814,\n",
       "       11.67195987, 13.4778464 , 10.22034303, 13.01229285, 11.23489252,\n",
       "        8.02442824, 12.44729908,  6.9468621 , 13.39914715, 13.37233589,\n",
       "       10.64557616,  9.53997812,  7.53842299,  8.96354911, 11.47130802,\n",
       "        7.44284866,  6.68069877,  7.69567916, 10.11499796,  9.07159597,\n",
       "        9.44945735,  9.30453234, 12.05643298,  8.38933312, 11.95566239,\n",
       "       12.83153608,  6.15862532, 10.5119685 ,  9.5494824 , 14.03599797,\n",
       "        5.49299893, 11.41783506,  7.28680871, 14.08949101,  8.05562081,\n",
       "        5.54766383, 13.97930546,  9.22914767,  9.25670609,  9.67496261,\n",
       "       13.60065511,  9.33716383,  4.99636127, 13.52898925, 11.75533706,\n",
       "       11.59635511,  5.70464048, 11.92802314, 11.3839918 , 13.40710615,\n",
       "        9.51027354, 11.42386732, 12.921826  ,  8.77128096,  9.30346873,\n",
       "        5.86439656,  6.50324838, 10.36481031,  7.52170445,  6.43413916,\n",
       "        9.45331327, 13.67223922,  6.90440471, 11.67807314, 11.890972  ,\n",
       "       11.93230121, 13.42555664,  7.75478955, 11.11127491,  6.33175423,\n",
       "       11.39996585,  9.32415323,  8.87739882, 10.80622231,  9.22151926,\n",
       "       12.07298568, 10.02593233, 12.71553694,  7.84600977, 11.19322771,\n",
       "        7.63714128, 10.94023948,  8.05323411,  5.29024555,  8.89612789,\n",
       "       11.38820284,  7.13850267, 10.54032322,  5.85868022, 10.71902907,\n",
       "        5.26177575,  5.16123556,  9.53735278,  7.53336631,  7.97747263,\n",
       "       10.83111915, 13.65545024,  9.57785407, 11.43737747, 10.2368286 ,\n",
       "        8.43457156, 11.04411056,  6.947669  , 12.70657185,  7.46888364,\n",
       "        5.84954806,  8.77620427,  7.27547206,  7.29219835, 10.7650056 ,\n",
       "        8.95271278, 13.27465625, 12.02033512,  7.90844918, 11.34498835,\n",
       "        6.96602889,  6.64598657, 11.15864118,  8.63964956,  6.55221353,\n",
       "        8.39115856,  5.64095037,  7.75229814, 13.09552291, 13.59309256,\n",
       "       10.90890488,  6.5561465 ,  9.66679458,  7.64169577,  9.94642429,\n",
       "        9.75963851,  9.09597506, 11.94934229, 13.07166725, 12.53315803,\n",
       "       13.7492721 , 13.29896485,  5.84029725,  5.79123007, 14.1085628 ,\n",
       "        5.08945857, 12.81358642,  9.09967056,  7.43613405, 11.62323897,\n",
       "        9.16269797,  8.1621761 ,  5.40740119, 12.45206662,  9.31184004,\n",
       "       11.84753084,  8.20971742,  7.25241211, 11.63578031, 12.69107167,\n",
       "       11.9992476 ,  5.62907229,  7.6612588 ,  5.22412965, 14.10340611,\n",
       "        6.3871601 ,  8.21115877,  8.09524896,  6.96661625,  6.54196878,\n",
       "       11.51855713, 14.1027652 , 10.91277191,  6.49971017, 12.2149836 ,\n",
       "       10.67967616,  5.27763683,  8.96519718,  8.46491691,  9.02410908,\n",
       "        6.34565973,  9.94465083, 11.07953998, 12.50128788, 11.81843921,\n",
       "        5.07115507, 12.2061586 , 10.87555106, 10.41431652,  4.71992057,\n",
       "        4.83599288,  6.09881952,  7.21583544,  5.28253629,  7.14271529,\n",
       "        6.87124118, 12.47919554,  6.6148227 , 13.01648851,  6.73272685,\n",
       "        5.57237641, 11.74144299,  9.46568183, 10.23721308,  8.14447949,\n",
       "        9.9266847 , 12.37326979,  6.03254833,  7.23469614, 11.68246986,\n",
       "        7.29285622, 10.33767576,  7.90383055,  5.38723885,  9.41155383,\n",
       "       11.44631093, 14.04889695,  7.59791872,  8.78218712,  9.87889731,\n",
       "       10.29448622,  5.72964657, 11.51522221,  7.42498083, 11.40582379,\n",
       "        7.20917609,  7.81589086,  6.16323254,  7.59388551, 11.94678793,\n",
       "       10.12077938, 13.87054219, 11.23291566,  9.34336916,  8.66093564,\n",
       "       13.69305653,  6.07165422,  9.62468038, 13.09242516, 11.53890789,\n",
       "       10.86137144, 10.11477422,  6.45675287, 10.49807986,  5.43762765,\n",
       "       11.00903146,  6.89403437,  6.8210744 ,  5.45992131,  9.69859736,\n",
       "        7.46637719,  9.75223556,  9.39310569,  8.84716863,  8.57341083,\n",
       "        7.16858993,  5.55472698, 12.31523137,  6.18807657, 13.32593997,\n",
       "        8.92211091,  8.94789231,  5.48328278, 11.27668478,  6.65928566,\n",
       "        5.61436945, 11.51717972,  8.4225017 , 10.28349847,  9.54508165,\n",
       "        4.94605223, 11.90155885,  7.21713499, 13.93761461, 13.65354395,\n",
       "       11.55166735, 11.55011271,  5.19140135, 10.3113302 , 11.47114849,\n",
       "        5.10703224,  9.29140165, 14.01298851,  5.16314157, 10.16794031,\n",
       "        5.38682042,  7.35266272, 11.32690386,  6.24223722,  9.35207982,\n",
       "       13.70877036, 10.26693053, 10.42971207, 12.89296943, 13.53914533,\n",
       "        6.07106931,  7.32312024,  5.89352041, 13.05068597, 12.5042089 ,\n",
       "       14.09342543, 12.3829294 ,  5.83531075, 13.49191633,  4.77823701,\n",
       "        9.78665409, 12.08729227, 13.08978431,  7.59048646, 10.78833131,\n",
       "        5.88972609, 10.44816088,  6.4983697 ,  8.85048684, 13.85831229,\n",
       "        5.35414808,  6.64609765,  9.49614182,  6.03657139, 13.51266566,\n",
       "       10.428945  ,  9.06222116, 12.26636898, 11.29755026, 11.72967662,\n",
       "        7.77698539,  6.39424803,  4.84764871,  5.72130889,  7.28584063,\n",
       "       10.52296982, 13.64311276, 13.25568978, 13.80818591,  7.89439263,\n",
       "       10.89884233,  7.459295  ,  6.13429791,  5.06046548, 10.34806448])"
      ]
     },
     "execution_count": 52,
     "metadata": {},
     "output_type": "execute_result"
    }
   ],
   "source": [
    "y"
   ]
  },
  {
   "cell_type": "code",
   "execution_count": 53,
   "id": "8ad61143",
   "metadata": {
    "execution": {
     "iopub.execute_input": "2023-03-26T17:44:14.347622Z",
     "iopub.status.busy": "2023-03-26T17:44:14.347158Z",
     "iopub.status.idle": "2023-03-26T17:44:14.643609Z",
     "shell.execute_reply": "2023-03-26T17:44:14.642040Z"
    },
    "papermill": {
     "duration": 0.371725,
     "end_time": "2023-03-26T17:44:14.648120",
     "exception": false,
     "start_time": "2023-03-26T17:44:14.276395",
     "status": "completed"
    },
    "tags": []
   },
   "outputs": [
    {
     "data": {
      "image/png": "[encoded data removed]",
      "text/plain": [
       "<Figure size 432x288 with 1 Axes>"
      ]
     },
     "metadata": {
      "needs_background": "light"
     },
     "output_type": "display_data"
    }
   ],
   "source": [
    "plt.scatter(X[:,0],X[:,1],c=y);"
   ]
  },
  {
   "cell_type": "markdown",
   "id": "13d21c69",
   "metadata": {
    "papermill": {
     "duration": 0.075192,
     "end_time": "2023-03-26T17:44:14.795393",
     "exception": false,
     "start_time": "2023-03-26T17:44:14.720201",
     "status": "completed"
    },
    "tags": []
   },
   "source": [
    "The x-axis and y-axis of the above graph represent the values of the first and second features, respectively, of the data points being plotted.\n",
    "\n",
    "Assuming that X is a numpy array with two or more columns, X[:,0] refers to the first column of X, and X[:,1] refers to the second column of X. Therefore, the x-axis of the scatter plot corresponds to the values of the first feature, and the y-axis corresponds to the values of the second feature.\n",
    "\n",
    "The plot shows how the data points are distributed in the two-dimensional space defined by these two features. The color of each point indicates its corresponding label, which can be used to identify any patterns or clusters in the data."
   ]
  },
  {
   "cell_type": "markdown",
   "id": "023a1df4",
   "metadata": {
    "papermill": {
     "duration": 0.070561,
     "end_time": "2023-03-26T17:44:14.936498",
     "exception": false,
     "start_time": "2023-03-26T17:44:14.865937",
     "status": "completed"
    },
    "tags": []
   },
   "source": [
    "## Building the model"
   ]
  },
  {
   "cell_type": "code",
   "execution_count": 54,
   "id": "040649d7",
   "metadata": {
    "execution": {
     "iopub.execute_input": "2023-03-26T17:44:15.082074Z",
     "iopub.status.busy": "2023-03-26T17:44:15.081550Z",
     "iopub.status.idle": "2023-03-26T17:44:15.232749Z",
     "shell.execute_reply": "2023-03-26T17:44:15.231528Z"
    },
    "papermill": {
     "duration": 0.227105,
     "end_time": "2023-03-26T17:44:15.235577",
     "exception": false,
     "start_time": "2023-03-26T17:44:15.008472",
     "status": "completed"
    },
    "tags": []
   },
   "outputs": [],
   "source": [
    "from sklearn.manifold import LocallyLinearEmbedding"
   ]
  },
  {
   "cell_type": "code",
   "execution_count": 55,
   "id": "340e382c",
   "metadata": {
    "execution": {
     "iopub.execute_input": "2023-03-26T17:44:15.380387Z",
     "iopub.status.busy": "2023-03-26T17:44:15.379886Z",
     "iopub.status.idle": "2023-03-26T17:44:15.385421Z",
     "shell.execute_reply": "2023-03-26T17:44:15.384037Z"
    },
    "papermill": {
     "duration": 0.08177,
     "end_time": "2023-03-26T17:44:15.388170",
     "exception": false,
     "start_time": "2023-03-26T17:44:15.306400",
     "status": "completed"
    },
    "tags": []
   },
   "outputs": [],
   "source": [
    "lle=LocallyLinearEmbedding(n_neighbors=10,n_components=2)"
   ]
  },
  {
   "cell_type": "markdown",
   "id": "55df3b8a",
   "metadata": {
    "papermill": {
     "duration": 0.07191,
     "end_time": "2023-03-26T17:44:15.532544",
     "exception": false,
     "start_time": "2023-03-26T17:44:15.460634",
     "status": "completed"
    },
    "tags": []
   },
   "source": [
    "The code you provided creates an instance of the LocallyLinearEmbedding class from Scikit-learn with two hyperparameters, n_neighbors and n_components, set to 10 and 2, respectively.\n",
    "\n",
    "LocallyLinearEmbedding is a non-linear dimensionality reduction technique that tries to preserve the local structure of high-dimensional data in a lower-dimensional space. Specifically, it finds a lower-dimensional representation of the data such that nearby points in the high-dimensional space remain nearby in the low-dimensional space. It does this by computing the weights for linear combinations of neighboring points, and using these weights to map the high-dimensional data to a lower-dimensional space.\n",
    "\n",
    "The n_neighbors parameter specifies the number of nearest neighbors to consider when computing the weights for each point. Increasing the value of n_neighbors can improve the quality of the embedding, but can also increase the computational complexity of the algorithm. The n_components parameter specifies the dimensionality of the output space, i.e., the number of dimensions in the lower-dimensional representation of the data.\n",
    "\n",
    "By creating an instance of the LocallyLinearEmbedding class with n_neighbors=10 and n_components=2, the code is setting the number of neighbors to consider to 10, and the dimensionality of the output space to 2. This means that the algorithm will find a 2D representation of the data that preserves the local structure of the original data using the 10 nearest neighbors for each point. The resulting embedding can be used for visualization, clustering, or other downstream tasks."
   ]
  },
  {
   "cell_type": "markdown",
   "id": "bcc35e97",
   "metadata": {
    "papermill": {
     "duration": 0.071486,
     "end_time": "2023-03-26T17:44:15.676403",
     "exception": false,
     "start_time": "2023-03-26T17:44:15.604917",
     "status": "completed"
    },
    "tags": []
   },
   "source": [
    "## Transforming the data"
   ]
  },
  {
   "cell_type": "code",
   "execution_count": 56,
   "id": "5ee97348",
   "metadata": {
    "execution": {
     "iopub.execute_input": "2023-03-26T17:44:15.820278Z",
     "iopub.status.busy": "2023-03-26T17:44:15.819770Z",
     "iopub.status.idle": "2023-03-26T17:44:15.967628Z",
     "shell.execute_reply": "2023-03-26T17:44:15.965944Z"
    },
    "papermill": {
     "duration": 0.225357,
     "end_time": "2023-03-26T17:44:15.972825",
     "exception": false,
     "start_time": "2023-03-26T17:44:15.747468",
     "status": "completed"
    },
    "tags": []
   },
   "outputs": [
    {
     "data": {
      "text/plain": [
       "array([[-0.00034981,  0.05148323],\n",
       "       [ 0.02608563,  0.01025472],\n",
       "       [ 0.01085642, -0.00058337],\n",
       "       ...,\n",
       "       [ 0.03429472, -0.06336828],\n",
       "       [ 0.04373708, -0.03407539],\n",
       "       [-0.00769678,  0.01826006]])"
      ]
     },
     "execution_count": 56,
     "metadata": {},
     "output_type": "execute_result"
    }
   ],
   "source": [
    "X_lle=lle.fit_transform(X)\n",
    "X_lle"
   ]
  },
  {
   "cell_type": "markdown",
   "id": "7ad9367a",
   "metadata": {
    "papermill": {
     "duration": 0.070536,
     "end_time": "2023-03-26T17:44:16.182110",
     "exception": false,
     "start_time": "2023-03-26T17:44:16.111574",
     "status": "completed"
    },
    "tags": []
   },
   "source": [
    "The code you provided applies the LocallyLinearEmbedding dimensionality reduction technique to the 3D Swiss roll dataset X using the instance of the LocallyLinearEmbedding class lle that was created with n_neighbors=10 and n_components=2.\n",
    "\n",
    "The line X_lle = lle.fit_transform(X) fits the LocallyLinearEmbedding model to the input data X, and applies the learned transformation to the data to obtain a 2D representation of the data that preserves the local structure. The output of this line is a numpy array with shape (1000, 2), where each row represents the 2D coordinates of a sample in the new embedding space.\n",
    "\n",
    "Finally, the line X_lle simply prints the X_lle array to the console, which displays the 2D coordinates of each sample in the new embedding space. The values in the array will depend on the random state used to generate the data, as well as the hyperparameters chosen for the LocallyLinearEmbedding algorithm."
   ]
  },
  {
   "cell_type": "markdown",
   "id": "4197b141",
   "metadata": {
    "papermill": {
     "duration": 0.070044,
     "end_time": "2023-03-26T17:44:16.322792",
     "exception": false,
     "start_time": "2023-03-26T17:44:16.252748",
     "status": "completed"
    },
    "tags": []
   },
   "source": [
    "## Visualisation"
   ]
  },
  {
   "cell_type": "code",
   "execution_count": 57,
   "id": "31e00ae0",
   "metadata": {
    "execution": {
     "iopub.execute_input": "2023-03-26T17:44:16.469083Z",
     "iopub.status.busy": "2023-03-26T17:44:16.467739Z",
     "iopub.status.idle": "2023-03-26T17:44:16.768296Z",
     "shell.execute_reply": "2023-03-26T17:44:16.766711Z"
    },
    "papermill": {
     "duration": 0.376731,
     "end_time": "2023-03-26T17:44:16.771780",
     "exception": false,
     "start_time": "2023-03-26T17:44:16.395049",
     "status": "completed"
    },
    "tags": []
   },
   "outputs": [
    {
     "data": {
      "image/png": "[encoded data removed]",
      "text/plain": [
       "<Figure size 432x288 with 1 Axes>"
      ]
     },
     "metadata": {
      "needs_background": "light"
     },
     "output_type": "display_data"
    }
   ],
   "source": [
    "plt.scatter(X_lle[:,0],X_lle[:,1],c=y);"
   ]
  },
  {
   "cell_type": "markdown",
   "id": "b1bf7f46",
   "metadata": {
    "papermill": {
     "duration": 0.073027,
     "end_time": "2023-03-26T17:44:16.918792",
     "exception": false,
     "start_time": "2023-03-26T17:44:16.845765",
     "status": "completed"
    },
    "tags": []
   },
   "source": [
    "# Wine dataset with LLE"
   ]
  },
  {
   "cell_type": "code",
   "execution_count": 58,
   "id": "10c9ff28",
   "metadata": {
    "execution": {
     "iopub.execute_input": "2023-03-26T17:44:17.067766Z",
     "iopub.status.busy": "2023-03-26T17:44:17.067313Z",
     "iopub.status.idle": "2023-03-26T17:44:17.146570Z",
     "shell.execute_reply": "2023-03-26T17:44:17.145524Z"
    },
    "papermill": {
     "duration": 0.158106,
     "end_time": "2023-03-26T17:44:17.149670",
     "exception": false,
     "start_time": "2023-03-26T17:44:16.991564",
     "status": "completed"
    },
    "tags": []
   },
   "outputs": [],
   "source": [
    "wine_lle=pd.read_csv('https://gist.githubusercontent.com/tijptjik/9408623/raw/b237fa5848349a14a14e5d4107dc7897c21951f5/wine.csv')"
   ]
  },
  {
   "cell_type": "code",
   "execution_count": 59,
   "id": "fc5f374d",
   "metadata": {
    "execution": {
     "iopub.execute_input": "2023-03-26T17:44:17.299265Z",
     "iopub.status.busy": "2023-03-26T17:44:17.297808Z",
     "iopub.status.idle": "2023-03-26T17:44:17.327570Z",
     "shell.execute_reply": "2023-03-26T17:44:17.326191Z"
    },
    "papermill": {
     "duration": 0.108031,
     "end_time": "2023-03-26T17:44:17.330476",
     "exception": false,
     "start_time": "2023-03-26T17:44:17.222445",
     "status": "completed"
    },
    "tags": []
   },
   "outputs": [
    {
     "data": {
      "text/html": [
       "<div>\n",
       "<style scoped>\n",
       "    .dataframe tbody tr th:only-of-type {\n",
       "        vertical-align: middle;\n",
       "    }\n",
       "\n",
       "    .dataframe tbody tr th {\n",
       "        vertical-align: top;\n",
       "    }\n",
       "\n",
       "    .dataframe thead th {\n",
       "        text-align: right;\n",
       "    }\n",
       "</style>\n",
       "<table border=\"1\" class=\"dataframe\">\n",
       "  <thead>\n",
       "    <tr style=\"text-align: right;\">\n",
       "      <th></th>\n",
       "      <th>Wine</th>\n",
       "      <th>Alcohol</th>\n",
       "      <th>Malic.acid</th>\n",
       "      <th>Ash</th>\n",
       "      <th>Acl</th>\n",
       "      <th>Mg</th>\n",
       "      <th>Phenols</th>\n",
       "      <th>Flavanoids</th>\n",
       "      <th>Nonflavanoid.phenols</th>\n",
       "      <th>Proanth</th>\n",
       "      <th>Color.int</th>\n",
       "      <th>Hue</th>\n",
       "      <th>OD</th>\n",
       "      <th>Proline</th>\n",
       "    </tr>\n",
       "  </thead>\n",
       "  <tbody>\n",
       "    <tr>\n",
       "      <th>0</th>\n",
       "      <td>1</td>\n",
       "      <td>14.23</td>\n",
       "      <td>1.71</td>\n",
       "      <td>2.43</td>\n",
       "      <td>15.6</td>\n",
       "      <td>127</td>\n",
       "      <td>2.80</td>\n",
       "      <td>3.06</td>\n",
       "      <td>0.28</td>\n",
       "      <td>2.29</td>\n",
       "      <td>5.64</td>\n",
       "      <td>1.04</td>\n",
       "      <td>3.92</td>\n",
       "      <td>1065</td>\n",
       "    </tr>\n",
       "    <tr>\n",
       "      <th>1</th>\n",
       "      <td>1</td>\n",
       "      <td>13.20</td>\n",
       "      <td>1.78</td>\n",
       "      <td>2.14</td>\n",
       "      <td>11.2</td>\n",
       "      <td>100</td>\n",
       "      <td>2.65</td>\n",
       "      <td>2.76</td>\n",
       "      <td>0.26</td>\n",
       "      <td>1.28</td>\n",
       "      <td>4.38</td>\n",
       "      <td>1.05</td>\n",
       "      <td>3.40</td>\n",
       "      <td>1050</td>\n",
       "    </tr>\n",
       "    <tr>\n",
       "      <th>2</th>\n",
       "      <td>1</td>\n",
       "      <td>13.16</td>\n",
       "      <td>2.36</td>\n",
       "      <td>2.67</td>\n",
       "      <td>18.6</td>\n",
       "      <td>101</td>\n",
       "      <td>2.80</td>\n",
       "      <td>3.24</td>\n",
       "      <td>0.30</td>\n",
       "      <td>2.81</td>\n",
       "      <td>5.68</td>\n",
       "      <td>1.03</td>\n",
       "      <td>3.17</td>\n",
       "      <td>1185</td>\n",
       "    </tr>\n",
       "    <tr>\n",
       "      <th>3</th>\n",
       "      <td>1</td>\n",
       "      <td>14.37</td>\n",
       "      <td>1.95</td>\n",
       "      <td>2.50</td>\n",
       "      <td>16.8</td>\n",
       "      <td>113</td>\n",
       "      <td>3.85</td>\n",
       "      <td>3.49</td>\n",
       "      <td>0.24</td>\n",
       "      <td>2.18</td>\n",
       "      <td>7.80</td>\n",
       "      <td>0.86</td>\n",
       "      <td>3.45</td>\n",
       "      <td>1480</td>\n",
       "    </tr>\n",
       "    <tr>\n",
       "      <th>4</th>\n",
       "      <td>1</td>\n",
       "      <td>13.24</td>\n",
       "      <td>2.59</td>\n",
       "      <td>2.87</td>\n",
       "      <td>21.0</td>\n",
       "      <td>118</td>\n",
       "      <td>2.80</td>\n",
       "      <td>2.69</td>\n",
       "      <td>0.39</td>\n",
       "      <td>1.82</td>\n",
       "      <td>4.32</td>\n",
       "      <td>1.04</td>\n",
       "      <td>2.93</td>\n",
       "      <td>735</td>\n",
       "    </tr>\n",
       "    <tr>\n",
       "      <th>...</th>\n",
       "      <td>...</td>\n",
       "      <td>...</td>\n",
       "      <td>...</td>\n",
       "      <td>...</td>\n",
       "      <td>...</td>\n",
       "      <td>...</td>\n",
       "      <td>...</td>\n",
       "      <td>...</td>\n",
       "      <td>...</td>\n",
       "      <td>...</td>\n",
       "      <td>...</td>\n",
       "      <td>...</td>\n",
       "      <td>...</td>\n",
       "      <td>...</td>\n",
       "    </tr>\n",
       "    <tr>\n",
       "      <th>173</th>\n",
       "      <td>3</td>\n",
       "      <td>13.71</td>\n",
       "      <td>5.65</td>\n",
       "      <td>2.45</td>\n",
       "      <td>20.5</td>\n",
       "      <td>95</td>\n",
       "      <td>1.68</td>\n",
       "      <td>0.61</td>\n",
       "      <td>0.52</td>\n",
       "      <td>1.06</td>\n",
       "      <td>7.70</td>\n",
       "      <td>0.64</td>\n",
       "      <td>1.74</td>\n",
       "      <td>740</td>\n",
       "    </tr>\n",
       "    <tr>\n",
       "      <th>174</th>\n",
       "      <td>3</td>\n",
       "      <td>13.40</td>\n",
       "      <td>3.91</td>\n",
       "      <td>2.48</td>\n",
       "      <td>23.0</td>\n",
       "      <td>102</td>\n",
       "      <td>1.80</td>\n",
       "      <td>0.75</td>\n",
       "      <td>0.43</td>\n",
       "      <td>1.41</td>\n",
       "      <td>7.30</td>\n",
       "      <td>0.70</td>\n",
       "      <td>1.56</td>\n",
       "      <td>750</td>\n",
       "    </tr>\n",
       "    <tr>\n",
       "      <th>175</th>\n",
       "      <td>3</td>\n",
       "      <td>13.27</td>\n",
       "      <td>4.28</td>\n",
       "      <td>2.26</td>\n",
       "      <td>20.0</td>\n",
       "      <td>120</td>\n",
       "      <td>1.59</td>\n",
       "      <td>0.69</td>\n",
       "      <td>0.43</td>\n",
       "      <td>1.35</td>\n",
       "      <td>10.20</td>\n",
       "      <td>0.59</td>\n",
       "      <td>1.56</td>\n",
       "      <td>835</td>\n",
       "    </tr>\n",
       "    <tr>\n",
       "      <th>176</th>\n",
       "      <td>3</td>\n",
       "      <td>13.17</td>\n",
       "      <td>2.59</td>\n",
       "      <td>2.37</td>\n",
       "      <td>20.0</td>\n",
       "      <td>120</td>\n",
       "      <td>1.65</td>\n",
       "      <td>0.68</td>\n",
       "      <td>0.53</td>\n",
       "      <td>1.46</td>\n",
       "      <td>9.30</td>\n",
       "      <td>0.60</td>\n",
       "      <td>1.62</td>\n",
       "      <td>840</td>\n",
       "    </tr>\n",
       "    <tr>\n",
       "      <th>177</th>\n",
       "      <td>3</td>\n",
       "      <td>14.13</td>\n",
       "      <td>4.10</td>\n",
       "      <td>2.74</td>\n",
       "      <td>24.5</td>\n",
       "      <td>96</td>\n",
       "      <td>2.05</td>\n",
       "      <td>0.76</td>\n",
       "      <td>0.56</td>\n",
       "      <td>1.35</td>\n",
       "      <td>9.20</td>\n",
       "      <td>0.61</td>\n",
       "      <td>1.60</td>\n",
       "      <td>560</td>\n",
       "    </tr>\n",
       "  </tbody>\n",
       "</table>\n",
       "<p>178 rows × 14 columns</p>\n",
       "</div>"
      ],
      "text/plain": [
       "     Wine  Alcohol  Malic.acid   Ash   Acl   Mg  Phenols  Flavanoids  \\\n",
       "0       1    14.23        1.71  2.43  15.6  127     2.80        3.06   \n",
       "1       1    13.20        1.78  2.14  11.2  100     2.65        2.76   \n",
       "2       1    13.16        2.36  2.67  18.6  101     2.80        3.24   \n",
       "3       1    14.37        1.95  2.50  16.8  113     3.85        3.49   \n",
       "4       1    13.24        2.59  2.87  21.0  118     2.80        2.69   \n",
       "..    ...      ...         ...   ...   ...  ...      ...         ...   \n",
       "173     3    13.71        5.65  2.45  20.5   95     1.68        0.61   \n",
       "174     3    13.40        3.91  2.48  23.0  102     1.80        0.75   \n",
       "175     3    13.27        4.28  2.26  20.0  120     1.59        0.69   \n",
       "176     3    13.17        2.59  2.37  20.0  120     1.65        0.68   \n",
       "177     3    14.13        4.10  2.74  24.5   96     2.05        0.76   \n",
       "\n",
       "     Nonflavanoid.phenols  Proanth  Color.int   Hue    OD  Proline  \n",
       "0                    0.28     2.29       5.64  1.04  3.92     1065  \n",
       "1                    0.26     1.28       4.38  1.05  3.40     1050  \n",
       "2                    0.30     2.81       5.68  1.03  3.17     1185  \n",
       "3                    0.24     2.18       7.80  0.86  3.45     1480  \n",
       "4                    0.39     1.82       4.32  1.04  2.93      735  \n",
       "..                    ...      ...        ...   ...   ...      ...  \n",
       "173                  0.52     1.06       7.70  0.64  1.74      740  \n",
       "174                  0.43     1.41       7.30  0.70  1.56      750  \n",
       "175                  0.43     1.35      10.20  0.59  1.56      835  \n",
       "176                  0.53     1.46       9.30  0.60  1.62      840  \n",
       "177                  0.56     1.35       9.20  0.61  1.60      560  \n",
       "\n",
       "[178 rows x 14 columns]"
      ]
     },
     "execution_count": 59,
     "metadata": {},
     "output_type": "execute_result"
    }
   ],
   "source": [
    "wine_lle"
   ]
  },
  {
   "cell_type": "code",
   "execution_count": 60,
   "id": "d5212910",
   "metadata": {
    "execution": {
     "iopub.execute_input": "2023-03-26T17:44:17.482496Z",
     "iopub.status.busy": "2023-03-26T17:44:17.481986Z",
     "iopub.status.idle": "2023-03-26T17:44:17.491763Z",
     "shell.execute_reply": "2023-03-26T17:44:17.490572Z"
    },
    "papermill": {
     "duration": 0.08949,
     "end_time": "2023-03-26T17:44:17.494249",
     "exception": false,
     "start_time": "2023-03-26T17:44:17.404759",
     "status": "completed"
    },
    "tags": []
   },
   "outputs": [
    {
     "data": {
      "text/plain": [
       "0      1\n",
       "1      1\n",
       "2      1\n",
       "3      1\n",
       "4      1\n",
       "      ..\n",
       "173    3\n",
       "174    3\n",
       "175    3\n",
       "176    3\n",
       "177    3\n",
       "Name: Wine, Length: 178, dtype: int64"
      ]
     },
     "execution_count": 60,
     "metadata": {},
     "output_type": "execute_result"
    }
   ],
   "source": [
    "y_lle=wine_lle['Wine']\n",
    "y_lle"
   ]
  },
  {
   "cell_type": "code",
   "execution_count": 61,
   "id": "e11bca6c",
   "metadata": {
    "execution": {
     "iopub.execute_input": "2023-03-26T17:44:17.648279Z",
     "iopub.status.busy": "2023-03-26T17:44:17.647512Z",
     "iopub.status.idle": "2023-03-26T17:44:17.676357Z",
     "shell.execute_reply": "2023-03-26T17:44:17.675036Z"
    },
    "papermill": {
     "duration": 0.108103,
     "end_time": "2023-03-26T17:44:17.679049",
     "exception": false,
     "start_time": "2023-03-26T17:44:17.570946",
     "status": "completed"
    },
    "tags": []
   },
   "outputs": [
    {
     "data": {
      "text/html": [
       "<div>\n",
       "<style scoped>\n",
       "    .dataframe tbody tr th:only-of-type {\n",
       "        vertical-align: middle;\n",
       "    }\n",
       "\n",
       "    .dataframe tbody tr th {\n",
       "        vertical-align: top;\n",
       "    }\n",
       "\n",
       "    .dataframe thead th {\n",
       "        text-align: right;\n",
       "    }\n",
       "</style>\n",
       "<table border=\"1\" class=\"dataframe\">\n",
       "  <thead>\n",
       "    <tr style=\"text-align: right;\">\n",
       "      <th></th>\n",
       "      <th>Alcohol</th>\n",
       "      <th>Malic.acid</th>\n",
       "      <th>Ash</th>\n",
       "      <th>Acl</th>\n",
       "      <th>Mg</th>\n",
       "      <th>Phenols</th>\n",
       "      <th>Flavanoids</th>\n",
       "      <th>Nonflavanoid.phenols</th>\n",
       "      <th>Proanth</th>\n",
       "      <th>Color.int</th>\n",
       "      <th>Hue</th>\n",
       "      <th>OD</th>\n",
       "      <th>Proline</th>\n",
       "    </tr>\n",
       "  </thead>\n",
       "  <tbody>\n",
       "    <tr>\n",
       "      <th>0</th>\n",
       "      <td>14.23</td>\n",
       "      <td>1.71</td>\n",
       "      <td>2.43</td>\n",
       "      <td>15.6</td>\n",
       "      <td>127</td>\n",
       "      <td>2.80</td>\n",
       "      <td>3.06</td>\n",
       "      <td>0.28</td>\n",
       "      <td>2.29</td>\n",
       "      <td>5.64</td>\n",
       "      <td>1.04</td>\n",
       "      <td>3.92</td>\n",
       "      <td>1065</td>\n",
       "    </tr>\n",
       "    <tr>\n",
       "      <th>1</th>\n",
       "      <td>13.20</td>\n",
       "      <td>1.78</td>\n",
       "      <td>2.14</td>\n",
       "      <td>11.2</td>\n",
       "      <td>100</td>\n",
       "      <td>2.65</td>\n",
       "      <td>2.76</td>\n",
       "      <td>0.26</td>\n",
       "      <td>1.28</td>\n",
       "      <td>4.38</td>\n",
       "      <td>1.05</td>\n",
       "      <td>3.40</td>\n",
       "      <td>1050</td>\n",
       "    </tr>\n",
       "    <tr>\n",
       "      <th>2</th>\n",
       "      <td>13.16</td>\n",
       "      <td>2.36</td>\n",
       "      <td>2.67</td>\n",
       "      <td>18.6</td>\n",
       "      <td>101</td>\n",
       "      <td>2.80</td>\n",
       "      <td>3.24</td>\n",
       "      <td>0.30</td>\n",
       "      <td>2.81</td>\n",
       "      <td>5.68</td>\n",
       "      <td>1.03</td>\n",
       "      <td>3.17</td>\n",
       "      <td>1185</td>\n",
       "    </tr>\n",
       "    <tr>\n",
       "      <th>3</th>\n",
       "      <td>14.37</td>\n",
       "      <td>1.95</td>\n",
       "      <td>2.50</td>\n",
       "      <td>16.8</td>\n",
       "      <td>113</td>\n",
       "      <td>3.85</td>\n",
       "      <td>3.49</td>\n",
       "      <td>0.24</td>\n",
       "      <td>2.18</td>\n",
       "      <td>7.80</td>\n",
       "      <td>0.86</td>\n",
       "      <td>3.45</td>\n",
       "      <td>1480</td>\n",
       "    </tr>\n",
       "    <tr>\n",
       "      <th>4</th>\n",
       "      <td>13.24</td>\n",
       "      <td>2.59</td>\n",
       "      <td>2.87</td>\n",
       "      <td>21.0</td>\n",
       "      <td>118</td>\n",
       "      <td>2.80</td>\n",
       "      <td>2.69</td>\n",
       "      <td>0.39</td>\n",
       "      <td>1.82</td>\n",
       "      <td>4.32</td>\n",
       "      <td>1.04</td>\n",
       "      <td>2.93</td>\n",
       "      <td>735</td>\n",
       "    </tr>\n",
       "    <tr>\n",
       "      <th>...</th>\n",
       "      <td>...</td>\n",
       "      <td>...</td>\n",
       "      <td>...</td>\n",
       "      <td>...</td>\n",
       "      <td>...</td>\n",
       "      <td>...</td>\n",
       "      <td>...</td>\n",
       "      <td>...</td>\n",
       "      <td>...</td>\n",
       "      <td>...</td>\n",
       "      <td>...</td>\n",
       "      <td>...</td>\n",
       "      <td>...</td>\n",
       "    </tr>\n",
       "    <tr>\n",
       "      <th>173</th>\n",
       "      <td>13.71</td>\n",
       "      <td>5.65</td>\n",
       "      <td>2.45</td>\n",
       "      <td>20.5</td>\n",
       "      <td>95</td>\n",
       "      <td>1.68</td>\n",
       "      <td>0.61</td>\n",
       "      <td>0.52</td>\n",
       "      <td>1.06</td>\n",
       "      <td>7.70</td>\n",
       "      <td>0.64</td>\n",
       "      <td>1.74</td>\n",
       "      <td>740</td>\n",
       "    </tr>\n",
       "    <tr>\n",
       "      <th>174</th>\n",
       "      <td>13.40</td>\n",
       "      <td>3.91</td>\n",
       "      <td>2.48</td>\n",
       "      <td>23.0</td>\n",
       "      <td>102</td>\n",
       "      <td>1.80</td>\n",
       "      <td>0.75</td>\n",
       "      <td>0.43</td>\n",
       "      <td>1.41</td>\n",
       "      <td>7.30</td>\n",
       "      <td>0.70</td>\n",
       "      <td>1.56</td>\n",
       "      <td>750</td>\n",
       "    </tr>\n",
       "    <tr>\n",
       "      <th>175</th>\n",
       "      <td>13.27</td>\n",
       "      <td>4.28</td>\n",
       "      <td>2.26</td>\n",
       "      <td>20.0</td>\n",
       "      <td>120</td>\n",
       "      <td>1.59</td>\n",
       "      <td>0.69</td>\n",
       "      <td>0.43</td>\n",
       "      <td>1.35</td>\n",
       "      <td>10.20</td>\n",
       "      <td>0.59</td>\n",
       "      <td>1.56</td>\n",
       "      <td>835</td>\n",
       "    </tr>\n",
       "    <tr>\n",
       "      <th>176</th>\n",
       "      <td>13.17</td>\n",
       "      <td>2.59</td>\n",
       "      <td>2.37</td>\n",
       "      <td>20.0</td>\n",
       "      <td>120</td>\n",
       "      <td>1.65</td>\n",
       "      <td>0.68</td>\n",
       "      <td>0.53</td>\n",
       "      <td>1.46</td>\n",
       "      <td>9.30</td>\n",
       "      <td>0.60</td>\n",
       "      <td>1.62</td>\n",
       "      <td>840</td>\n",
       "    </tr>\n",
       "    <tr>\n",
       "      <th>177</th>\n",
       "      <td>14.13</td>\n",
       "      <td>4.10</td>\n",
       "      <td>2.74</td>\n",
       "      <td>24.5</td>\n",
       "      <td>96</td>\n",
       "      <td>2.05</td>\n",
       "      <td>0.76</td>\n",
       "      <td>0.56</td>\n",
       "      <td>1.35</td>\n",
       "      <td>9.20</td>\n",
       "      <td>0.61</td>\n",
       "      <td>1.60</td>\n",
       "      <td>560</td>\n",
       "    </tr>\n",
       "  </tbody>\n",
       "</table>\n",
       "<p>178 rows × 13 columns</p>\n",
       "</div>"
      ],
      "text/plain": [
       "     Alcohol  Malic.acid   Ash   Acl   Mg  Phenols  Flavanoids  \\\n",
       "0      14.23        1.71  2.43  15.6  127     2.80        3.06   \n",
       "1      13.20        1.78  2.14  11.2  100     2.65        2.76   \n",
       "2      13.16        2.36  2.67  18.6  101     2.80        3.24   \n",
       "3      14.37        1.95  2.50  16.8  113     3.85        3.49   \n",
       "4      13.24        2.59  2.87  21.0  118     2.80        2.69   \n",
       "..       ...         ...   ...   ...  ...      ...         ...   \n",
       "173    13.71        5.65  2.45  20.5   95     1.68        0.61   \n",
       "174    13.40        3.91  2.48  23.0  102     1.80        0.75   \n",
       "175    13.27        4.28  2.26  20.0  120     1.59        0.69   \n",
       "176    13.17        2.59  2.37  20.0  120     1.65        0.68   \n",
       "177    14.13        4.10  2.74  24.5   96     2.05        0.76   \n",
       "\n",
       "     Nonflavanoid.phenols  Proanth  Color.int   Hue    OD  Proline  \n",
       "0                    0.28     2.29       5.64  1.04  3.92     1065  \n",
       "1                    0.26     1.28       4.38  1.05  3.40     1050  \n",
       "2                    0.30     2.81       5.68  1.03  3.17     1185  \n",
       "3                    0.24     2.18       7.80  0.86  3.45     1480  \n",
       "4                    0.39     1.82       4.32  1.04  2.93      735  \n",
       "..                    ...      ...        ...   ...   ...      ...  \n",
       "173                  0.52     1.06       7.70  0.64  1.74      740  \n",
       "174                  0.43     1.41       7.30  0.70  1.56      750  \n",
       "175                  0.43     1.35      10.20  0.59  1.56      835  \n",
       "176                  0.53     1.46       9.30  0.60  1.62      840  \n",
       "177                  0.56     1.35       9.20  0.61  1.60      560  \n",
       "\n",
       "[178 rows x 13 columns]"
      ]
     },
     "execution_count": 61,
     "metadata": {},
     "output_type": "execute_result"
    }
   ],
   "source": [
    "# Features\n",
    "X_lle=wine.drop(['Wine'],axis=1)\n",
    "X_lle"
   ]
  },
  {
   "cell_type": "code",
   "execution_count": 62,
   "id": "9c4c96b7",
   "metadata": {
    "execution": {
     "iopub.execute_input": "2023-03-26T17:44:17.828144Z",
     "iopub.status.busy": "2023-03-26T17:44:17.827388Z",
     "iopub.status.idle": "2023-03-26T17:44:17.840418Z",
     "shell.execute_reply": "2023-03-26T17:44:17.839077Z"
    },
    "papermill": {
     "duration": 0.090677,
     "end_time": "2023-03-26T17:44:17.843057",
     "exception": false,
     "start_time": "2023-03-26T17:44:17.752380",
     "status": "completed"
    },
    "tags": []
   },
   "outputs": [
    {
     "data": {
      "text/plain": [
       "array([[ 1.51861254, -0.5622498 ,  0.23205254, ...,  0.36217728,\n",
       "         1.84791957,  1.01300893],\n",
       "       [ 0.24628963, -0.49941338, -0.82799632, ...,  0.40605066,\n",
       "         1.1134493 ,  0.96524152],\n",
       "       [ 0.19687903,  0.02123125,  1.10933436, ...,  0.31830389,\n",
       "         0.78858745,  1.39514818],\n",
       "       ...,\n",
       "       [ 0.33275817,  1.74474449, -0.38935541, ..., -1.61212515,\n",
       "        -1.48544548,  0.28057537],\n",
       "       [ 0.20923168,  0.22769377,  0.01273209, ..., -1.56825176,\n",
       "        -1.40069891,  0.29649784],\n",
       "       [ 1.39508604,  1.58316512,  1.36520822, ..., -1.52437837,\n",
       "        -1.42894777, -0.59516041]])"
      ]
     },
     "execution_count": 62,
     "metadata": {},
     "output_type": "execute_result"
    }
   ],
   "source": [
    "from sklearn.preprocessing import StandardScaler\n",
    "sc=StandardScaler()\n",
    "X_scaled=sc.fit_transform(X_lle)\n",
    "X_scaled"
   ]
  },
  {
   "cell_type": "code",
   "execution_count": 63,
   "id": "ecffe984",
   "metadata": {
    "execution": {
     "iopub.execute_input": "2023-03-26T17:44:17.994071Z",
     "iopub.status.busy": "2023-03-26T17:44:17.993319Z",
     "iopub.status.idle": "2023-03-26T17:44:18.045613Z",
     "shell.execute_reply": "2023-03-26T17:44:18.044283Z"
    },
    "papermill": {
     "duration": 0.132957,
     "end_time": "2023-03-26T17:44:18.049949",
     "exception": false,
     "start_time": "2023-03-26T17:44:17.916992",
     "status": "completed"
    },
    "tags": []
   },
   "outputs": [
    {
     "data": {
      "text/plain": [
       "array([[-8.62269256e-02,  3.06191317e-02],\n",
       "       [ 7.94151037e-02,  8.60817924e-02],\n",
       "       [-7.39499216e-02,  2.79678400e-02],\n",
       "       [-1.15712867e-01, -6.81888185e-03],\n",
       "       [-4.76125354e-02,  7.99524114e-02],\n",
       "       [-1.09891974e-01,  8.20051476e-03],\n",
       "       [-4.47393649e-02,  1.01759945e-02],\n",
       "       [-5.68485641e-02,  3.73993773e-02],\n",
       "       [-6.00811660e-02,  1.47624335e-02],\n",
       "       [-7.11712917e-02,  6.50420742e-03],\n",
       "       [-9.78293903e-02, -5.46433802e-03],\n",
       "       [-2.76914488e-02,  1.72636626e-02],\n",
       "       [-4.73051390e-02,  4.33817810e-03],\n",
       "       [ 5.63018762e-02,  1.58038294e-01],\n",
       "       [-1.76909659e-02,  1.02319568e-01],\n",
       "       [-1.02733932e-01,  1.60075011e-02],\n",
       "       [-8.71970617e-02,  4.34247599e-02],\n",
       "       [-7.73339955e-02,  5.16225134e-02],\n",
       "       [-1.22280005e-01,  1.61171954e-03],\n",
       "       [-8.62437768e-02, -9.06344800e-03],\n",
       "       [-8.61528202e-02,  2.47991839e-02],\n",
       "       [-8.45278476e-02, -8.05684629e-03],\n",
       "       [-6.33391707e-02,  1.14401653e-02],\n",
       "       [-5.83051498e-02,  3.49138411e-03],\n",
       "       [-8.55999994e-02,  5.92278535e-03],\n",
       "       [-2.47702984e-02,  1.46204871e-01],\n",
       "       [-5.01469336e-02,  1.20444394e-02],\n",
       "       [ 8.48315500e-03,  3.29236323e-02],\n",
       "       [-1.02538818e-01,  2.98012583e-02],\n",
       "       [-3.59754705e-02,  2.47831838e-02],\n",
       "       [-9.28104787e-02,  2.96923882e-02],\n",
       "       [-9.58863698e-02, -2.78387707e-03],\n",
       "       [ 5.34879386e-03,  7.67729089e-02],\n",
       "       [-8.24185701e-02,  6.83010558e-02],\n",
       "       [-2.39039354e-02,  5.07190394e-02],\n",
       "       [-8.78438791e-02,  8.24102946e-03],\n",
       "       [-3.15479417e-02,  5.33510841e-02],\n",
       "       [-1.01482119e-03,  4.73231717e-02],\n",
       "       [ 7.53675653e-02,  7.64883301e-02],\n",
       "       [-9.75387876e-02,  4.15936488e-03],\n",
       "       [-7.99816668e-02,  3.25688607e-02],\n",
       "       [-3.23436960e-02, -9.15624639e-03],\n",
       "       [-8.13142770e-02, -2.14078882e-02],\n",
       "       [-6.50765763e-02,  1.91116752e-02],\n",
       "       [-7.60815945e-02,  1.81085545e-02],\n",
       "       [-4.69332931e-02,  1.60038369e-02],\n",
       "       [-7.26524652e-02,  9.67921840e-05],\n",
       "       [-8.23198764e-02,  6.44947425e-03],\n",
       "       [-6.08138311e-02,  4.06228452e-02],\n",
       "       [-9.36211777e-02,  2.37318810e-02],\n",
       "       [-2.34797245e-02,  7.08402956e-02],\n",
       "       [-6.43647703e-02, -1.75474817e-03],\n",
       "       [-9.96041761e-02,  3.37263598e-03],\n",
       "       [-9.37544587e-02,  2.66077979e-02],\n",
       "       [-8.78063234e-02,  5.44691803e-03],\n",
       "       [-9.64303620e-02,  1.92904500e-02],\n",
       "       [-9.27050142e-02,  1.64039362e-02],\n",
       "       [-7.58991852e-02,  1.25482443e-02],\n",
       "       [-1.02020577e-01, -9.88138209e-03],\n",
       "       [ 1.69897503e-01,  4.27108811e-02],\n",
       "       [ 1.40365827e-01,  4.09494551e-02],\n",
       "       [ 1.66168673e-01,  1.62843576e-02],\n",
       "       [ 1.46571173e-01,  7.93191727e-02],\n",
       "       [-4.70599750e-03,  4.69530306e-02],\n",
       "       [ 2.98105220e-03, -3.81449490e-02],\n",
       "       [ 2.10295200e-04,  9.93663773e-02],\n",
       "       [ 6.08528014e-02,  5.41093765e-02],\n",
       "       [ 8.08408192e-02,  4.92317659e-02],\n",
       "       [ 1.94151499e-01,  1.06681002e-01],\n",
       "       [ 2.10079619e-01,  1.63314591e-01],\n",
       "       [ 3.66667512e-02, -4.49342293e-02],\n",
       "       [-4.24635481e-02,  3.88746291e-02],\n",
       "       [ 3.82722425e-02,  1.90748451e-02],\n",
       "       [-8.51613047e-02,  9.10750685e-02],\n",
       "       [-4.75667627e-02,  7.45137301e-02],\n",
       "       [ 1.21297422e-01,  3.20437615e-03],\n",
       "       [ 1.40221597e-01,  3.92762479e-02],\n",
       "       [ 4.75196473e-02,  1.21278877e-02],\n",
       "       [ 2.13452116e-01,  1.85334888e-01],\n",
       "       [-8.55729491e-02, -1.00618604e-02],\n",
       "       [ 9.76641890e-02,  6.26126067e-02],\n",
       "       [ 3.63446568e-03,  2.07969442e-02],\n",
       "       [ 1.84117044e-03, -3.72511822e-02],\n",
       "       [ 2.46095334e-02, -1.22229203e-01],\n",
       "       [-5.81215728e-02,  8.82079609e-02],\n",
       "       [ 5.56409905e-02,  3.72961194e-02],\n",
       "       [ 8.78832646e-04, -7.64432422e-02],\n",
       "       [-1.58366138e-02, -3.86862091e-02],\n",
       "       [-1.30061928e-02, -1.55025991e-02],\n",
       "       [ 1.26727741e-02,  2.68460392e-02],\n",
       "       [-2.48514031e-03, -9.08043289e-02],\n",
       "       [-1.88490806e-03, -7.27627657e-02],\n",
       "       [ 2.52456461e-03, -1.17229902e-01],\n",
       "       [ 1.13528687e-02,  4.28977958e-02],\n",
       "       [ 3.88675181e-02,  1.35684337e-01],\n",
       "       [ 1.75622546e-01,  1.78789232e-01],\n",
       "       [ 1.12494677e-03,  4.02975777e-02],\n",
       "       [ 7.13972996e-02,  5.63291809e-02],\n",
       "       [-4.95198685e-02, -2.86471574e-03],\n",
       "       [-8.34293719e-02, -7.19212349e-02],\n",
       "       [ 1.18199406e-01,  8.57456582e-02],\n",
       "       [ 1.15505533e-01,  3.30331918e-02],\n",
       "       [-4.57661852e-02,  9.50971481e-02],\n",
       "       [ 7.67246558e-02,  9.61559320e-02],\n",
       "       [ 4.88914761e-02,  7.49812739e-02],\n",
       "       [ 1.65997923e-03, -3.53500568e-02],\n",
       "       [ 2.87730053e-02, -1.80439417e-02],\n",
       "       [ 1.14180473e-02, -7.12136088e-02],\n",
       "       [ 2.78682049e-02,  3.41961410e-02],\n",
       "       [-8.23808784e-02,  1.38693360e-01],\n",
       "       [-1.57841715e-01,  1.61860275e-02],\n",
       "       [ 2.08302660e-02,  6.85527080e-02],\n",
       "       [-6.68901137e-02, -2.97337312e-02],\n",
       "       [-3.29800091e-02,  7.07372719e-03],\n",
       "       [-3.78790794e-02,  6.20281828e-02],\n",
       "       [-2.21511985e-02, -8.04413653e-02],\n",
       "       [ 5.92972683e-02,  6.35693041e-02],\n",
       "       [ 1.54219334e-02,  3.33142280e-02],\n",
       "       [ 8.14454605e-02, -3.69424834e-02],\n",
       "       [ 1.64886426e-02,  2.90657992e-02],\n",
       "       [-4.13129458e-02,  1.73463493e-01],\n",
       "       [ 2.44631888e-02,  2.61279979e-01],\n",
       "       [-1.29616199e-01, -2.74496375e-02],\n",
       "       [-1.25701258e-01,  2.89685514e-02],\n",
       "       [-1.54715973e-01,  1.13552919e-01],\n",
       "       [-1.61288879e-03,  8.00689297e-02],\n",
       "       [-4.02121999e-02,  2.63421845e-02],\n",
       "       [-7.26994622e-02, -4.28872472e-02],\n",
       "       [-8.67525890e-03, -1.25814753e-03],\n",
       "       [-6.12763521e-02, -2.79486583e-02],\n",
       "       [ 6.26578448e-02,  7.59319437e-03],\n",
       "       [ 8.35705742e-02,  3.38569575e-04],\n",
       "       [ 8.02279414e-02, -8.49036645e-03],\n",
       "       [ 8.02275069e-02,  2.05172930e-03],\n",
       "       [ 1.95292732e-02, -1.39171376e-01],\n",
       "       [ 6.10587513e-03, -1.47609611e-01],\n",
       "       [ 4.18103992e-02, -8.59060269e-02],\n",
       "       [ 4.12745265e-02, -1.06220081e-01],\n",
       "       [ 2.10938642e-02, -1.29170541e-01],\n",
       "       [ 1.07626789e-01, -2.86866296e-02],\n",
       "       [ 9.89466253e-02, -1.46720849e-02],\n",
       "       [ 1.04961757e-01,  5.82152335e-03],\n",
       "       [ 1.19583242e-01, -8.73097377e-05],\n",
       "       [ 4.54927597e-02, -9.70166650e-02],\n",
       "       [ 4.23247563e-02, -7.19237985e-02],\n",
       "       [ 4.44472185e-02, -7.48312327e-02],\n",
       "       [ 4.34769949e-02, -9.08869418e-02],\n",
       "       [ 7.13601071e-02, -6.19693071e-02],\n",
       "       [ 5.11115969e-02, -8.54499955e-02],\n",
       "       [ 5.12314114e-02, -6.27274118e-02],\n",
       "       [ 6.56842452e-02, -2.98045964e-02],\n",
       "       [ 6.64124729e-02, -4.29597112e-02],\n",
       "       [ 6.24073993e-02, -4.12068028e-02],\n",
       "       [-9.17290957e-03, -1.73611120e-01],\n",
       "       [ 5.38175711e-03, -1.42119282e-01],\n",
       "       [ 1.55185277e-02, -1.43459855e-01],\n",
       "       [ 2.83805012e-02, -1.25261620e-01],\n",
       "       [ 5.49711586e-02, -9.34632316e-02],\n",
       "       [ 3.65594464e-03, -1.54019487e-01],\n",
       "       [ 2.43340640e-02, -1.25571911e-01],\n",
       "       [ 5.92511935e-02, -7.86842410e-02],\n",
       "       [ 4.29861794e-02, -9.24216220e-02],\n",
       "       [ 6.06063115e-02, -7.41144634e-02],\n",
       "       [ 5.83380440e-02, -5.58693584e-02],\n",
       "       [ 6.09919699e-02, -6.72211056e-02],\n",
       "       [ 3.75138650e-02, -1.03879960e-01],\n",
       "       [ 2.04614212e-02, -1.13938617e-01],\n",
       "       [ 6.10845846e-02, -6.72364098e-02],\n",
       "       [ 3.53622527e-02, -9.17821464e-02],\n",
       "       [ 6.54278661e-02, -4.74122955e-02],\n",
       "       [ 6.52798362e-02, -4.56989788e-02],\n",
       "       [ 5.71407862e-02, -7.76769188e-02],\n",
       "       [ 4.77953037e-02, -9.18082284e-02],\n",
       "       [ 3.36894108e-02, -1.18241021e-01],\n",
       "       [ 3.36077159e-02, -9.83051054e-02],\n",
       "       [ 9.47149893e-03, -1.29248103e-01],\n",
       "       [-9.66010630e-03, -1.58380942e-01],\n",
       "       [ 2.22639518e-02, -1.30577136e-01]])"
      ]
     },
     "execution_count": 63,
     "metadata": {},
     "output_type": "execute_result"
    }
   ],
   "source": [
    "# Transform \n",
    "\n",
    "X_lle_trans=lle.fit_transform(X_scaled)\n",
    "X_lle_trans"
   ]
  },
  {
   "cell_type": "code",
   "execution_count": 64,
   "id": "90435073",
   "metadata": {
    "execution": {
     "iopub.execute_input": "2023-03-26T17:44:18.260077Z",
     "iopub.status.busy": "2023-03-26T17:44:18.259604Z",
     "iopub.status.idle": "2023-03-26T17:44:18.267512Z",
     "shell.execute_reply": "2023-03-26T17:44:18.266285Z"
    },
    "papermill": {
     "duration": 0.085717,
     "end_time": "2023-03-26T17:44:18.270195",
     "exception": false,
     "start_time": "2023-03-26T17:44:18.184478",
     "status": "completed"
    },
    "tags": []
   },
   "outputs": [
    {
     "data": {
      "text/plain": [
       "(178, 2)"
      ]
     },
     "execution_count": 64,
     "metadata": {},
     "output_type": "execute_result"
    }
   ],
   "source": [
    "X_lle_trans.shape"
   ]
  },
  {
   "cell_type": "code",
   "execution_count": 65,
   "id": "cb2b63d2",
   "metadata": {
    "execution": {
     "iopub.execute_input": "2023-03-26T17:44:18.426715Z",
     "iopub.status.busy": "2023-03-26T17:44:18.426276Z",
     "iopub.status.idle": "2023-03-26T17:44:18.783931Z",
     "shell.execute_reply": "2023-03-26T17:44:18.782031Z"
    },
    "papermill": {
     "duration": 0.440448,
     "end_time": "2023-03-26T17:44:18.786199",
     "exception": true,
     "start_time": "2023-03-26T17:44:18.345751",
     "status": "failed"
    },
    "tags": []
   },
   "outputs": [
    {
     "ename": "ValueError",
     "evalue": "'c' argument has 1000 elements, which is inconsistent with 'x' and 'y' with size 178.",
     "output_type": "error",
     "traceback": [
      "\u001b[1;31m---------------------------------------------------------------------------\u001b[0m",
      "\u001b[1;31mValueError\u001b[0m                                Traceback (most recent call last)",
      "File \u001b[1;32m~\\anaconda3\\lib\\site-packages\\matplotlib\\axes\\_axes.py:4221\u001b[0m, in \u001b[0;36mAxes._parse_scatter_color_args\u001b[1;34m(c, edgecolors, kwargs, xsize, get_next_color_func)\u001b[0m\n\u001b[0;32m   4220\u001b[0m \u001b[38;5;28;01mtry\u001b[39;00m:  \u001b[38;5;66;03m# Is 'c' acceptable as PathCollection facecolors?\u001b[39;00m\n\u001b[1;32m-> 4221\u001b[0m     colors \u001b[38;5;241m=\u001b[39m \u001b[43mmcolors\u001b[49m\u001b[38;5;241;43m.\u001b[39;49m\u001b[43mto_rgba_array\u001b[49m\u001b[43m(\u001b[49m\u001b[43mc\u001b[49m\u001b[43m)\u001b[49m\n\u001b[0;32m   4222\u001b[0m \u001b[38;5;28;01mexcept\u001b[39;00m (\u001b[38;5;167;01mTypeError\u001b[39;00m, \u001b[38;5;167;01mValueError\u001b[39;00m) \u001b[38;5;28;01mas\u001b[39;00m err:\n",
      "File \u001b[1;32m~\\anaconda3\\lib\\site-packages\\matplotlib\\colors.py:377\u001b[0m, in \u001b[0;36mto_rgba_array\u001b[1;34m(c, alpha)\u001b[0m\n\u001b[0;32m    376\u001b[0m \u001b[38;5;28;01melse\u001b[39;00m:\n\u001b[1;32m--> 377\u001b[0m     rgba \u001b[38;5;241m=\u001b[39m np\u001b[38;5;241m.\u001b[39marray([to_rgba(cc) \u001b[38;5;28;01mfor\u001b[39;00m cc \u001b[38;5;129;01min\u001b[39;00m c])\n\u001b[0;32m    379\u001b[0m \u001b[38;5;28;01mif\u001b[39;00m alpha \u001b[38;5;129;01mis\u001b[39;00m \u001b[38;5;129;01mnot\u001b[39;00m \u001b[38;5;28;01mNone\u001b[39;00m:\n",
      "File \u001b[1;32m~\\anaconda3\\lib\\site-packages\\matplotlib\\colors.py:377\u001b[0m, in \u001b[0;36m<listcomp>\u001b[1;34m(.0)\u001b[0m\n\u001b[0;32m    376\u001b[0m \u001b[38;5;28;01melse\u001b[39;00m:\n\u001b[1;32m--> 377\u001b[0m     rgba \u001b[38;5;241m=\u001b[39m np\u001b[38;5;241m.\u001b[39marray([\u001b[43mto_rgba\u001b[49m\u001b[43m(\u001b[49m\u001b[43mcc\u001b[49m\u001b[43m)\u001b[49m \u001b[38;5;28;01mfor\u001b[39;00m cc \u001b[38;5;129;01min\u001b[39;00m c])\n\u001b[0;32m    379\u001b[0m \u001b[38;5;28;01mif\u001b[39;00m alpha \u001b[38;5;129;01mis\u001b[39;00m \u001b[38;5;129;01mnot\u001b[39;00m \u001b[38;5;28;01mNone\u001b[39;00m:\n",
      "File \u001b[1;32m~\\anaconda3\\lib\\site-packages\\matplotlib\\colors.py:187\u001b[0m, in \u001b[0;36mto_rgba\u001b[1;34m(c, alpha)\u001b[0m\n\u001b[0;32m    186\u001b[0m \u001b[38;5;28;01mif\u001b[39;00m rgba \u001b[38;5;129;01mis\u001b[39;00m \u001b[38;5;28;01mNone\u001b[39;00m:  \u001b[38;5;66;03m# Suppress exception chaining of cache lookup failure.\u001b[39;00m\n\u001b[1;32m--> 187\u001b[0m     rgba \u001b[38;5;241m=\u001b[39m \u001b[43m_to_rgba_no_colorcycle\u001b[49m\u001b[43m(\u001b[49m\u001b[43mc\u001b[49m\u001b[43m,\u001b[49m\u001b[43m \u001b[49m\u001b[43malpha\u001b[49m\u001b[43m)\u001b[49m\n\u001b[0;32m    188\u001b[0m     \u001b[38;5;28;01mtry\u001b[39;00m:\n",
      "File \u001b[1;32m~\\anaconda3\\lib\\site-packages\\matplotlib\\colors.py:269\u001b[0m, in \u001b[0;36m_to_rgba_no_colorcycle\u001b[1;34m(c, alpha)\u001b[0m\n\u001b[0;32m    268\u001b[0m \u001b[38;5;28;01mif\u001b[39;00m \u001b[38;5;129;01mnot\u001b[39;00m np\u001b[38;5;241m.\u001b[39miterable(c):\n\u001b[1;32m--> 269\u001b[0m     \u001b[38;5;28;01mraise\u001b[39;00m \u001b[38;5;167;01mValueError\u001b[39;00m(\u001b[38;5;124mf\u001b[39m\u001b[38;5;124m\"\u001b[39m\u001b[38;5;124mInvalid RGBA argument: \u001b[39m\u001b[38;5;132;01m{\u001b[39;00morig_c\u001b[38;5;132;01m!r}\u001b[39;00m\u001b[38;5;124m\"\u001b[39m)\n\u001b[0;32m    270\u001b[0m \u001b[38;5;28;01mif\u001b[39;00m \u001b[38;5;28mlen\u001b[39m(c) \u001b[38;5;129;01mnot\u001b[39;00m \u001b[38;5;129;01min\u001b[39;00m [\u001b[38;5;241m3\u001b[39m, \u001b[38;5;241m4\u001b[39m]:\n",
      "\u001b[1;31mValueError\u001b[0m: Invalid RGBA argument: 9.833859899549347",
      "\nThe above exception was the direct cause of the following exception:\n",
      "\u001b[1;31mValueError\u001b[0m                                Traceback (most recent call last)",
      "Input \u001b[1;32mIn [65]\u001b[0m, in \u001b[0;36m<cell line: 2>\u001b[1;34m()\u001b[0m\n\u001b[0;32m      1\u001b[0m \u001b[38;5;66;03m#plt.figure(figsize=(10, 10))\u001b[39;00m\n\u001b[1;32m----> 2\u001b[0m \u001b[43mplt\u001b[49m\u001b[38;5;241;43m.\u001b[39;49m\u001b[43mscatter\u001b[49m\u001b[43m(\u001b[49m\u001b[43mX_lle_trans\u001b[49m\u001b[43m[\u001b[49m\u001b[43m:\u001b[49m\u001b[43m,\u001b[49m\u001b[38;5;241;43m0\u001b[39;49m\u001b[43m]\u001b[49m\u001b[43m,\u001b[49m\u001b[43mX_lle_trans\u001b[49m\u001b[43m[\u001b[49m\u001b[43m:\u001b[49m\u001b[43m,\u001b[49m\u001b[38;5;241;43m1\u001b[39;49m\u001b[43m]\u001b[49m\u001b[43m,\u001b[49m\u001b[43mc\u001b[49m\u001b[38;5;241;43m=\u001b[39;49m\u001b[43my\u001b[49m\u001b[43m)\u001b[49m\n",
      "File \u001b[1;32m~\\anaconda3\\lib\\site-packages\\matplotlib\\pyplot.py:2807\u001b[0m, in \u001b[0;36mscatter\u001b[1;34m(x, y, s, c, marker, cmap, norm, vmin, vmax, alpha, linewidths, edgecolors, plotnonfinite, data, **kwargs)\u001b[0m\n\u001b[0;32m   2802\u001b[0m \u001b[38;5;129m@_copy_docstring_and_deprecators\u001b[39m(Axes\u001b[38;5;241m.\u001b[39mscatter)\n\u001b[0;32m   2803\u001b[0m \u001b[38;5;28;01mdef\u001b[39;00m \u001b[38;5;21mscatter\u001b[39m(\n\u001b[0;32m   2804\u001b[0m         x, y, s\u001b[38;5;241m=\u001b[39m\u001b[38;5;28;01mNone\u001b[39;00m, c\u001b[38;5;241m=\u001b[39m\u001b[38;5;28;01mNone\u001b[39;00m, marker\u001b[38;5;241m=\u001b[39m\u001b[38;5;28;01mNone\u001b[39;00m, cmap\u001b[38;5;241m=\u001b[39m\u001b[38;5;28;01mNone\u001b[39;00m, norm\u001b[38;5;241m=\u001b[39m\u001b[38;5;28;01mNone\u001b[39;00m,\n\u001b[0;32m   2805\u001b[0m         vmin\u001b[38;5;241m=\u001b[39m\u001b[38;5;28;01mNone\u001b[39;00m, vmax\u001b[38;5;241m=\u001b[39m\u001b[38;5;28;01mNone\u001b[39;00m, alpha\u001b[38;5;241m=\u001b[39m\u001b[38;5;28;01mNone\u001b[39;00m, linewidths\u001b[38;5;241m=\u001b[39m\u001b[38;5;28;01mNone\u001b[39;00m, \u001b[38;5;241m*\u001b[39m,\n\u001b[0;32m   2806\u001b[0m         edgecolors\u001b[38;5;241m=\u001b[39m\u001b[38;5;28;01mNone\u001b[39;00m, plotnonfinite\u001b[38;5;241m=\u001b[39m\u001b[38;5;28;01mFalse\u001b[39;00m, data\u001b[38;5;241m=\u001b[39m\u001b[38;5;28;01mNone\u001b[39;00m, \u001b[38;5;241m*\u001b[39m\u001b[38;5;241m*\u001b[39mkwargs):\n\u001b[1;32m-> 2807\u001b[0m     __ret \u001b[38;5;241m=\u001b[39m gca()\u001b[38;5;241m.\u001b[39mscatter(\n\u001b[0;32m   2808\u001b[0m         x, y, s\u001b[38;5;241m=\u001b[39ms, c\u001b[38;5;241m=\u001b[39mc, marker\u001b[38;5;241m=\u001b[39mmarker, cmap\u001b[38;5;241m=\u001b[39mcmap, norm\u001b[38;5;241m=\u001b[39mnorm,\n\u001b[0;32m   2809\u001b[0m         vmin\u001b[38;5;241m=\u001b[39mvmin, vmax\u001b[38;5;241m=\u001b[39mvmax, alpha\u001b[38;5;241m=\u001b[39malpha, linewidths\u001b[38;5;241m=\u001b[39mlinewidths,\n\u001b[0;32m   2810\u001b[0m         edgecolors\u001b[38;5;241m=\u001b[39medgecolors, plotnonfinite\u001b[38;5;241m=\u001b[39mplotnonfinite,\n\u001b[0;32m   2811\u001b[0m         \u001b[38;5;241m*\u001b[39m\u001b[38;5;241m*\u001b[39m({\u001b[38;5;124m\"\u001b[39m\u001b[38;5;124mdata\u001b[39m\u001b[38;5;124m\"\u001b[39m: data} \u001b[38;5;28;01mif\u001b[39;00m data \u001b[38;5;129;01mis\u001b[39;00m \u001b[38;5;129;01mnot\u001b[39;00m \u001b[38;5;28;01mNone\u001b[39;00m \u001b[38;5;28;01melse\u001b[39;00m {}), \u001b[38;5;241m*\u001b[39m\u001b[38;5;241m*\u001b[39mkwargs)\n\u001b[0;32m   2812\u001b[0m     sci(__ret)\n\u001b[0;32m   2813\u001b[0m     \u001b[38;5;28;01mreturn\u001b[39;00m __ret\n",
      "File \u001b[1;32m~\\anaconda3\\lib\\site-packages\\matplotlib\\__init__.py:1412\u001b[0m, in \u001b[0;36m_preprocess_data.<locals>.inner\u001b[1;34m(ax, data, *args, **kwargs)\u001b[0m\n\u001b[0;32m   1409\u001b[0m \u001b[38;5;129m@functools\u001b[39m\u001b[38;5;241m.\u001b[39mwraps(func)\n\u001b[0;32m   1410\u001b[0m \u001b[38;5;28;01mdef\u001b[39;00m \u001b[38;5;21minner\u001b[39m(ax, \u001b[38;5;241m*\u001b[39margs, data\u001b[38;5;241m=\u001b[39m\u001b[38;5;28;01mNone\u001b[39;00m, \u001b[38;5;241m*\u001b[39m\u001b[38;5;241m*\u001b[39mkwargs):\n\u001b[0;32m   1411\u001b[0m     \u001b[38;5;28;01mif\u001b[39;00m data \u001b[38;5;129;01mis\u001b[39;00m \u001b[38;5;28;01mNone\u001b[39;00m:\n\u001b[1;32m-> 1412\u001b[0m         \u001b[38;5;28;01mreturn\u001b[39;00m func(ax, \u001b[38;5;241m*\u001b[39m\u001b[38;5;28mmap\u001b[39m(sanitize_sequence, args), \u001b[38;5;241m*\u001b[39m\u001b[38;5;241m*\u001b[39mkwargs)\n\u001b[0;32m   1414\u001b[0m     bound \u001b[38;5;241m=\u001b[39m new_sig\u001b[38;5;241m.\u001b[39mbind(ax, \u001b[38;5;241m*\u001b[39margs, \u001b[38;5;241m*\u001b[39m\u001b[38;5;241m*\u001b[39mkwargs)\n\u001b[0;32m   1415\u001b[0m     auto_label \u001b[38;5;241m=\u001b[39m (bound\u001b[38;5;241m.\u001b[39marguments\u001b[38;5;241m.\u001b[39mget(label_namer)\n\u001b[0;32m   1416\u001b[0m                   \u001b[38;5;129;01mor\u001b[39;00m bound\u001b[38;5;241m.\u001b[39mkwargs\u001b[38;5;241m.\u001b[39mget(label_namer))\n",
      "File \u001b[1;32m~\\anaconda3\\lib\\site-packages\\matplotlib\\axes\\_axes.py:4387\u001b[0m, in \u001b[0;36mAxes.scatter\u001b[1;34m(self, x, y, s, c, marker, cmap, norm, vmin, vmax, alpha, linewidths, edgecolors, plotnonfinite, **kwargs)\u001b[0m\n\u001b[0;32m   4384\u001b[0m \u001b[38;5;28;01mif\u001b[39;00m edgecolors \u001b[38;5;129;01mis\u001b[39;00m \u001b[38;5;28;01mNone\u001b[39;00m:\n\u001b[0;32m   4385\u001b[0m     orig_edgecolor \u001b[38;5;241m=\u001b[39m kwargs\u001b[38;5;241m.\u001b[39mget(\u001b[38;5;124m'\u001b[39m\u001b[38;5;124medgecolor\u001b[39m\u001b[38;5;124m'\u001b[39m, \u001b[38;5;28;01mNone\u001b[39;00m)\n\u001b[0;32m   4386\u001b[0m c, colors, edgecolors \u001b[38;5;241m=\u001b[39m \\\n\u001b[1;32m-> 4387\u001b[0m     \u001b[38;5;28;43mself\u001b[39;49m\u001b[38;5;241;43m.\u001b[39;49m\u001b[43m_parse_scatter_color_args\u001b[49m\u001b[43m(\u001b[49m\n\u001b[0;32m   4388\u001b[0m \u001b[43m        \u001b[49m\u001b[43mc\u001b[49m\u001b[43m,\u001b[49m\u001b[43m \u001b[49m\u001b[43medgecolors\u001b[49m\u001b[43m,\u001b[49m\u001b[43m \u001b[49m\u001b[43mkwargs\u001b[49m\u001b[43m,\u001b[49m\u001b[43m \u001b[49m\u001b[43mx\u001b[49m\u001b[38;5;241;43m.\u001b[39;49m\u001b[43msize\u001b[49m\u001b[43m,\u001b[49m\n\u001b[0;32m   4389\u001b[0m \u001b[43m        \u001b[49m\u001b[43mget_next_color_func\u001b[49m\u001b[38;5;241;43m=\u001b[39;49m\u001b[38;5;28;43mself\u001b[39;49m\u001b[38;5;241;43m.\u001b[39;49m\u001b[43m_get_patches_for_fill\u001b[49m\u001b[38;5;241;43m.\u001b[39;49m\u001b[43mget_next_color\u001b[49m\u001b[43m)\u001b[49m\n\u001b[0;32m   4391\u001b[0m \u001b[38;5;28;01mif\u001b[39;00m plotnonfinite \u001b[38;5;129;01mand\u001b[39;00m colors \u001b[38;5;129;01mis\u001b[39;00m \u001b[38;5;28;01mNone\u001b[39;00m:\n\u001b[0;32m   4392\u001b[0m     c \u001b[38;5;241m=\u001b[39m np\u001b[38;5;241m.\u001b[39mma\u001b[38;5;241m.\u001b[39mmasked_invalid(c)\n",
      "File \u001b[1;32m~\\anaconda3\\lib\\site-packages\\matplotlib\\axes\\_axes.py:4227\u001b[0m, in \u001b[0;36mAxes._parse_scatter_color_args\u001b[1;34m(c, edgecolors, kwargs, xsize, get_next_color_func)\u001b[0m\n\u001b[0;32m   4225\u001b[0m \u001b[38;5;28;01melse\u001b[39;00m:\n\u001b[0;32m   4226\u001b[0m     \u001b[38;5;28;01mif\u001b[39;00m \u001b[38;5;129;01mnot\u001b[39;00m valid_shape:\n\u001b[1;32m-> 4227\u001b[0m         \u001b[38;5;28;01mraise\u001b[39;00m invalid_shape_exception(c\u001b[38;5;241m.\u001b[39msize, xsize) \u001b[38;5;28;01mfrom\u001b[39;00m \u001b[38;5;21;01merr\u001b[39;00m\n\u001b[0;32m   4228\u001b[0m     \u001b[38;5;66;03m# Both the mapping *and* the RGBA conversion failed: pretty\u001b[39;00m\n\u001b[0;32m   4229\u001b[0m     \u001b[38;5;66;03m# severe failure => one may appreciate a verbose feedback.\u001b[39;00m\n\u001b[0;32m   4230\u001b[0m     \u001b[38;5;28;01mraise\u001b[39;00m \u001b[38;5;167;01mValueError\u001b[39;00m(\n\u001b[0;32m   4231\u001b[0m         \u001b[38;5;124mf\u001b[39m\u001b[38;5;124m\"\u001b[39m\u001b[38;5;124m'\u001b[39m\u001b[38;5;124mc\u001b[39m\u001b[38;5;124m'\u001b[39m\u001b[38;5;124m argument must be a color, a sequence of colors, \u001b[39m\u001b[38;5;124m\"\u001b[39m\n\u001b[0;32m   4232\u001b[0m         \u001b[38;5;124mf\u001b[39m\u001b[38;5;124m\"\u001b[39m\u001b[38;5;124mor a sequence of numbers, not \u001b[39m\u001b[38;5;132;01m{\u001b[39;00mc\u001b[38;5;132;01m}\u001b[39;00m\u001b[38;5;124m\"\u001b[39m) \u001b[38;5;28;01mfrom\u001b[39;00m \u001b[38;5;21;01merr\u001b[39;00m\n",
      "\u001b[1;31mValueError\u001b[0m: 'c' argument has 1000 elements, which is inconsistent with 'x' and 'y' with size 178."
     ]
    },
    {
     "data": {
      "image/png": "[encoded data removed]",
      "text/plain": [
       "<Figure size 432x288 with 1 Axes>"
      ]
     },
     "metadata": {
      "needs_background": "light"
     },
     "output_type": "display_data"
    }
   ],
   "source": [
    "#plt.figure(figsize=(10, 10))\n",
    "plt.scatter(X_lle_trans[:,0],X_lle_trans[:,1],c=y);"
   ]
  },
  {
   "cell_type": "markdown",
   "id": "5c0d0d0a",
   "metadata": {
    "papermill": {
     "duration": null,
     "end_time": null,
     "exception": null,
     "start_time": null,
     "status": "pending"
    },
    "tags": []
   },
   "source": [
    "# TSNE"
   ]
  },
  {
   "cell_type": "markdown",
   "id": "98f5a6db",
   "metadata": {
    "papermill": {
     "duration": null,
     "end_time": null,
     "exception": null,
     "start_time": null,
     "status": "pending"
    },
    "tags": []
   },
   "source": [
    "t-SNE (t-distributed stochastic neighbor embedding) is a popular nonlinear dimensionality reduction technique used for visualizing high-dimensional data. It was introduced in 2008 by Laurens van der Maaten and Geoffrey Hinton.\n",
    "\n",
    "The main goal of t-SNE is to find a lower-dimensional representation of high-dimensional data that preserves the similarities between the data points. In other words, it tries to map similar data points to nearby points in the low-dimensional space, while keeping dissimilar points far apart. This makes it well-suited for visualizing clusters or groups of data points that share similar features.\n",
    "\n",
    "t-SNE is a probabilistic method that models the similarity between two data points in high-dimensional space using a Gaussian distribution, and models the similarity between the same two data points in the low-dimensional space using a Student's t-distribution. The algorithm then tries to minimize the difference between the two distributions using a gradient descent optimization technique.\n",
    "\n",
    "The t-SNE algorithm works in two main stages:\n",
    "\n",
    "Compute pairwise similarities: The first stage of t-SNE involves computing pairwise similarities between all pairs of data points in the high-dimensional space. This is typically done using a Gaussian kernel, which assigns higher similarity scores to pairs of data points that are closer together.\n",
    "\n",
    "Optimize low-dimensional embedding: In the second stage, t-SNE seeks to find a low-dimensional representation of the data that preserves the pairwise similarities computed in the first stage. It does this by minimizing a cost function that measures the difference between the pairwise similarities in the high-dimensional space and the pairwise similarities in the low-dimensional space. The cost function is optimized using a gradient descent algorithm.\n",
    "\n",
    "t-SNE has become a popular technique for visualizing high-dimensional data because it is able to preserve the local and global structure of the data in the low-dimensional embedding. However, t-SNE is computationally expensive and can be sensitive to the choice of hyperparameters, such as the perplexity, which controls the balance between preserving local and global structure in the data.\n",
    "\n",
    "\n",
    "\n",
    "\n"
   ]
  },
  {
   "cell_type": "code",
   "execution_count": null,
   "id": "9f8cb488",
   "metadata": {
    "papermill": {
     "duration": null,
     "end_time": null,
     "exception": null,
     "start_time": null,
     "status": "pending"
    },
    "tags": []
   },
   "outputs": [],
   "source": [
    "import pandas as pd\n",
    "import numpy as np\n",
    "import matplotlib.pyplot as plt\n",
    "import seaborn as sns\n",
    "from sklearn.datasets import fetch_openml"
   ]
  },
  {
   "cell_type": "markdown",
   "id": "8d067285",
   "metadata": {
    "papermill": {
     "duration": null,
     "end_time": null,
     "exception": null,
     "start_time": null,
     "status": "pending"
    },
    "tags": []
   },
   "source": [
    "## Accessing the dataset"
   ]
  },
  {
   "cell_type": "code",
   "execution_count": null,
   "id": "d54d620a",
   "metadata": {
    "papermill": {
     "duration": null,
     "end_time": null,
     "exception": null,
     "start_time": null,
     "status": "pending"
    },
    "tags": []
   },
   "outputs": [],
   "source": [
    "X,y=fetch_openml('mnist_784',version=1,return_X_y=True)"
   ]
  },
  {
   "cell_type": "markdown",
   "id": "da584113",
   "metadata": {
    "papermill": {
     "duration": null,
     "end_time": null,
     "exception": null,
     "start_time": null,
     "status": "pending"
    },
    "tags": []
   },
   "source": [
    "The code you provided uses Scikit-learn's fetch_openml function to download and load the MNIST dataset, which is a popular dataset of handwritten digits.\n",
    "\n",
    "The MNIST dataset contains 70,000 grayscale images of handwritten digits from 0 to 9, with 784 features (28x28 pixels) per image. The goal of the dataset is to classify each image into one of the 10 possible digits (0-9).\n",
    "\n",
    "Here is a breakdown of the code:\n",
    "\n",
    "fetch_openml: This function is a part of Scikit-learn's datasets module and is used to download and load datasets from the OpenML platform. In this case, we are using it to download the MNIST dataset.\n",
    "\n",
    "'mnist_784': This is the name of the dataset we want to download.\n",
    "\n",
    "version=1: This specifies which version of the dataset we want to download. In this case, we are downloading version 1.\n",
    "\n",
    "return_X_y=True: This specifies that we want to return the input features X and the target labels y as separate variables.\n",
    "\n",
    "X, y: These variables receive the input features and target labels, respectively, returned by fetch_openml.\n",
    "\n",
    "After running this code, X will be a 2D numpy array with shape (70000, 784) representing the input features of the dataset, and y will be a 1D numpy array with shape (70000,) representing the corresponding target labels. Each row of X represents an image of a handwritten digit, and each element of y represents the digit that the corresponding image represents"
   ]
  },
  {
   "cell_type": "code",
   "execution_count": null,
   "id": "c683e02a",
   "metadata": {
    "papermill": {
     "duration": null,
     "end_time": null,
     "exception": null,
     "start_time": null,
     "status": "pending"
    },
    "tags": []
   },
   "outputs": [],
   "source": [
    "X.shape"
   ]
  },
  {
   "cell_type": "code",
   "execution_count": null,
   "id": "09245389",
   "metadata": {
    "papermill": {
     "duration": null,
     "end_time": null,
     "exception": null,
     "start_time": null,
     "status": "pending"
    },
    "tags": []
   },
   "outputs": [],
   "source": [
    "X.head()"
   ]
  },
  {
   "cell_type": "code",
   "execution_count": null,
   "id": "2a2c5dd3",
   "metadata": {
    "papermill": {
     "duration": null,
     "end_time": null,
     "exception": null,
     "start_time": null,
     "status": "pending"
    },
    "tags": []
   },
   "outputs": [],
   "source": [
    "y\n"
   ]
  },
  {
   "cell_type": "code",
   "execution_count": null,
   "id": "e908bc0e",
   "metadata": {
    "papermill": {
     "duration": null,
     "end_time": null,
     "exception": null,
     "start_time": null,
     "status": "pending"
    },
    "tags": []
   },
   "outputs": [],
   "source": [
    "y.head()"
   ]
  },
  {
   "cell_type": "markdown",
   "id": "0f3f5adf",
   "metadata": {
    "papermill": {
     "duration": null,
     "end_time": null,
     "exception": null,
     "start_time": null,
     "status": "pending"
    },
    "tags": []
   },
   "source": [
    "\n",
    "\n",
    "\n",
    "\n",
    "It looks like y is a Pandas Series object that contains the target labels for the MNIST dataset. Each element of the Series represents the target label for a single image.\n",
    "\n",
    "The output you provided shows the first few elements of the Series, along with the name of the Series (\"class\") and information about the categories of the labels. The categories indicate that the labels are digits from 0 to 9, and the number in parentheses indicates the number of unique categories.\n",
    "\n",
    "Since the categories are represented as strings in the Series, you may want to convert them to integers before using them for machine learning purposes. You can do this using the astype() method, like this: y = y.astype(int).\n",
    "\n",
    "After converting the categories to integers, you can use y[:5] to display the first 5 target labels as integers"
   ]
  },
  {
   "cell_type": "code",
   "execution_count": null,
   "id": "89807c35",
   "metadata": {
    "papermill": {
     "duration": null,
     "end_time": null,
     "exception": null,
     "start_time": null,
     "status": "pending"
    },
    "tags": []
   },
   "outputs": [],
   "source": [
    "y.value_counts()"
   ]
  },
  {
   "cell_type": "code",
   "execution_count": null,
   "id": "d8e761f9",
   "metadata": {
    "papermill": {
     "duration": null,
     "end_time": null,
     "exception": null,
     "start_time": null,
     "status": "pending"
    },
    "tags": []
   },
   "outputs": [],
   "source": [
    "X.iloc[1]"
   ]
  },
  {
   "cell_type": "markdown",
   "id": "d18d494b",
   "metadata": {
    "papermill": {
     "duration": null,
     "end_time": null,
     "exception": null,
     "start_time": null,
     "status": "pending"
    },
    "tags": []
   },
   "source": [
    "## Plotting the images"
   ]
  },
  {
   "cell_type": "code",
   "execution_count": null,
   "id": "a25d0f16",
   "metadata": {
    "papermill": {
     "duration": null,
     "end_time": null,
     "exception": null,
     "start_time": null,
     "status": "pending"
    },
    "tags": []
   },
   "outputs": [],
   "source": [
    "plt.imshow(X.iloc[1].to_numpy().reshape(28,28),'Greys')\n",
    "plt.title(y[1]);"
   ]
  },
  {
   "cell_type": "code",
   "execution_count": null,
   "id": "5de4b09c",
   "metadata": {
    "papermill": {
     "duration": null,
     "end_time": null,
     "exception": null,
     "start_time": null,
     "status": "pending"
    },
    "tags": []
   },
   "outputs": [],
   "source": [
    "plt.imshow(X.iloc[10].to_numpy().reshape(28,28),'Greys')\n",
    "plt.title(y[10]);"
   ]
  },
  {
   "cell_type": "code",
   "execution_count": null,
   "id": "bbd4c918",
   "metadata": {
    "papermill": {
     "duration": null,
     "end_time": null,
     "exception": null,
     "start_time": null,
     "status": "pending"
    },
    "tags": []
   },
   "outputs": [],
   "source": [
    "plt.imshow(X.iloc[100].to_numpy().reshape(28,28),'Greys')\n",
    "plt.title(y[100]);"
   ]
  },
  {
   "cell_type": "code",
   "execution_count": null,
   "id": "38c4a7c1",
   "metadata": {
    "papermill": {
     "duration": null,
     "end_time": null,
     "exception": null,
     "start_time": null,
     "status": "pending"
    },
    "tags": []
   },
   "outputs": [],
   "source": [
    "plt.imshow(X.iloc[1000].to_numpy().reshape(28,28),'Greys')\n",
    "plt.title(y[1000]);"
   ]
  },
  {
   "cell_type": "markdown",
   "id": "88b455f4",
   "metadata": {
    "papermill": {
     "duration": null,
     "end_time": null,
     "exception": null,
     "start_time": null,
     "status": "pending"
    },
    "tags": []
   },
   "source": [
    "## Creating a random sample of 1K for 70K"
   ]
  },
  {
   "cell_type": "code",
   "execution_count": null,
   "id": "60d4b86c",
   "metadata": {
    "papermill": {
     "duration": null,
     "end_time": null,
     "exception": null,
     "start_time": null,
     "status": "pending"
    },
    "tags": []
   },
   "outputs": [],
   "source": [
    "np.random.seed(100)\n",
    "sample=np.random.choice(X.shape[0],1000)\n",
    "print(sample)"
   ]
  },
  {
   "cell_type": "markdown",
   "id": "56906b88",
   "metadata": {
    "papermill": {
     "duration": null,
     "end_time": null,
     "exception": null,
     "start_time": null,
     "status": "pending"
    },
    "tags": []
   },
   "source": [
    "This code generates a random sample of 1000 indices from the range of indices of the X numpy array. The np.random.seed(100) line sets the random seed to 100, which ensures that the same set of random numbers is generated each time the code is run.\n",
    "\n",
    "The np.random.choice() function is then used to generate the sample. The function takes two arguments: the first argument is the number of items to sample, and the second argument is the range of indices to sample from. In this case, X.shape[0] returns the number of rows (i.e., the number of images) in X, so the second argument specifies that the sample should be generated from the range of indices [0, 1, 2, ..., 69999].\n",
    "\n",
    "The resulting sample array contains 1000 randomly selected indices from the range of indices of X. These indices can be used to select a subset of the MNIST dataset for further analysis or visualization."
   ]
  },
  {
   "cell_type": "markdown",
   "id": "72b807ce",
   "metadata": {
    "papermill": {
     "duration": null,
     "end_time": null,
     "exception": null,
     "start_time": null,
     "status": "pending"
    },
    "tags": []
   },
   "source": [
    "## Creating a new set of 1000"
   ]
  },
  {
   "cell_type": "code",
   "execution_count": null,
   "id": "a48f4f17",
   "metadata": {
    "papermill": {
     "duration": null,
     "end_time": null,
     "exception": null,
     "start_time": null,
     "status": "pending"
    },
    "tags": []
   },
   "outputs": [],
   "source": [
    "X1=X.iloc[sample,:]\n",
    "X1.shape"
   ]
  },
  {
   "cell_type": "markdown",
   "id": "e9fcf7e2",
   "metadata": {
    "papermill": {
     "duration": null,
     "end_time": null,
     "exception": null,
     "start_time": null,
     "status": "pending"
    },
    "tags": []
   },
   "source": [
    "Assuming that X is a pandas DataFrame and sample is a list or an array containing indices of rows in X, the code X1=X.iloc[sample,:] selects a subset of X consisting of rows specified by the indices in sample and assigns it to a new DataFrame X1.\n",
    "\n",
    "The iloc method is used to select rows and columns by integer position. In this case, iloc is used to select rows by their position specified in the sample list or array. The : in the second argument indicates that all columns should be selected. Therefore, X1 will have the same number of columns as X, but only the rows corresponding to the indices in sample.\n",
    "\n",
    "The shape attribute of a DataFrame returns a tuple representing the number of rows and columns in the DataFrame. Therefore, X1.shape will return a tuple of two integers representing the number of rows and columns in X1. The first integer will be equal to the length of the sample list or array, and the second integer will be the same as the number of columns in X."
   ]
  },
  {
   "cell_type": "code",
   "execution_count": null,
   "id": "2735ce56",
   "metadata": {
    "papermill": {
     "duration": null,
     "end_time": null,
     "exception": null,
     "start_time": null,
     "status": "pending"
    },
    "tags": []
   },
   "outputs": [],
   "source": [
    "X1.head()"
   ]
  },
  {
   "cell_type": "code",
   "execution_count": null,
   "id": "03422dca",
   "metadata": {
    "papermill": {
     "duration": null,
     "end_time": null,
     "exception": null,
     "start_time": null,
     "status": "pending"
    },
    "tags": []
   },
   "outputs": [],
   "source": [
    "y1=y[sample]"
   ]
  },
  {
   "cell_type": "code",
   "execution_count": null,
   "id": "95057019",
   "metadata": {
    "papermill": {
     "duration": null,
     "end_time": null,
     "exception": null,
     "start_time": null,
     "status": "pending"
    },
    "tags": []
   },
   "outputs": [],
   "source": [
    "y1.shape"
   ]
  },
  {
   "cell_type": "code",
   "execution_count": null,
   "id": "813a651a",
   "metadata": {
    "papermill": {
     "duration": null,
     "end_time": null,
     "exception": null,
     "start_time": null,
     "status": "pending"
    },
    "tags": []
   },
   "outputs": [],
   "source": [
    "y1.head()"
   ]
  },
  {
   "cell_type": "markdown",
   "id": "8b367846",
   "metadata": {
    "papermill": {
     "duration": null,
     "end_time": null,
     "exception": null,
     "start_time": null,
     "status": "pending"
    },
    "tags": []
   },
   "source": [
    "## Building the TSNE model"
   ]
  },
  {
   "cell_type": "code",
   "execution_count": null,
   "id": "4a6edd14",
   "metadata": {
    "papermill": {
     "duration": null,
     "end_time": null,
     "exception": null,
     "start_time": null,
     "status": "pending"
    },
    "tags": []
   },
   "outputs": [],
   "source": [
    "from sklearn.manifold import TSNE\n",
    "tsne=TSNE(n_components=2,perplexity=30)"
   ]
  },
  {
   "cell_type": "markdown",
   "id": "6230f566",
   "metadata": {
    "papermill": {
     "duration": null,
     "end_time": null,
     "exception": null,
     "start_time": null,
     "status": "pending"
    },
    "tags": []
   },
   "source": [
    "The code you provided imports the TSNE class from the sklearn.manifold module and creates an instance of it named tsne.\n",
    "\n",
    "t-SNE (t-Distributed Stochastic Neighbor Embedding) is a popular dimensionality reduction technique used for visualizing high-dimensional data in a low-dimensional space. It tries to represent each high-dimensional data point in a lower dimensional space by preserving the local structure of the data as much as possible.\n",
    "\n",
    "The TSNE class in scikit-learn provides an implementation of t-SNE. It takes a few parameters, including:\n",
    "\n",
    "n_components: The number of dimensions in the embedded space. In this case, it is set to 2, so the embedded space will have two dimensions.\n",
    "perplexity: This parameter controls the balance between preserving local structure versus global structure in the embedding. Higher values generally lead to more global structure being preserved, while lower values preserve more local structure. The optimal value for this parameter depends on the data and the specific problem, and it is often selected through trial and error.\n",
    "After creating the TSNE instance, you can apply it to a high-dimensional dataset to obtain a lower-dimensional representation of the data that can be plotted or visualized in some other way."
   ]
  },
  {
   "cell_type": "code",
   "execution_count": null,
   "id": "2e555b61",
   "metadata": {
    "papermill": {
     "duration": null,
     "end_time": null,
     "exception": null,
     "start_time": null,
     "status": "pending"
    },
    "tags": []
   },
   "outputs": [],
   "source": [
    "X_tsne=tsne.fit_transform(X1)\n",
    "X_tsne.shape"
   ]
  },
  {
   "cell_type": "code",
   "execution_count": null,
   "id": "337746a1",
   "metadata": {
    "papermill": {
     "duration": null,
     "end_time": null,
     "exception": null,
     "start_time": null,
     "status": "pending"
    },
    "tags": []
   },
   "outputs": [],
   "source": [
    "X_tsne[0]"
   ]
  },
  {
   "cell_type": "markdown",
   "id": "fc6f6825",
   "metadata": {
    "papermill": {
     "duration": null,
     "end_time": null,
     "exception": null,
     "start_time": null,
     "status": "pending"
    },
    "tags": []
   },
   "source": [
    "The code X_tsne=tsne.fit_transform(X1) applies the t-SNE transformation to the data in X1 and assigns the result to a new variable X_tsne.\n",
    "\n",
    "The fit_transform method of the TSNE class fits the model to the data (X1 in this case) and transforms it to the lower-dimensional space. It returns the transformed data as a numpy array.\n",
    "\n",
    "The resulting X_tsne array will have the same number of rows as X1, but only 2 columns because we specified n_components=2 in the TSNE constructor. The two columns represent the coordinates of each point in the two-dimensional embedded space.\n",
    "\n",
    "Finally, X_tsne.shape returns a tuple representing the number of rows and columns in the X_tsne array. Since X_tsne has the same number of rows as X1 and two columns, the shape will be (n_samples, 2), where n_samples is the number of samples in X1."
   ]
  },
  {
   "cell_type": "markdown",
   "id": "f1b6ee5d",
   "metadata": {
    "papermill": {
     "duration": null,
     "end_time": null,
     "exception": null,
     "start_time": null,
     "status": "pending"
    },
    "tags": []
   },
   "source": [
    "## Visualisation of the transformed points"
   ]
  },
  {
   "cell_type": "code",
   "execution_count": null,
   "id": "7d7ec2e7",
   "metadata": {
    "papermill": {
     "duration": null,
     "end_time": null,
     "exception": null,
     "start_time": null,
     "status": "pending"
    },
    "tags": []
   },
   "outputs": [],
   "source": [
    "plt.scatter(X_tsne[:,0],X_tsne[:,1]);"
   ]
  },
  {
   "cell_type": "code",
   "execution_count": null,
   "id": "493f4f97",
   "metadata": {
    "papermill": {
     "duration": null,
     "end_time": null,
     "exception": null,
     "start_time": null,
     "status": "pending"
    },
    "tags": []
   },
   "outputs": [],
   "source": [
    "plt.scatter(X_tsne[:,0],X_tsne[:,1],c=y1.astype(float));"
   ]
  },
  {
   "cell_type": "markdown",
   "id": "4644c4a6",
   "metadata": {
    "papermill": {
     "duration": null,
     "end_time": null,
     "exception": null,
     "start_time": null,
     "status": "pending"
    },
    "tags": []
   },
   "source": [
    "The code plt.scatter(X_tsne[:,0],X_tsne[:,1],c=y1.astype(float)) creates a scatter plot of the two-dimensional t-SNE representation of the data in X1, where the points are colored based on their class labels stored in y1.\n",
    "\n",
    "The scatter function from Matplotlib's pyplot module is used to create the scatter plot. The first argument X_tsne[:,0] represents the x-coordinates of the points, the second argument X_tsne[:,1] represents the y-coordinates of the points, and the third argument c=y1.astype(float) specifies the color of each point based on its class label.\n",
    "\n",
    "In this case, the c argument is set to y1.astype(float), which converts the class labels in y1 to floating point numbers so that they can be used as colors in the plot. Each unique class label will be assigned a different color, allowing you to visually distinguish between different classes in the plot.\n",
    "\n",
    "You can customize the color scheme using different colormaps provided by Matplotlib, such as viridis, cmap, jet, coolwarm, etc."
   ]
  },
  {
   "cell_type": "markdown",
   "id": "9317dd0e",
   "metadata": {
    "papermill": {
     "duration": null,
     "end_time": null,
     "exception": null,
     "start_time": null,
     "status": "pending"
    },
    "tags": []
   },
   "source": [
    "## Creating a DF for better visualisation"
   ]
  },
  {
   "cell_type": "code",
   "execution_count": null,
   "id": "6a8eea1a",
   "metadata": {
    "papermill": {
     "duration": null,
     "end_time": null,
     "exception": null,
     "start_time": null,
     "status": "pending"
    },
    "tags": []
   },
   "outputs": [],
   "source": [
    "X_df=pd.DataFrame({'X0':X_tsne[:,0],\n",
    "                  'X1':X_tsne[:,1],\n",
    "                  'Label':y1})\n",
    "X_df"
   ]
  },
  {
   "cell_type": "code",
   "execution_count": null,
   "id": "fb64143e",
   "metadata": {
    "papermill": {
     "duration": null,
     "end_time": null,
     "exception": null,
     "start_time": null,
     "status": "pending"
    },
    "tags": []
   },
   "outputs": [],
   "source": [
    "plt.figure(figsize=(15,12))\n",
    "sns.lmplot(data=X_df,x='X0',y='X1',hue='Label');"
   ]
  },
  {
   "cell_type": "markdown",
   "id": "8749b4bc",
   "metadata": {
    "papermill": {
     "duration": null,
     "end_time": null,
     "exception": null,
     "start_time": null,
     "status": "pending"
    },
    "tags": []
   },
   "source": [
    "The code plt.figure(figsize=(15,12)) sns.lmplot(data=X_df,x='X0',y='X1',hue='Label') creates a scatter plot of the data in X_df, where the points are colored based on their Label column.\n",
    "\n",
    "The figure function from Matplotlib's pyplot module is used to create a new figure with a specified size. The figsize argument specifies the width and height of the figure in inches.\n",
    "\n",
    "The lmplot function from Seaborn library is used to create the scatter plot. The data argument specifies the DataFrame to use, the x and y arguments specify the names of the columns to use for the x-axis and y-axis, and the hue argument specifies the name of the column to use for coloring the points.\n",
    "\n",
    "The resulting plot is a scatter plot where each point represents a data point in X_df, and the color of the point is determined by its value in the Label column. Additionally, the lmplot function fits a linear regression model to the data and overlays the regression line on the scatter plot."
   ]
  },
  {
   "cell_type": "code",
   "execution_count": null,
   "id": "bced7556",
   "metadata": {
    "papermill": {
     "duration": null,
     "end_time": null,
     "exception": null,
     "start_time": null,
     "status": "pending"
    },
    "tags": []
   },
   "outputs": [],
   "source": [
    "plt.figure(figsize=(15,12))\n",
    "sns.lmplot(data=X_df,x='X0',y='X1',\n",
    "           hue='Label',fit_reg=False);"
   ]
  },
  {
   "cell_type": "markdown",
   "id": "ef796865",
   "metadata": {
    "papermill": {
     "duration": null,
     "end_time": null,
     "exception": null,
     "start_time": null,
     "status": "pending"
    },
    "tags": []
   },
   "source": [
    "## TSNE on Wine dataset"
   ]
  },
  {
   "cell_type": "code",
   "execution_count": null,
   "id": "f87f57a8",
   "metadata": {
    "papermill": {
     "duration": null,
     "end_time": null,
     "exception": null,
     "start_time": null,
     "status": "pending"
    },
    "tags": []
   },
   "outputs": [],
   "source": [
    "wine"
   ]
  },
  {
   "cell_type": "code",
   "execution_count": null,
   "id": "dcbbc4ba",
   "metadata": {
    "papermill": {
     "duration": null,
     "end_time": null,
     "exception": null,
     "start_time": null,
     "status": "pending"
    },
    "tags": []
   },
   "outputs": [],
   "source": [
    "y=wine['Wine']\n",
    "y"
   ]
  },
  {
   "cell_type": "code",
   "execution_count": null,
   "id": "10b01b08",
   "metadata": {
    "papermill": {
     "duration": null,
     "end_time": null,
     "exception": null,
     "start_time": null,
     "status": "pending"
    },
    "tags": []
   },
   "outputs": [],
   "source": [
    "# Features\n",
    "X=wine.drop(['Wine'],axis=1)\n",
    "X"
   ]
  },
  {
   "cell_type": "code",
   "execution_count": null,
   "id": "31937a37",
   "metadata": {
    "papermill": {
     "duration": null,
     "end_time": null,
     "exception": null,
     "start_time": null,
     "status": "pending"
    },
    "tags": []
   },
   "outputs": [],
   "source": [
    "X.shape"
   ]
  },
  {
   "cell_type": "code",
   "execution_count": null,
   "id": "8cb50da2",
   "metadata": {
    "papermill": {
     "duration": null,
     "end_time": null,
     "exception": null,
     "start_time": null,
     "status": "pending"
    },
    "tags": []
   },
   "outputs": [],
   "source": [
    "from sklearn.preprocessing import StandardScaler\n",
    "sc=StandardScaler()\n",
    "X_scaled=sc.fit_transform(X)\n",
    "X_scaled"
   ]
  },
  {
   "cell_type": "code",
   "execution_count": null,
   "id": "35febb7e",
   "metadata": {
    "papermill": {
     "duration": null,
     "end_time": null,
     "exception": null,
     "start_time": null,
     "status": "pending"
    },
    "tags": []
   },
   "outputs": [],
   "source": [
    "y.value_counts()"
   ]
  },
  {
   "cell_type": "markdown",
   "id": "cba971fb",
   "metadata": {
    "papermill": {
     "duration": null,
     "end_time": null,
     "exception": null,
     "start_time": null,
     "status": "pending"
    },
    "tags": []
   },
   "source": [
    "## Building the TSNE Model on Wine Dataset"
   ]
  },
  {
   "cell_type": "code",
   "execution_count": null,
   "id": "89f41168",
   "metadata": {
    "papermill": {
     "duration": null,
     "end_time": null,
     "exception": null,
     "start_time": null,
     "status": "pending"
    },
    "tags": []
   },
   "outputs": [],
   "source": [
    "from sklearn.manifold import TSNE\n",
    "tsne=TSNE(n_components=2,perplexity=30)"
   ]
  },
  {
   "cell_type": "code",
   "execution_count": null,
   "id": "31ad57d7",
   "metadata": {
    "papermill": {
     "duration": null,
     "end_time": null,
     "exception": null,
     "start_time": null,
     "status": "pending"
    },
    "tags": []
   },
   "outputs": [],
   "source": [
    "X_tsne=tsne.fit_transform(X_scaled)\n",
    "X_tsne.shape"
   ]
  },
  {
   "cell_type": "code",
   "execution_count": null,
   "id": "0c2a749f",
   "metadata": {
    "papermill": {
     "duration": null,
     "end_time": null,
     "exception": null,
     "start_time": null,
     "status": "pending"
    },
    "tags": []
   },
   "outputs": [],
   "source": [
    "X_tsne[10]"
   ]
  },
  {
   "cell_type": "markdown",
   "id": "48705789",
   "metadata": {
    "papermill": {
     "duration": null,
     "end_time": null,
     "exception": null,
     "start_time": null,
     "status": "pending"
    },
    "tags": []
   },
   "source": [
    "## Visualisation of the transformed points"
   ]
  },
  {
   "cell_type": "code",
   "execution_count": null,
   "id": "1c4ad239",
   "metadata": {
    "papermill": {
     "duration": null,
     "end_time": null,
     "exception": null,
     "start_time": null,
     "status": "pending"
    },
    "tags": []
   },
   "outputs": [],
   "source": [
    "#visualisation \n",
    "plt.scatter(X_tsne[:,0],X_tsne[:,1],c=y);"
   ]
  },
  {
   "cell_type": "markdown",
   "id": "8125b4fd",
   "metadata": {
    "papermill": {
     "duration": null,
     "end_time": null,
     "exception": null,
     "start_time": null,
     "status": "pending"
    },
    "tags": []
   },
   "source": [
    "## Creating a DF for better visualisation"
   ]
  },
  {
   "cell_type": "code",
   "execution_count": null,
   "id": "546e23da",
   "metadata": {
    "papermill": {
     "duration": null,
     "end_time": null,
     "exception": null,
     "start_time": null,
     "status": "pending"
    },
    "tags": []
   },
   "outputs": [],
   "source": [
    "#creating a data frame for better visualisation\n",
    "X_df=pd.DataFrame({'X0':X_tsne[:,0],\n",
    "                  'X1':X_tsne[:,1],\n",
    "                  'Label':y})\n",
    "X_df"
   ]
  },
  {
   "cell_type": "code",
   "execution_count": null,
   "id": "374b8543",
   "metadata": {
    "papermill": {
     "duration": null,
     "end_time": null,
     "exception": null,
     "start_time": null,
     "status": "pending"
    },
    "tags": []
   },
   "outputs": [],
   "source": [
    "import seaborn as sns\n",
    "plt.figure(figsize=(15,12))\n",
    "sns.lmplot(data=X_df,x='X0',y='X1',hue='Label');"
   ]
  },
  {
   "cell_type": "code",
   "execution_count": null,
   "id": "1feba5d0",
   "metadata": {
    "papermill": {
     "duration": null,
     "end_time": null,
     "exception": null,
     "start_time": null,
     "status": "pending"
    },
    "tags": []
   },
   "outputs": [],
   "source": [
    "plt.figure(figsize=(15,12))\n",
    "sns.lmplot(data=X_df,x='X0',y='X1',\n",
    "           hue='Label',fit_reg=False);"
   ]
  },
  {
   "cell_type": "code",
   "execution_count": null,
   "id": "881b1285",
   "metadata": {
    "papermill": {
     "duration": null,
     "end_time": null,
     "exception": null,
     "start_time": null,
     "status": "pending"
    },
    "tags": []
   },
   "outputs": [],
   "source": [
    "tsne.get_params(deep=True)"
   ]
  },
  {
   "cell_type": "code",
   "execution_count": null,
   "id": "c8e12ba2",
   "metadata": {
    "papermill": {
     "duration": null,
     "end_time": null,
     "exception": null,
     "start_time": null,
     "status": "pending"
    },
    "tags": []
   },
   "outputs": [],
   "source": [
    "# Subplots\n",
    "\n",
    "fig=plt.figure(figsize=(10,10))\n",
    "\n",
    "#PCA\n",
    "fig.add_subplot(2,2,1) \n",
    "plt.scatter(X_pca[:,0],X_pca[:,1],c=y)\n",
    "plt.xlabel('PC 1')\n",
    "plt.ylabel('PC 2')\n",
    "plt.title(' Principal Component Analysis');\n",
    "\n",
    "#LDA\n",
    "fig.add_subplot(2,2,2)\n",
    "plt.scatter(X_lda[:,0],X_lda[:,1],c=y);\n",
    "plt.title('Linear Discriminant Analysis');\n",
    "\n",
    "\n",
    "#LLE\n",
    "fig.add_subplot(2,2,3)\n",
    "\n",
    "plt.scatter(X_lle_trans[:,0],X_lle_trans[:,1],c=y);\n",
    "plt.title('Locally Linear Embedding');\n",
    "\n",
    "#TSNE\n",
    "fig.add_subplot(2,2,4)\n",
    "\n",
    "plt.scatter(X_tsne[:,0],X_tsne[:,1],c=y);\n",
    "plt.title('T-distributed Stochastic Neighbor Embedding');"
   ]
  },
  {
   "cell_type": "markdown",
   "id": "4948176e",
   "metadata": {
    "papermill": {
     "duration": null,
     "end_time": null,
     "exception": null,
     "start_time": null,
     "status": "pending"
    },
    "tags": []
   },
   "source": [
    "# Hierarchical Clustering"
   ]
  },
  {
   "cell_type": "markdown",
   "id": "06c092cd",
   "metadata": {
    "papermill": {
     "duration": null,
     "end_time": null,
     "exception": null,
     "start_time": null,
     "status": "pending"
    },
    "tags": []
   },
   "source": [
    "## Wine Dataset"
   ]
  },
  {
   "cell_type": "code",
   "execution_count": null,
   "id": "1b8b69a4",
   "metadata": {
    "papermill": {
     "duration": null,
     "end_time": null,
     "exception": null,
     "start_time": null,
     "status": "pending"
    },
    "tags": []
   },
   "outputs": [],
   "source": [
    "# Converting into DF\n",
    "X_df=pd.DataFrame(X_scaled,columns=X.columns)\n",
    "X_df"
   ]
  },
  {
   "cell_type": "code",
   "execution_count": null,
   "id": "b09e7fbb",
   "metadata": {
    "papermill": {
     "duration": null,
     "end_time": null,
     "exception": null,
     "start_time": null,
     "status": "pending"
    },
    "tags": []
   },
   "outputs": [],
   "source": [
    "#Drawing dendogram\n",
    "import scipy.cluster.hierarchy as sch"
   ]
  },
  {
   "cell_type": "code",
   "execution_count": null,
   "id": "c3c9714f",
   "metadata": {
    "papermill": {
     "duration": null,
     "end_time": null,
     "exception": null,
     "start_time": null,
     "status": "pending"
    },
    "tags": []
   },
   "outputs": [],
   "source": [
    "plt.figure(figsize=(10, 10))\n",
    "dendro=sch.dendrogram(sch.linkage(X_df,method='ward'))"
   ]
  },
  {
   "cell_type": "code",
   "execution_count": null,
   "id": "22d2b86d",
   "metadata": {
    "papermill": {
     "duration": null,
     "end_time": null,
     "exception": null,
     "start_time": null,
     "status": "pending"
    },
    "tags": []
   },
   "outputs": [],
   "source": [
    "plt.figure(figsize=(10,10))\n",
    "dendro=sch.dendrogram(sch.linkage(X_df,method='ward'))\n",
    "plt.axhline(y=20,color='yellow',linestyle='--');\n",
    "plt.axhline(y=9,color='blue',linestyle='-.');"
   ]
  },
  {
   "cell_type": "code",
   "execution_count": null,
   "id": "2f7b434c",
   "metadata": {
    "papermill": {
     "duration": null,
     "end_time": null,
     "exception": null,
     "start_time": null,
     "status": "pending"
    },
    "tags": []
   },
   "outputs": [],
   "source": [
    "# Agglomarative clustering\n",
    "from sklearn.cluster import AgglomerativeClustering\n",
    "\n",
    "clust=AgglomerativeClustering(n_clusters=3,linkage='ward')"
   ]
  },
  {
   "cell_type": "code",
   "execution_count": null,
   "id": "b6c0bd69",
   "metadata": {
    "papermill": {
     "duration": null,
     "end_time": null,
     "exception": null,
     "start_time": null,
     "status": "pending"
    },
    "tags": []
   },
   "outputs": [],
   "source": [
    "type(clust)"
   ]
  },
  {
   "cell_type": "code",
   "execution_count": null,
   "id": "0b37c977",
   "metadata": {
    "papermill": {
     "duration": null,
     "end_time": null,
     "exception": null,
     "start_time": null,
     "status": "pending"
    },
    "tags": []
   },
   "outputs": [],
   "source": [
    "clust.fit_predict(X_df)"
   ]
  },
  {
   "cell_type": "code",
   "execution_count": null,
   "id": "0d61aa7a",
   "metadata": {
    "papermill": {
     "duration": null,
     "end_time": null,
     "exception": null,
     "start_time": null,
     "status": "pending"
    },
    "tags": []
   },
   "outputs": [],
   "source": [
    "clust.labels_"
   ]
  },
  {
   "cell_type": "code",
   "execution_count": null,
   "id": "7653aca1",
   "metadata": {
    "papermill": {
     "duration": null,
     "end_time": null,
     "exception": null,
     "start_time": null,
     "status": "pending"
    },
    "tags": []
   },
   "outputs": [],
   "source": [
    "#adding labels to Data frame\n",
    "X_df['Label']=pd.Series(clust.labels_)"
   ]
  },
  {
   "cell_type": "code",
   "execution_count": null,
   "id": "ecc0ee32",
   "metadata": {
    "papermill": {
     "duration": null,
     "end_time": null,
     "exception": null,
     "start_time": null,
     "status": "pending"
    },
    "tags": []
   },
   "outputs": [],
   "source": [
    "X_df"
   ]
  },
  {
   "cell_type": "code",
   "execution_count": null,
   "id": "6b93c746",
   "metadata": {
    "papermill": {
     "duration": null,
     "end_time": null,
     "exception": null,
     "start_time": null,
     "status": "pending"
    },
    "tags": []
   },
   "outputs": [],
   "source": [
    "#analysing the clusters\n",
    "\n",
    "X_df['Label'].value_counts()"
   ]
  },
  {
   "cell_type": "code",
   "execution_count": null,
   "id": "8a74db22",
   "metadata": {
    "papermill": {
     "duration": null,
     "end_time": null,
     "exception": null,
     "start_time": null,
     "status": "pending"
    },
    "tags": []
   },
   "outputs": [],
   "source": [
    "# Listing all data belong to the segment '0'\n",
    "X_df[X_df['Label']==0]"
   ]
  },
  {
   "cell_type": "code",
   "execution_count": null,
   "id": "e7153fc8",
   "metadata": {
    "papermill": {
     "duration": null,
     "end_time": null,
     "exception": null,
     "start_time": null,
     "status": "pending"
    },
    "tags": []
   },
   "outputs": [],
   "source": [
    "plt.figure(figsize=(15,12))\n",
    "sns.pairplot(data=X_df,hue='Label');"
   ]
  },
  {
   "cell_type": "code",
   "execution_count": null,
   "id": "78431470",
   "metadata": {
    "papermill": {
     "duration": null,
     "end_time": null,
     "exception": null,
     "start_time": null,
     "status": "pending"
    },
    "tags": []
   },
   "outputs": [],
   "source": [
    "sns.scatterplot(x=X_df['Alcohol'],y=X_df['Flavanoids'],hue=X_df['Label']);"
   ]
  },
  {
   "cell_type": "markdown",
   "id": "addc8a35",
   "metadata": {
    "papermill": {
     "duration": null,
     "end_time": null,
     "exception": null,
     "start_time": null,
     "status": "pending"
    },
    "tags": []
   },
   "source": [
    "# Hierarchial Clustering with Customer dataset"
   ]
  },
  {
   "cell_type": "code",
   "execution_count": null,
   "id": "0db2e19d",
   "metadata": {
    "papermill": {
     "duration": null,
     "end_time": null,
     "exception": null,
     "start_time": null,
     "status": "pending"
    },
    "tags": []
   },
   "outputs": [],
   "source": [
    "import pandas as pd\n",
    "import numpy as np\n",
    "import matplotlib.pyplot as plt\n",
    "import seaborn as sns"
   ]
  },
  {
   "cell_type": "markdown",
   "id": "b4b4afcf",
   "metadata": {
    "papermill": {
     "duration": null,
     "end_time": null,
     "exception": null,
     "start_time": null,
     "status": "pending"
    },
    "tags": []
   },
   "source": [
    "## Accessing the dataset"
   ]
  },
  {
   "cell_type": "code",
   "execution_count": null,
   "id": "a935eeb9",
   "metadata": {
    "papermill": {
     "duration": null,
     "end_time": null,
     "exception": null,
     "start_time": null,
     "status": "pending"
    },
    "tags": []
   },
   "outputs": [],
   "source": [
    "cust=pd.read_csv('wholesale_customers.csv')"
   ]
  },
  {
   "cell_type": "code",
   "execution_count": null,
   "id": "a20f0990",
   "metadata": {
    "papermill": {
     "duration": null,
     "end_time": null,
     "exception": null,
     "start_time": null,
     "status": "pending"
    },
    "tags": []
   },
   "outputs": [],
   "source": [
    "cust"
   ]
  },
  {
   "cell_type": "code",
   "execution_count": null,
   "id": "83db8b7e",
   "metadata": {
    "papermill": {
     "duration": null,
     "end_time": null,
     "exception": null,
     "start_time": null,
     "status": "pending"
    },
    "tags": []
   },
   "outputs": [],
   "source": [
    "cust.shape"
   ]
  },
  {
   "cell_type": "markdown",
   "id": "9f9230fd",
   "metadata": {
    "papermill": {
     "duration": null,
     "end_time": null,
     "exception": null,
     "start_time": null,
     "status": "pending"
    },
    "tags": []
   },
   "source": [
    "## Standardisation of features"
   ]
  },
  {
   "cell_type": "code",
   "execution_count": null,
   "id": "77e11e69",
   "metadata": {
    "papermill": {
     "duration": null,
     "end_time": null,
     "exception": null,
     "start_time": null,
     "status": "pending"
    },
    "tags": []
   },
   "outputs": [],
   "source": [
    "from sklearn.preprocessing import StandardScaler\n",
    "sc=StandardScaler()\n",
    "X=sc.fit_transform(cust)\n",
    "X"
   ]
  },
  {
   "cell_type": "code",
   "execution_count": null,
   "id": "cb446e49",
   "metadata": {
    "papermill": {
     "duration": null,
     "end_time": null,
     "exception": null,
     "start_time": null,
     "status": "pending"
    },
    "tags": []
   },
   "outputs": [],
   "source": [
    "# Converting into DF\n",
    "\n",
    "X=pd.DataFrame(X,columns=cust.columns)\n",
    "X"
   ]
  },
  {
   "cell_type": "markdown",
   "id": "b11c8e37",
   "metadata": {
    "papermill": {
     "duration": null,
     "end_time": null,
     "exception": null,
     "start_time": null,
     "status": "pending"
    },
    "tags": []
   },
   "source": [
    "The code X=pd.DataFrame(X,columns=cust.columns) creates a new DataFrame X from a numpy array X, where the column names are taken from the cust DataFrame.\n",
    "\n",
    "The DataFrame constructor from Pandas library is used to create the new DataFrame. The first argument X specifies the numpy array to use as data, and the columns argument specifies the names of the columns to use for the DataFrame. In this case, the column names are taken from the columns attribute of the cust DataFrame.\n",
    "\n",
    "The resulting X DataFrame will have the same number of rows as the original numpy array X, and the same column names as the cust DataFrame"
   ]
  },
  {
   "cell_type": "markdown",
   "id": "64259bda",
   "metadata": {
    "papermill": {
     "duration": null,
     "end_time": null,
     "exception": null,
     "start_time": null,
     "status": "pending"
    },
    "tags": []
   },
   "source": [
    "## Drawing Dendrogram"
   ]
  },
  {
   "cell_type": "code",
   "execution_count": null,
   "id": "6b115ba8",
   "metadata": {
    "papermill": {
     "duration": null,
     "end_time": null,
     "exception": null,
     "start_time": null,
     "status": "pending"
    },
    "tags": []
   },
   "outputs": [],
   "source": [
    "import scipy.cluster.hierarchy as sch"
   ]
  },
  {
   "cell_type": "code",
   "execution_count": null,
   "id": "106f8240",
   "metadata": {
    "papermill": {
     "duration": null,
     "end_time": null,
     "exception": null,
     "start_time": null,
     "status": "pending"
    },
    "tags": []
   },
   "outputs": [],
   "source": [
    "dendro=sch.dendrogram(sch.linkage(X,method='ward'))"
   ]
  },
  {
   "cell_type": "markdown",
   "id": "06a60310",
   "metadata": {
    "papermill": {
     "duration": null,
     "end_time": null,
     "exception": null,
     "start_time": null,
     "status": "pending"
    },
    "tags": []
   },
   "source": [
    "The code dendro=sch.dendrogram(sch.linkage(X,method='ward')) creates a dendrogram visualization of the hierarchical clustering of the data in X.\n",
    "\n",
    "The linkage function from SciPy's cluster.hierarchy module is used to compute the hierarchical clustering of the data. The first argument X specifies the data to cluster, and the method argument specifies the method used to compute the linkage matrix. In this case, the 'ward' method is used, which minimizes the variance of the clusters being merged.\n",
    "\n",
    "The resulting linkage matrix is passed to the dendrogram function from the same module, which creates a dendrogram visualization of the clustering. The dendrogram function returns a dictionary containing information about the dendrogram, such as the order of the leaves and the distance between each pair of clusters.\n",
    "\n",
    "The dendrogram function can also take additional arguments to customize the appearance of the dendrogram, such as labels to specify the labels for the leaves, orientation to specify the orientation of the dendrogram, color_threshold to specify the color threshold for the branches, etc"
   ]
  },
  {
   "cell_type": "code",
   "execution_count": null,
   "id": "eeb3035f",
   "metadata": {
    "papermill": {
     "duration": null,
     "end_time": null,
     "exception": null,
     "start_time": null,
     "status": "pending"
    },
    "tags": []
   },
   "outputs": [],
   "source": [
    "plt.figure(figsize=(15,12))\n",
    "dendro=sch.dendrogram(sch.linkage(X,method='ward'))\n",
    "plt.axhline(y=35,color='red',linestyle='--');"
   ]
  },
  {
   "cell_type": "markdown",
   "id": "1040059b",
   "metadata": {
    "papermill": {
     "duration": null,
     "end_time": null,
     "exception": null,
     "start_time": null,
     "status": "pending"
    },
    "tags": []
   },
   "source": [
    "The code plt.figure(figsize=(15,12)) dendro=sch.dendrogram(sch.linkage(X,method='ward')) plt.axhline(y=35,color='red',linestyle='--') creates a dendrogram visualization of the hierarchical clustering of the data in X and adds a horizontal line at y=35.\n",
    "\n",
    "The figure function from Matplotlib's pyplot module is used to create a new figure with a specified size. The figsize argument specifies the width and height of the figure in inches.\n",
    "\n",
    "The linkage function from SciPy's cluster.hierarchy module is used to compute the hierarchical clustering of the data, as described in the previous answer.\n",
    "\n",
    "The resulting linkage matrix is passed to the dendrogram function from the same module, which creates a dendrogram visualization of the clustering. The dendrogram function returns a dictionary containing information about the dendrogram, such as the order of the leaves and the distance between each pair of clusters.\n",
    "\n",
    "The axhline function from Matplotlib's pyplot module is used to add a horizontal line to the plot at y=35. The y argument specifies the y-coordinate of the line, and the color and linestyle arguments specify the color and style of the line, respectively.\n",
    "\n",
    "The resulting plot shows the dendrogram of the hierarchical clustering of the data, with a horizontal line at y=35 to indicate the threshold for cutting the dendrogram to obtain the desired number of clusters."
   ]
  },
  {
   "cell_type": "code",
   "execution_count": null,
   "id": "8e9bc4fc",
   "metadata": {
    "papermill": {
     "duration": null,
     "end_time": null,
     "exception": null,
     "start_time": null,
     "status": "pending"
    },
    "tags": []
   },
   "outputs": [],
   "source": [
    "plt.figure(figsize=(15,12))\n",
    "dendro=sch.dendrogram(sch.linkage(X,method='ward'))\n",
    "plt.axhline(y=35,color='red',linestyle='--');\n",
    "plt.axhline(y=9,color='blue',linestyle='-.');"
   ]
  },
  {
   "cell_type": "code",
   "execution_count": null,
   "id": "e03fad34",
   "metadata": {
    "papermill": {
     "duration": null,
     "end_time": null,
     "exception": null,
     "start_time": null,
     "status": "pending"
    },
    "tags": []
   },
   "outputs": [],
   "source": [
    "plt.figure(figsize=(15,12))\n",
    "dendro=sch.dendrogram(sch.linkage(X,method='ward'))\n",
    "plt.axhline(y=35,color='red',linestyle='--');\n",
    "plt.axhline(y=25,color='blue',linestyle='-.');"
   ]
  },
  {
   "cell_type": "markdown",
   "id": "d88cfe19",
   "metadata": {
    "papermill": {
     "duration": null,
     "end_time": null,
     "exception": null,
     "start_time": null,
     "status": "pending"
    },
    "tags": []
   },
   "source": [
    "The y-axis of the dendrogram graph represents the distance between two clusters being merged during the hierarchical clustering process.\n",
    "\n",
    "Each leaf node in the dendrogram represents an individual data point in the dataset, and the root node represents the single cluster containing all data points. The height of the vertical lines connecting the nodes in the dendrogram represents the distance between the clusters being merged.\n",
    "\n",
    "The longer the vertical line connecting two nodes, the greater the distance between the corresponding clusters. The y-axis value at which the vertical line intersects with the dendrogram represents the distance at which the two clusters are merged.\n",
    "\n",
    "In other words, the y-axis in the dendrogram represents the dissimilarity or distance between clusters, where a larger distance indicates that the clusters are less similar to each other. By specifying a cut-off value on the y-axis, we can obtain a specific number of clusters from the dendrogram."
   ]
  },
  {
   "cell_type": "markdown",
   "id": "e6cf74e2",
   "metadata": {
    "papermill": {
     "duration": null,
     "end_time": null,
     "exception": null,
     "start_time": null,
     "status": "pending"
    },
    "tags": []
   },
   "source": [
    "## Agglomerative Clustering using Sklearn"
   ]
  },
  {
   "cell_type": "code",
   "execution_count": null,
   "id": "30d0934a",
   "metadata": {
    "papermill": {
     "duration": null,
     "end_time": null,
     "exception": null,
     "start_time": null,
     "status": "pending"
    },
    "tags": []
   },
   "outputs": [],
   "source": [
    "from sklearn.cluster import AgglomerativeClustering\n",
    "\n",
    "clust=AgglomerativeClustering(n_clusters=2,linkage='ward')"
   ]
  },
  {
   "cell_type": "code",
   "execution_count": null,
   "id": "ecd4f21f",
   "metadata": {
    "papermill": {
     "duration": null,
     "end_time": null,
     "exception": null,
     "start_time": null,
     "status": "pending"
    },
    "tags": []
   },
   "outputs": [],
   "source": [
    "type(clust)"
   ]
  },
  {
   "cell_type": "code",
   "execution_count": null,
   "id": "0ceff696",
   "metadata": {
    "papermill": {
     "duration": null,
     "end_time": null,
     "exception": null,
     "start_time": null,
     "status": "pending"
    },
    "tags": []
   },
   "outputs": [],
   "source": [
    "clust.fit_predict(X)"
   ]
  },
  {
   "cell_type": "code",
   "execution_count": null,
   "id": "01561f6b",
   "metadata": {
    "papermill": {
     "duration": null,
     "end_time": null,
     "exception": null,
     "start_time": null,
     "status": "pending"
    },
    "tags": []
   },
   "outputs": [],
   "source": [
    "clust.labels_"
   ]
  },
  {
   "cell_type": "markdown",
   "id": "f9b8d6ad",
   "metadata": {
    "papermill": {
     "duration": null,
     "end_time": null,
     "exception": null,
     "start_time": null,
     "status": "pending"
    },
    "tags": []
   },
   "source": [
    "## Adding labels to the DF"
   ]
  },
  {
   "cell_type": "code",
   "execution_count": null,
   "id": "faf355f8",
   "metadata": {
    "papermill": {
     "duration": null,
     "end_time": null,
     "exception": null,
     "start_time": null,
     "status": "pending"
    },
    "tags": []
   },
   "outputs": [],
   "source": [
    "X['Label']=pd.Series(clust.labels_)"
   ]
  },
  {
   "cell_type": "code",
   "execution_count": null,
   "id": "04d9b779",
   "metadata": {
    "papermill": {
     "duration": null,
     "end_time": null,
     "exception": null,
     "start_time": null,
     "status": "pending"
    },
    "tags": []
   },
   "outputs": [],
   "source": [
    "X"
   ]
  },
  {
   "cell_type": "markdown",
   "id": "c0549a1a",
   "metadata": {
    "papermill": {
     "duration": null,
     "end_time": null,
     "exception": null,
     "start_time": null,
     "status": "pending"
    },
    "tags": []
   },
   "source": [
    "## Analysing the customer segments"
   ]
  },
  {
   "cell_type": "code",
   "execution_count": null,
   "id": "242827e5",
   "metadata": {
    "papermill": {
     "duration": null,
     "end_time": null,
     "exception": null,
     "start_time": null,
     "status": "pending"
    },
    "tags": []
   },
   "outputs": [],
   "source": [
    "# No of customers in each segment\n",
    "\n",
    "X['Label'].value_counts()"
   ]
  },
  {
   "cell_type": "code",
   "execution_count": null,
   "id": "528f0ae7",
   "metadata": {
    "papermill": {
     "duration": null,
     "end_time": null,
     "exception": null,
     "start_time": null,
     "status": "pending"
    },
    "tags": []
   },
   "outputs": [],
   "source": [
    "# Listing all custmers belong to the segment '0'\n",
    "X[X['Label']==0]"
   ]
  },
  {
   "cell_type": "code",
   "execution_count": null,
   "id": "39e13bcf",
   "metadata": {
    "papermill": {
     "duration": null,
     "end_time": null,
     "exception": null,
     "start_time": null,
     "status": "pending"
    },
    "tags": []
   },
   "outputs": [],
   "source": [
    "X[X['Label']==1]"
   ]
  },
  {
   "cell_type": "code",
   "execution_count": null,
   "id": "5ab350de",
   "metadata": {
    "papermill": {
     "duration": null,
     "end_time": null,
     "exception": null,
     "start_time": null,
     "status": "pending"
    },
    "tags": []
   },
   "outputs": [],
   "source": [
    "# Buying pattern of Milk and Grocery\n",
    "\n",
    "sns.scatterplot(x=X['Milk'],y=X['Grocery'],hue=X['Label']);"
   ]
  },
  {
   "cell_type": "code",
   "execution_count": null,
   "id": "dcca5587",
   "metadata": {
    "papermill": {
     "duration": null,
     "end_time": null,
     "exception": null,
     "start_time": null,
     "status": "pending"
    },
    "tags": []
   },
   "outputs": [],
   "source": [
    "plt.figure(figsize=(15,12))\n",
    "sns.pairplot(data=X,hue='Label');"
   ]
  },
  {
   "cell_type": "markdown",
   "id": "f7b7c0a0",
   "metadata": {
    "papermill": {
     "duration": null,
     "end_time": null,
     "exception": null,
     "start_time": null,
     "status": "pending"
    },
    "tags": []
   },
   "source": [
    "# K Means Clustering on Wine dataset"
   ]
  },
  {
   "cell_type": "code",
   "execution_count": null,
   "id": "dc504751",
   "metadata": {
    "papermill": {
     "duration": null,
     "end_time": null,
     "exception": null,
     "start_time": null,
     "status": "pending"
    },
    "tags": []
   },
   "outputs": [],
   "source": [
    "from sklearn.cluster import KMeans\n",
    "SSD = []\n",
    "\n",
    "for k in range(2,10):\n",
    "    kmeans = KMeans(n_clusters = k, random_state=10)\n",
    "    kmeans.fit(X)\n",
    "    SSD.append(kmeans.inertia_)  # interia provides the Sum of Squares of the distance betweeen the datapoints and centroid\n",
    "plt.title('Elbow method')\n",
    "plt.xlabel('Number of Clusters')\n",
    "plt.ylabel('WCSS')\n",
    "plt.plot(range(2,10),SSD);"
   ]
  },
  {
   "attachments": {
    "image.png": {
     "image/png": "[encoded data removed]"
    }
   },
   "cell_type": "markdown",
   "id": "19d6eec2",
   "metadata": {
    "papermill": {
     "duration": null,
     "end_time": null,
     "exception": null,
     "start_time": null,
     "status": "pending"
    },
    "tags": []
   },
   "source": [
    "![image.png](attachment:image.png)"
   ]
  },
  {
   "cell_type": "code",
   "execution_count": null,
   "id": "cf1093a0",
   "metadata": {
    "papermill": {
     "duration": null,
     "end_time": null,
     "exception": null,
     "start_time": null,
     "status": "pending"
    },
    "tags": []
   },
   "outputs": [],
   "source": [
    "## Another way of plotting elbow\n",
    "from sklearn.cluster import KMeans\n",
    "\n",
    "kmeans_models = [KMeans(n_clusters=k, random_state=23).fit(X) for k in range (2, 10)]\n",
    "innertia = [model.inertia_ for model in kmeans_models]\n",
    "\n",
    "plt.plot(range(2, 10), innertia)\n",
    "plt.title('Elbow method')\n",
    "plt.xlabel('Number of Clusters')\n",
    "plt.ylabel('WCSS')\n",
    "plt.show()"
   ]
  },
  {
   "attachments": {
    "image.png": {
     "image/png": "[encoded data removed]"
    }
   },
   "cell_type": "markdown",
   "id": "66a35d9e",
   "metadata": {
    "papermill": {
     "duration": null,
     "end_time": null,
     "exception": null,
     "start_time": null,
     "status": "pending"
    },
    "tags": []
   },
   "source": [
    "![image.png](attachment:image.png)"
   ]
  },
  {
   "cell_type": "code",
   "execution_count": null,
   "id": "26fff0f5",
   "metadata": {
    "papermill": {
     "duration": null,
     "end_time": null,
     "exception": null,
     "start_time": null,
     "status": "pending"
    },
    "tags": []
   },
   "outputs": [],
   "source": [
    "### Silhouette method\n",
    "from sklearn.metrics import silhouette_score\n",
    "SS=[]\n",
    "for k in range(2,10):\n",
    "    kmeans=KMeans(n_clusters=k, random_state=10)\n",
    "    kmeans.fit(X)\n",
    "    SS.append(silhouette_score(X,kmeans.predict(X)))\n",
    "plt.title('Silhoutte scores vs Number of clusters')\n",
    "plt.xlabel('Number of clusters')\n",
    "plt.ylabel('Silhoutte score')\n",
    "plt.plot(range(2,10),SS);"
   ]
  },
  {
   "cell_type": "code",
   "execution_count": null,
   "id": "96c99a16",
   "metadata": {
    "papermill": {
     "duration": null,
     "end_time": null,
     "exception": null,
     "start_time": null,
     "status": "pending"
    },
    "tags": []
   },
   "outputs": [],
   "source": [
    "## another method of plotting\n",
    "from sklearn.metrics import silhouette_score\n",
    "\n",
    "silhoutte_scores = [silhouette_score(X, model.labels_) for model in kmeans_models[1:4]]\n",
    "plt.plot(range(2,5), silhoutte_scores, \"bo-\")\n",
    "plt.xticks([2, 3, 4])\n",
    "plt.title('Silhoutte scores vs Number of clusters')\n",
    "plt.xlabel('Number of clusters')\n",
    "plt.ylabel('Silhoutte score')\n",
    "plt.show()"
   ]
  },
  {
   "cell_type": "code",
   "execution_count": null,
   "id": "f6b0b8d8",
   "metadata": {
    "papermill": {
     "duration": null,
     "end_time": null,
     "exception": null,
     "start_time": null,
     "status": "pending"
    },
    "tags": []
   },
   "outputs": [],
   "source": [
    "from sklearn.metrics import silhouette_score\n",
    "\n",
    "kmeans = KMeans(n_clusters=3, random_state=23)\n",
    "kmeans.fit(X)\n",
    "\n",
    "print('Silhoutte score of our model is ' + str(silhouette_score(X, kmeans.labels_)))"
   ]
  },
  {
   "cell_type": "code",
   "execution_count": null,
   "id": "a91e0a47",
   "metadata": {
    "papermill": {
     "duration": null,
     "end_time": null,
     "exception": null,
     "start_time": null,
     "status": "pending"
    },
    "tags": []
   },
   "outputs": [],
   "source": [
    "X['cluster_id'] = kmeans.labels_\n",
    "#plt.figure(figsize=(11,7))\n",
    "sns.scatterplot(data=X, x='Alcohol', y=\"Flavanoids\", hue='cluster_id')\n",
    "plt.title('Distribution of clusters based on Alcohol and Flavanoids')\n",
    "plt.show()"
   ]
  },
  {
   "cell_type": "markdown",
   "id": "6900449b",
   "metadata": {
    "papermill": {
     "duration": null,
     "end_time": null,
     "exception": null,
     "start_time": null,
     "status": "pending"
    },
    "tags": []
   },
   "source": [
    "# Clustering using Gaussian Mixturre Models"
   ]
  },
  {
   "cell_type": "markdown",
   "id": "a239d13f",
   "metadata": {
    "papermill": {
     "duration": null,
     "end_time": null,
     "exception": null,
     "start_time": null,
     "status": "pending"
    },
    "tags": []
   },
   "source": [
    "### GMM on Wine Dataset"
   ]
  },
  {
   "cell_type": "code",
   "execution_count": null,
   "id": "4dc2ade6",
   "metadata": {
    "papermill": {
     "duration": null,
     "end_time": null,
     "exception": null,
     "start_time": null,
     "status": "pending"
    },
    "tags": []
   },
   "outputs": [],
   "source": [
    "sns.pairplot(X);"
   ]
  },
  {
   "cell_type": "code",
   "execution_count": null,
   "id": "f99073dd",
   "metadata": {
    "papermill": {
     "duration": null,
     "end_time": null,
     "exception": null,
     "start_time": null,
     "status": "pending"
    },
    "tags": []
   },
   "outputs": [],
   "source": [
    "from sklearn.mixture import GaussianMixture\n",
    "n_components=np.arange(2,11)\n",
    "aic_scores=[]\n",
    "bic_scores=[]\n",
    "for n in n_components:\n",
    "    model=GaussianMixture(n,n_init=10)\n",
    "    model.fit(X)\n",
    "    aic_score=model.aic(X)\n",
    "    bic_score=model.bic(X)\n",
    "    aic_scores.append(aic_score)\n",
    "    bic_scores.append(bic_score)"
   ]
  },
  {
   "cell_type": "code",
   "execution_count": null,
   "id": "59bab9b4",
   "metadata": {
    "papermill": {
     "duration": null,
     "end_time": null,
     "exception": null,
     "start_time": null,
     "status": "pending"
    },
    "tags": []
   },
   "outputs": [],
   "source": [
    "plt.plot(n_components,aic_scores,label='AIC')\n",
    "plt.plot(n_components,bic_scores,label='BIC')\n",
    "plt.legend();"
   ]
  },
  {
   "cell_type": "code",
   "execution_count": null,
   "id": "1197e88f",
   "metadata": {
    "papermill": {
     "duration": null,
     "end_time": null,
     "exception": null,
     "start_time": null,
     "status": "pending"
    },
    "tags": []
   },
   "outputs": [],
   "source": [
    "# No of clusters = 3\n",
    "# Model building\n",
    "\n",
    "gmm_data=GaussianMixture(n_components=3,n_init=10)\n",
    "gmm_data.fit(X)"
   ]
  },
  {
   "cell_type": "code",
   "execution_count": null,
   "id": "6b14bbb5",
   "metadata": {
    "papermill": {
     "duration": null,
     "end_time": null,
     "exception": null,
     "start_time": null,
     "status": "pending"
    },
    "tags": []
   },
   "outputs": [],
   "source": [
    "data_pred=gmm_data.predict(X)\n",
    "data_pred"
   ]
  },
  {
   "cell_type": "code",
   "execution_count": null,
   "id": "b047a6fb",
   "metadata": {
    "papermill": {
     "duration": null,
     "end_time": null,
     "exception": null,
     "start_time": null,
     "status": "pending"
    },
    "tags": []
   },
   "outputs": [],
   "source": [
    "gmm_data.means_"
   ]
  },
  {
   "cell_type": "code",
   "execution_count": null,
   "id": "68618f02",
   "metadata": {
    "papermill": {
     "duration": null,
     "end_time": null,
     "exception": null,
     "start_time": null,
     "status": "pending"
    },
    "tags": []
   },
   "outputs": [],
   "source": [
    "gmm_data.covariances_"
   ]
  },
  {
   "cell_type": "code",
   "execution_count": null,
   "id": "be56921d",
   "metadata": {
    "papermill": {
     "duration": null,
     "end_time": null,
     "exception": null,
     "start_time": null,
     "status": "pending"
    },
    "tags": []
   },
   "outputs": [],
   "source": [
    "gmm_data.weights_"
   ]
  },
  {
   "cell_type": "code",
   "execution_count": null,
   "id": "2ef0cd65",
   "metadata": {
    "papermill": {
     "duration": null,
     "end_time": null,
     "exception": null,
     "start_time": null,
     "status": "pending"
    },
    "tags": []
   },
   "outputs": [],
   "source": [
    "#Adding cluster label to dataframe\n",
    "X['Label']=data_pred"
   ]
  },
  {
   "cell_type": "code",
   "execution_count": null,
   "id": "d6901a08",
   "metadata": {
    "papermill": {
     "duration": null,
     "end_time": null,
     "exception": null,
     "start_time": null,
     "status": "pending"
    },
    "tags": []
   },
   "outputs": [],
   "source": [
    "X['Label'].value_counts()"
   ]
  },
  {
   "cell_type": "code",
   "execution_count": null,
   "id": "47d934ef",
   "metadata": {
    "papermill": {
     "duration": null,
     "end_time": null,
     "exception": null,
     "start_time": null,
     "status": "pending"
    },
    "tags": []
   },
   "outputs": [],
   "source": [
    "#visualise the clusters\n",
    "sns.pairplot(X, hue='Label');"
   ]
  },
  {
   "cell_type": "code",
   "execution_count": null,
   "id": "442d63e6",
   "metadata": {
    "papermill": {
     "duration": null,
     "end_time": null,
     "exception": null,
     "start_time": null,
     "status": "pending"
    },
    "tags": []
   },
   "outputs": [],
   "source": [
    "#plt.figure(figsize=(11,7))\n",
    "sns.scatterplot(data=X, x='Alcohol', y=\"Flavanoids\", hue='Label')\n",
    "plt.title('Distribution of clusters based on Alcohol and Flavanoids')\n",
    "plt.show()"
   ]
  },
  {
   "cell_type": "code",
   "execution_count": null,
   "id": "2a74d682",
   "metadata": {
    "papermill": {
     "duration": null,
     "end_time": null,
     "exception": null,
     "start_time": null,
     "status": "pending"
    },
    "tags": []
   },
   "outputs": [],
   "source": [
    "import pandas as pd\n",
    "import numpy as np\n",
    "import matplotlib.pyplot as plt\n",
    "import seaborn as sns"
   ]
  },
  {
   "cell_type": "code",
   "execution_count": null,
   "id": "1208d250",
   "metadata": {
    "papermill": {
     "duration": null,
     "end_time": null,
     "exception": null,
     "start_time": null,
     "status": "pending"
    },
    "tags": []
   },
   "outputs": [],
   "source": [
    "# Creating samples\n",
    "np.random.seed(100)\n",
    "\n",
    "X1=np.random.normal(loc=25,scale=6,size=2000)\n",
    "sns.distplot(X1,color='red',kde=True);"
   ]
  },
  {
   "cell_type": "markdown",
   "id": "608b34f7",
   "metadata": {
    "papermill": {
     "duration": null,
     "end_time": null,
     "exception": null,
     "start_time": null,
     "status": "pending"
    },
    "tags": []
   },
   "source": [
    "The code np.random.seed(100) X1=np.random.normal(loc=25,scale=6,size=2000) sns.distplot(X1,color='red',kde=True) creates a sample of 2000 data points from a normal distribution with mean (loc) of 25 and standard deviation (scale) of 6, and then visualizes the distribution of the sample using a histogram with a kernel density estimate (KDE) plot on top.\n",
    "\n",
    "The random.seed function from NumPy's random module is used to set the random seed to 100, which ensures that the same random numbers are generated every time the code is run.\n",
    "\n",
    "The random.normal function is then used to generate 2000 data points from a normal distribution with mean (loc) of 25 and standard deviation (scale) of 6. The resulting sample is stored in the variable X1.\n",
    "\n",
    "The distplot function from Seaborn's distribution module is used to create a histogram of the data in X1, with a KDE plot overlaid on top. The color argument is used to specify the color of the histogram bars and the KDE plot, and the kde argument is set to True to include the KDE plot.\n",
    "\n",
    "The resulting plot shows a histogram of the sample data, with a KDE plot overlaid on top. The histogram shows the distribution of the data, with the x-axis representing the values of the data and the y-axis representing the frequency or count of the data points in each bin. The KDE plot shows an estimate of the underlying probability density function (PDF) of the data, which is a smoother representation of the distribution of the data."
   ]
  },
  {
   "cell_type": "markdown",
   "id": "f6c0e6a2",
   "metadata": {
    "papermill": {
     "duration": null,
     "end_time": null,
     "exception": null,
     "start_time": null,
     "status": "pending"
    },
    "tags": []
   },
   "source": [
    "A KDE plot (Kernel Density Estimation plot) is a non-parametric way to estimate the probability density function (PDF) of a continuous random variable. It is a way of smoothing a histogram by estimating the probability density function that would have generated the observed data.\n",
    "\n",
    "A KDE plot works by placing a kernel function (typically a Gaussian or normal distribution) at each data point, and then summing up the contributions from all the kernels to estimate the PDF. The bandwidth or smoothing parameter controls the width of the kernel, which affects the degree of smoothing applied to the data.\n",
    "\n",
    "The resulting KDE plot shows a smooth curve that represents an estimate of the PDF of the data. The y-axis of the KDE plot represents the estimated density, and the x-axis represents the values of the variable. KDE plots are often used to visualize the distribution of a continuous variable and to identify any underlying patterns or clusters in the data."
   ]
  },
  {
   "cell_type": "code",
   "execution_count": null,
   "id": "64bfad8a",
   "metadata": {
    "papermill": {
     "duration": null,
     "end_time": null,
     "exception": null,
     "start_time": null,
     "status": "pending"
    },
    "tags": []
   },
   "outputs": [],
   "source": [
    "X2=np.random.normal(loc=45,scale=5,size=2000)\n",
    "sns.distplot(X2,color='blue',kde=True);"
   ]
  },
  {
   "cell_type": "code",
   "execution_count": null,
   "id": "18e5a0f9",
   "metadata": {
    "papermill": {
     "duration": null,
     "end_time": null,
     "exception": null,
     "start_time": null,
     "status": "pending"
    },
    "tags": []
   },
   "outputs": [],
   "source": [
    "X3=np.random.normal(loc=65,scale=4,size=2000)\n",
    "sns.distplot(X3,color='green',kde=True);"
   ]
  },
  {
   "cell_type": "code",
   "execution_count": null,
   "id": "294eb391",
   "metadata": {
    "papermill": {
     "duration": null,
     "end_time": null,
     "exception": null,
     "start_time": null,
     "status": "pending"
    },
    "tags": []
   },
   "outputs": [],
   "source": [
    "X4=np.random.normal(loc=85,scale=4,size=2000)\n",
    "sns.distplot(X4,color='yellow',kde=True);"
   ]
  },
  {
   "cell_type": "code",
   "execution_count": null,
   "id": "c95f5905",
   "metadata": {
    "papermill": {
     "duration": null,
     "end_time": null,
     "exception": null,
     "start_time": null,
     "status": "pending"
    },
    "tags": []
   },
   "outputs": [],
   "source": [
    " ## Merging\n",
    "    \n",
    "X=np.hstack((X1,X2,X3,X4))\n",
    "X"
   ]
  },
  {
   "cell_type": "markdown",
   "id": "a0eba997",
   "metadata": {
    "papermill": {
     "duration": null,
     "end_time": null,
     "exception": null,
     "start_time": null,
     "status": "pending"
    },
    "tags": []
   },
   "source": [
    "The code X=np.hstack((X1,X2,X3,X4)) horizontally stacks the four arrays X1, X2, X3, and X4 into a single array X.\n",
    "\n",
    "The hstack function from NumPy's core module is used to horizontally stack the arrays. The function takes a tuple of arrays as input and concatenates them along the horizontal axis (axis=1). The resulting array X contains all the data from the four input arrays, arranged in a horizontal format.\n",
    "\n",
    "The resulting array X has the same number of rows as each of the input arrays, and a total of four columns (corresponding to the four input arrays). This assumes that X1, X2, X3, and X4 all have the same number of rows."
   ]
  },
  {
   "cell_type": "code",
   "execution_count": null,
   "id": "2e3db9e4",
   "metadata": {
    "papermill": {
     "duration": null,
     "end_time": null,
     "exception": null,
     "start_time": null,
     "status": "pending"
    },
    "tags": []
   },
   "outputs": [],
   "source": [
    "sns.distplot(X,kde=True);"
   ]
  },
  {
   "cell_type": "code",
   "execution_count": null,
   "id": "e934e766",
   "metadata": {
    "papermill": {
     "duration": null,
     "end_time": null,
     "exception": null,
     "start_time": null,
     "status": "pending"
    },
    "tags": []
   },
   "outputs": [],
   "source": [
    "sns.distplot(X,kde=True,hist=False);"
   ]
  },
  {
   "cell_type": "code",
   "execution_count": null,
   "id": "f70c7b0a",
   "metadata": {
    "papermill": {
     "duration": null,
     "end_time": null,
     "exception": null,
     "start_time": null,
     "status": "pending"
    },
    "tags": []
   },
   "outputs": [],
   "source": [
    "# X is a Gaussian Mixture Model"
   ]
  },
  {
   "cell_type": "markdown",
   "id": "d325c822",
   "metadata": {
    "papermill": {
     "duration": null,
     "end_time": null,
     "exception": null,
     "start_time": null,
     "status": "pending"
    },
    "tags": []
   },
   "source": [
    "### Building a GMM model with 4 clusters"
   ]
  },
  {
   "cell_type": "code",
   "execution_count": null,
   "id": "6649f6e1",
   "metadata": {
    "papermill": {
     "duration": null,
     "end_time": null,
     "exception": null,
     "start_time": null,
     "status": "pending"
    },
    "tags": []
   },
   "outputs": [],
   "source": [
    "from sklearn.mixture import GaussianMixture\n",
    "\n",
    "gmm=GaussianMixture(n_components=4,n_init=10)"
   ]
  },
  {
   "cell_type": "markdown",
   "id": "1919316d",
   "metadata": {
    "papermill": {
     "duration": null,
     "end_time": null,
     "exception": null,
     "start_time": null,
     "status": "pending"
    },
    "tags": []
   },
   "source": [
    "The code gmm = GaussianMixture(n_components=4, n_init=10) creates an instance of the GaussianMixture class from the sklearn.mixture module with the following arguments:\n",
    "\n",
    "n_components=4: The number of Gaussian components to fit to the data. In this case, n_components=4 specifies that the GMM should model the data as a mixture of four Gaussian distributions.\n",
    "n_init=10: The number of times the algorithm should be run with different random initializations. The algorithm starts with different initial values of the parameters and runs the EM algorithm until convergence to find the best fit GMM. By default, n_init=1, but setting it to a higher value increases the chances of finding a better overall fit.\n",
    "Once the GaussianMixture object is created, it can be fit to the data using the fit method."
   ]
  },
  {
   "cell_type": "code",
   "execution_count": null,
   "id": "970748b5",
   "metadata": {
    "papermill": {
     "duration": null,
     "end_time": null,
     "exception": null,
     "start_time": null,
     "status": "pending"
    },
    "tags": []
   },
   "outputs": [],
   "source": [
    "# Training\n",
    "gmm.fit(X.reshape(-1,1))"
   ]
  },
  {
   "cell_type": "markdown",
   "id": "207d6a92",
   "metadata": {
    "papermill": {
     "duration": null,
     "end_time": null,
     "exception": null,
     "start_time": null,
     "status": "pending"
    },
    "tags": []
   },
   "source": [
    "The code gmm.fit(X.reshape(-1,1)) fits the Gaussian Mixture Model (GMM) to the data in X, which is reshaped to a one-dimensional array using the reshape method.\n",
    "\n",
    "The fit method of the GaussianMixture object is used to fit the GMM to the data. The fit method estimates the parameters of the GMM, such as the mean and covariance of each component, using the Expectation-Maximization (EM) algorithm. The EM algorithm iteratively estimates the parameters of the GMM until convergence, which is when the likelihood of the data no longer improves.\n",
    "\n",
    "The reshape method is used to convert the two-dimensional array X into a one-dimensional array, which is required by the fit method. The argument -1 in the reshape method means that the number of rows in the reshaped array should be automatically determined based on the size of the original array, and the number of columns should be 1."
   ]
  },
  {
   "cell_type": "code",
   "execution_count": null,
   "id": "2a874357",
   "metadata": {
    "papermill": {
     "duration": null,
     "end_time": null,
     "exception": null,
     "start_time": null,
     "status": "pending"
    },
    "tags": []
   },
   "outputs": [],
   "source": [
    "# Prediction\n",
    "pred=gmm.predict(X.reshape(-1,1))\n",
    "pred"
   ]
  },
  {
   "cell_type": "code",
   "execution_count": null,
   "id": "335bd21e",
   "metadata": {
    "papermill": {
     "duration": null,
     "end_time": null,
     "exception": null,
     "start_time": null,
     "status": "pending"
    },
    "tags": []
   },
   "outputs": [],
   "source": [
    "pred.shape"
   ]
  },
  {
   "cell_type": "markdown",
   "id": "9becbc6c",
   "metadata": {
    "papermill": {
     "duration": null,
     "end_time": null,
     "exception": null,
     "start_time": null,
     "status": "pending"
    },
    "tags": []
   },
   "source": [
    "The code pred = gmm.predict(X.reshape(-1,1)) predicts the cluster labels for the data in X using the fitted Gaussian Mixture Model (GMM).\n",
    "\n",
    "The predict method of the GaussianMixture object is used to predict the cluster labels for the data. The predict method assigns each data point to the cluster with the highest probability, based on the posterior probabilities calculated by the EM algorithm during the fitting process.\n",
    "\n",
    "The argument to the predict method is the reshaped data X, which is a one-dimensional array that has been reshaped from the original data array. The reshape method is used to convert the two-dimensional array X into a one-dimensional array, which is required by the predict method. The argument -1 in the reshape method means that the number of rows in the reshaped array should be automatically determined based on the size of the original array, and the number of columns should be 1."
   ]
  },
  {
   "cell_type": "code",
   "execution_count": null,
   "id": "b99e3702",
   "metadata": {
    "papermill": {
     "duration": null,
     "end_time": null,
     "exception": null,
     "start_time": null,
     "status": "pending"
    },
    "tags": []
   },
   "outputs": [],
   "source": [
    "np.unique(pred)"
   ]
  },
  {
   "cell_type": "code",
   "execution_count": null,
   "id": "6bf28c71",
   "metadata": {
    "papermill": {
     "duration": null,
     "end_time": null,
     "exception": null,
     "start_time": null,
     "status": "pending"
    },
    "tags": []
   },
   "outputs": [],
   "source": [
    "gmm.means_"
   ]
  },
  {
   "cell_type": "markdown",
   "id": "cf66f6a4",
   "metadata": {
    "papermill": {
     "duration": null,
     "end_time": null,
     "exception": null,
     "start_time": null,
     "status": "pending"
    },
    "tags": []
   },
   "source": [
    "The means_ attribute of the GaussianMixture object is an array that contains the mean value of each Gaussian component in the GMM. Each row of the array corresponds to a Gaussian component, and the number of columns is equal to the number of features in the data. In this case, since the data X has only one feature (i.e., one-dimensional), the means_ array is a one-dimensional array that contains the mean value of each Gaussian component.\n",
    "\n",
    "The means_ attribute can be used to inspect the mean values of each Gaussian component in the GMM, which can provide insights into the clustering of the data."
   ]
  },
  {
   "cell_type": "code",
   "execution_count": null,
   "id": "e531192d",
   "metadata": {
    "papermill": {
     "duration": null,
     "end_time": null,
     "exception": null,
     "start_time": null,
     "status": "pending"
    },
    "tags": []
   },
   "outputs": [],
   "source": [
    "gmm.covariances_"
   ]
  },
  {
   "cell_type": "markdown",
   "id": "8d818199",
   "metadata": {
    "papermill": {
     "duration": null,
     "end_time": null,
     "exception": null,
     "start_time": null,
     "status": "pending"
    },
    "tags": []
   },
   "source": [
    "The code gmm.covariances_ retrieves the covariance matrices of each of the Gaussian components in the fitted Gaussian Mixture Model (GMM).\n",
    "\n",
    "The covariances_ attribute of the GaussianMixture object is an array that contains the covariance matrix of each Gaussian component in the GMM. Each element of the array corresponds to a Gaussian component, and the number of dimensions of each covariance matrix is equal to the number of features in the data. In this case, since the data X has only one feature (i.e., one-dimensional), each covariance matrix is a scalar value that represents the variance of the data for that component.\n",
    "\n",
    "The covariances_ attribute can be used to inspect the covariance matrices of each Gaussian component in the GMM, which can provide insights into the spread and shape of the clusters in the data."
   ]
  },
  {
   "cell_type": "code",
   "execution_count": null,
   "id": "f5602f6b",
   "metadata": {
    "papermill": {
     "duration": null,
     "end_time": null,
     "exception": null,
     "start_time": null,
     "status": "pending"
    },
    "tags": []
   },
   "outputs": [],
   "source": [
    "np.bincount(pred)"
   ]
  },
  {
   "cell_type": "markdown",
   "id": "e446e9d3",
   "metadata": {
    "papermill": {
     "duration": null,
     "end_time": null,
     "exception": null,
     "start_time": null,
     "status": "pending"
    },
    "tags": []
   },
   "source": [
    "The code np.bincount(pred) counts the number of occurrences of each cluster label in the pred array.\n",
    "\n",
    "The bincount function of the NumPy library is used to count the number of occurrences of each value in an array. In this case, the pred array contains the cluster labels assigned by the Gaussian Mixture Model (GMM) to each data point in the original data X. The bincount function counts the number of occurrences of each unique value in the pred array, which corresponds to the number of data points assigned to each cluster.\n",
    "\n",
    "The output of np.bincount(pred) is an array of non-negative integers, where the value at index i represents the number of data points assigned to cluster i. The length of the array is equal to the number of unique cluster labels in the pred array, which is equal to the number of components in the GMM."
   ]
  },
  {
   "cell_type": "code",
   "execution_count": null,
   "id": "e6f93a39",
   "metadata": {
    "papermill": {
     "duration": null,
     "end_time": null,
     "exception": null,
     "start_time": null,
     "status": "pending"
    },
    "tags": []
   },
   "outputs": [],
   "source": [
    "gmm.weights_\n"
   ]
  },
  {
   "cell_type": "markdown",
   "id": "0cf003a9",
   "metadata": {
    "papermill": {
     "duration": null,
     "end_time": null,
     "exception": null,
     "start_time": null,
     "status": "pending"
    },
    "tags": []
   },
   "source": [
    "The code gmm.weights_ retrieves the weight of each of the Gaussian components in the fitted Gaussian Mixture Model (GMM).\n",
    "\n",
    "The weights_ attribute of the GaussianMixture object is an array that contains the weight of each Gaussian component in the GMM. The weights represent the proportion of data points assigned to each component, and they sum to 1.0.\n",
    "\n",
    "The weights_ attribute can be used to inspect the contribution of each Gaussian component to the overall GMM, which can provide insights into the relative importance of each cluster in the data."
   ]
  },
  {
   "cell_type": "markdown",
   "id": "a5cd0d34",
   "metadata": {
    "papermill": {
     "duration": null,
     "end_time": null,
     "exception": null,
     "start_time": null,
     "status": "pending"
    },
    "tags": []
   },
   "source": [
    "### Finding no of clusters"
   ]
  },
  {
   "cell_type": "code",
   "execution_count": null,
   "id": "8eab7fa8",
   "metadata": {
    "papermill": {
     "duration": null,
     "end_time": null,
     "exception": null,
     "start_time": null,
     "status": "pending"
    },
    "tags": []
   },
   "outputs": [],
   "source": [
    "# Resolve error for 1 cluster\n",
    "\n",
    "n_components=np.arange(2,11)\n",
    "aic_scores=[]\n",
    "bic_scores=[]\n",
    "for n in n_components:\n",
    "    model=GaussianMixture(n,n_init=10)\n",
    "    model.fit(X.reshape(-1,1))\n",
    "    aic_score=model.aic(X.reshape(-1,1))\n",
    "    bic_score=model.bic(X.reshape(-1,1))\n",
    "    aic_scores.append(aic_score)\n",
    "    bic_scores.append(bic_score)\n",
    "    "
   ]
  },
  {
   "cell_type": "markdown",
   "id": "638c4c78",
   "metadata": {
    "papermill": {
     "duration": null,
     "end_time": null,
     "exception": null,
     "start_time": null,
     "status": "pending"
    },
    "tags": []
   },
   "source": [
    "This code performs Gaussian Mixture Model (GMM) fitting for different numbers of components, computes the Akaike Information Criterion (AIC) and Bayesian Information Criterion (BIC) scores for each model, and stores the scores in two separate lists.\n",
    "\n",
    "The GaussianMixture object is initialized with the number of components specified by the n variable, and then fitted to the data using the fit method. The AIC and BIC scores are then computed using the aic and bic methods of the GaussianMixture object, respectively. The AIC and BIC scores are measures of the goodness-of-fit of the GMM to the data, and they take into account both the likelihood of the data given the model and the number of parameters in the model.\n",
    "\n",
    "The AIC and BIC scores are then appended to separate lists (aic_scores and bic_scores) for each value of n. This allows us to compare the AIC and BIC scores for different numbers of components and choose the number of components that provides the best trade-off between model complexity and goodness-of-fit."
   ]
  },
  {
   "cell_type": "code",
   "execution_count": null,
   "id": "bfefc757",
   "metadata": {
    "papermill": {
     "duration": null,
     "end_time": null,
     "exception": null,
     "start_time": null,
     "status": "pending"
    },
    "tags": []
   },
   "outputs": [],
   "source": [
    "plt.plot(n_components,aic_scores,label='AIC')\n",
    "plt.plot(n_components,bic_scores,label='BIC')\n",
    "plt.legend();"
   ]
  },
  {
   "cell_type": "markdown",
   "id": "f517eec8",
   "metadata": {
    "papermill": {
     "duration": null,
     "end_time": null,
     "exception": null,
     "start_time": null,
     "status": "pending"
    },
    "tags": []
   },
   "source": [
    "#### No of clusters=4"
   ]
  },
  {
   "cell_type": "code",
   "execution_count": null,
   "id": "ec9d360e",
   "metadata": {
    "papermill": {
     "duration": null,
     "end_time": null,
     "exception": null,
     "start_time": null,
     "status": "pending"
    },
    "tags": []
   },
   "outputs": [],
   "source": [
    "# Generating samples\n",
    "\n",
    "gmm.sample(100000)"
   ]
  },
  {
   "cell_type": "markdown",
   "id": "eb89708e",
   "metadata": {
    "papermill": {
     "duration": null,
     "end_time": null,
     "exception": null,
     "start_time": null,
     "status": "pending"
    },
    "tags": []
   },
   "source": [
    "## Building GMM for the dataset"
   ]
  },
  {
   "cell_type": "code",
   "execution_count": null,
   "id": "d519f78b",
   "metadata": {
    "papermill": {
     "duration": null,
     "end_time": null,
     "exception": null,
     "start_time": null,
     "status": "pending"
    },
    "tags": []
   },
   "outputs": [],
   "source": [
    "import pandas as pd\n",
    "import numpy as np\n",
    "\n",
    "np.random.seed(42)\n",
    "\n",
    "widths = np.random.normal(loc=50, scale=5, size=500)\n",
    "heights = np.random.normal(loc=160, scale=10, size=500)\n",
    "\n",
    "df = np.column_stack((widths, heights))\n",
    "\n",
    "data = pd.DataFrame(df, columns=['widths', 'heights'])\n",
    "\n",
    "\n"
   ]
  },
  {
   "cell_type": "code",
   "execution_count": null,
   "id": "75135c33",
   "metadata": {
    "papermill": {
     "duration": null,
     "end_time": null,
     "exception": null,
     "start_time": null,
     "status": "pending"
    },
    "tags": []
   },
   "outputs": [],
   "source": [
    "data"
   ]
  },
  {
   "cell_type": "code",
   "execution_count": null,
   "id": "a86d15ab",
   "metadata": {
    "papermill": {
     "duration": null,
     "end_time": null,
     "exception": null,
     "start_time": null,
     "status": "pending"
    },
    "tags": []
   },
   "outputs": [],
   "source": [
    "sns.pairplot(data);"
   ]
  },
  {
   "cell_type": "markdown",
   "id": "ce9684e3",
   "metadata": {
    "papermill": {
     "duration": null,
     "end_time": null,
     "exception": null,
     "start_time": null,
     "status": "pending"
    },
    "tags": []
   },
   "source": [
    "### Finding no of clusters"
   ]
  },
  {
   "cell_type": "code",
   "execution_count": null,
   "id": "4f450ae0",
   "metadata": {
    "papermill": {
     "duration": null,
     "end_time": null,
     "exception": null,
     "start_time": null,
     "status": "pending"
    },
    "tags": []
   },
   "outputs": [],
   "source": [
    "n_components=np.arange(2,11)\n",
    "aic_scores=[]\n",
    "bic_scores=[]\n",
    "for n in n_components:\n",
    "    model=GaussianMixture(n,n_init=10)\n",
    "    model.fit(data)\n",
    "    aic_score=model.aic(data)\n",
    "    bic_score=model.bic(data)\n",
    "    aic_scores.append(aic_score)\n",
    "    bic_scores.append(bic_score)"
   ]
  },
  {
   "cell_type": "code",
   "execution_count": null,
   "id": "956052c7",
   "metadata": {
    "papermill": {
     "duration": null,
     "end_time": null,
     "exception": null,
     "start_time": null,
     "status": "pending"
    },
    "tags": []
   },
   "outputs": [],
   "source": [
    "plt.plot(n_components,aic_scores,label='AIC')\n",
    "plt.plot(n_components,bic_scores,label='BIC')\n",
    "plt.legend();"
   ]
  },
  {
   "cell_type": "markdown",
   "id": "76a3b308",
   "metadata": {
    "papermill": {
     "duration": null,
     "end_time": null,
     "exception": null,
     "start_time": null,
     "status": "pending"
    },
    "tags": []
   },
   "source": [
    "No of clusters == 4 in gmm dataset, since this dataset is generated by chatgpt hence not converging at 4"
   ]
  },
  {
   "cell_type": "code",
   "execution_count": null,
   "id": "5ff31391",
   "metadata": {
    "papermill": {
     "duration": null,
     "end_time": null,
     "exception": null,
     "start_time": null,
     "status": "pending"
    },
    "tags": []
   },
   "outputs": [],
   "source": [
    "# Model building\n",
    "\n",
    "gmm_data=GaussianMixture(n_components=4,n_init=10)\n",
    "gmm_data.fit(data)"
   ]
  },
  {
   "cell_type": "code",
   "execution_count": null,
   "id": "b945de0d",
   "metadata": {
    "papermill": {
     "duration": null,
     "end_time": null,
     "exception": null,
     "start_time": null,
     "status": "pending"
    },
    "tags": []
   },
   "outputs": [],
   "source": [
    "data_pred=gmm_data.predict(data)\n",
    "data_pred"
   ]
  },
  {
   "cell_type": "code",
   "execution_count": null,
   "id": "e65d7e2a",
   "metadata": {
    "papermill": {
     "duration": null,
     "end_time": null,
     "exception": null,
     "start_time": null,
     "status": "pending"
    },
    "tags": []
   },
   "outputs": [],
   "source": [
    "gmm_data.means_"
   ]
  },
  {
   "cell_type": "code",
   "execution_count": null,
   "id": "c7936104",
   "metadata": {
    "papermill": {
     "duration": null,
     "end_time": null,
     "exception": null,
     "start_time": null,
     "status": "pending"
    },
    "tags": []
   },
   "outputs": [],
   "source": [
    "gmm_data.covariances_"
   ]
  },
  {
   "cell_type": "code",
   "execution_count": null,
   "id": "9d89dd94",
   "metadata": {
    "papermill": {
     "duration": null,
     "end_time": null,
     "exception": null,
     "start_time": null,
     "status": "pending"
    },
    "tags": []
   },
   "outputs": [],
   "source": [
    "gmm_data.weights_"
   ]
  },
  {
   "cell_type": "markdown",
   "id": "32831d9d",
   "metadata": {
    "papermill": {
     "duration": null,
     "end_time": null,
     "exception": null,
     "start_time": null,
     "status": "pending"
    },
    "tags": []
   },
   "source": [
    "## Adding Clsuster labels to DF"
   ]
  },
  {
   "cell_type": "code",
   "execution_count": null,
   "id": "1ba01c4e",
   "metadata": {
    "papermill": {
     "duration": null,
     "end_time": null,
     "exception": null,
     "start_time": null,
     "status": "pending"
    },
    "tags": []
   },
   "outputs": [],
   "source": [
    "data['Label']=data_pred"
   ]
  },
  {
   "cell_type": "code",
   "execution_count": null,
   "id": "070cd1fa",
   "metadata": {
    "papermill": {
     "duration": null,
     "end_time": null,
     "exception": null,
     "start_time": null,
     "status": "pending"
    },
    "tags": []
   },
   "outputs": [],
   "source": [
    "data"
   ]
  },
  {
   "cell_type": "code",
   "execution_count": null,
   "id": "4a18f4dc",
   "metadata": {
    "papermill": {
     "duration": null,
     "end_time": null,
     "exception": null,
     "start_time": null,
     "status": "pending"
    },
    "tags": []
   },
   "outputs": [],
   "source": [
    "data['Label'].value_counts()"
   ]
  },
  {
   "cell_type": "markdown",
   "id": "9324c4d4",
   "metadata": {
    "papermill": {
     "duration": null,
     "end_time": null,
     "exception": null,
     "start_time": null,
     "status": "pending"
    },
    "tags": []
   },
   "source": [
    "### Visuaise the clusters"
   ]
  },
  {
   "cell_type": "code",
   "execution_count": null,
   "id": "b2264fec",
   "metadata": {
    "papermill": {
     "duration": null,
     "end_time": null,
     "exception": null,
     "start_time": null,
     "status": "pending"
    },
    "tags": []
   },
   "outputs": [],
   "source": [
    "sns.pairplot(data, hue='Label');"
   ]
  },
  {
   "cell_type": "markdown",
   "id": "d3019f4a",
   "metadata": {
    "papermill": {
     "duration": null,
     "end_time": null,
     "exception": null,
     "start_time": null,
     "status": "pending"
    },
    "tags": []
   },
   "source": [
    "# Mall customer segmentation"
   ]
  },
  {
   "cell_type": "code",
   "execution_count": null,
   "id": "2e6b213e",
   "metadata": {
    "papermill": {
     "duration": null,
     "end_time": null,
     "exception": null,
     "start_time": null,
     "status": "pending"
    },
    "tags": []
   },
   "outputs": [],
   "source": [
    "import numpy as np\n",
    "import pandas as pd\n",
    "import matplotlib.pyplot as plt\n",
    "import seaborn as sns"
   ]
  },
  {
   "cell_type": "code",
   "execution_count": null,
   "id": "85aa74d2",
   "metadata": {
    "papermill": {
     "duration": null,
     "end_time": null,
     "exception": null,
     "start_time": null,
     "status": "pending"
    },
    "tags": []
   },
   "outputs": [],
   "source": [
    "customer=pd.read_csv('Mall_customers.csv')"
   ]
  },
  {
   "cell_type": "code",
   "execution_count": null,
   "id": "a2a2e048",
   "metadata": {
    "papermill": {
     "duration": null,
     "end_time": null,
     "exception": null,
     "start_time": null,
     "status": "pending"
    },
    "tags": []
   },
   "outputs": [],
   "source": [
    "customer"
   ]
  },
  {
   "cell_type": "markdown",
   "id": "5d17ba35",
   "metadata": {
    "papermill": {
     "duration": null,
     "end_time": null,
     "exception": null,
     "start_time": null,
     "status": "pending"
    },
    "tags": []
   },
   "source": [
    "## Preprocessing"
   ]
  },
  {
   "cell_type": "code",
   "execution_count": null,
   "id": "263dccf3",
   "metadata": {
    "papermill": {
     "duration": null,
     "end_time": null,
     "exception": null,
     "start_time": null,
     "status": "pending"
    },
    "tags": []
   },
   "outputs": [],
   "source": [
    "customer=customer.drop(['CustomerID'],axis=1)\n",
    "customer"
   ]
  },
  {
   "cell_type": "code",
   "execution_count": null,
   "id": "c917f86b",
   "metadata": {
    "papermill": {
     "duration": null,
     "end_time": null,
     "exception": null,
     "start_time": null,
     "status": "pending"
    },
    "tags": []
   },
   "outputs": [],
   "source": [
    "# Convereting categorical to numeric\n",
    "\n",
    "cust=pd.get_dummies(customer)\n",
    "cust"
   ]
  },
  {
   "cell_type": "code",
   "execution_count": null,
   "id": "db2f0405",
   "metadata": {
    "papermill": {
     "duration": null,
     "end_time": null,
     "exception": null,
     "start_time": null,
     "status": "pending"
    },
    "tags": []
   },
   "outputs": [],
   "source": [
    "# Standardisation of features\n",
    "\n",
    "from sklearn.preprocessing import StandardScaler\n",
    "\n",
    "sc=StandardScaler()\n",
    "\n",
    "X=sc.fit_transform(cust)\n",
    "X"
   ]
  },
  {
   "cell_type": "code",
   "execution_count": null,
   "id": "1056c02a",
   "metadata": {
    "papermill": {
     "duration": null,
     "end_time": null,
     "exception": null,
     "start_time": null,
     "status": "pending"
    },
    "tags": []
   },
   "outputs": [],
   "source": [
    "# COnverting to DF\n",
    "\n",
    "X=pd.DataFrame(X, columns=cust.columns)\n",
    "X"
   ]
  },
  {
   "cell_type": "markdown",
   "id": "756e9f39",
   "metadata": {
    "papermill": {
     "duration": null,
     "end_time": null,
     "exception": null,
     "start_time": null,
     "status": "pending"
    },
    "tags": []
   },
   "source": [
    "## Dimnensionality reduction using TSNE"
   ]
  },
  {
   "cell_type": "code",
   "execution_count": null,
   "id": "b2f364a1",
   "metadata": {
    "papermill": {
     "duration": null,
     "end_time": null,
     "exception": null,
     "start_time": null,
     "status": "pending"
    },
    "tags": []
   },
   "outputs": [],
   "source": [
    "from sklearn.manifold import TSNE\n",
    "\n",
    "tsne=TSNE(n_components=2,random_state=100)\n",
    "type(tsne)"
   ]
  },
  {
   "cell_type": "code",
   "execution_count": null,
   "id": "936e8fdd",
   "metadata": {
    "papermill": {
     "duration": null,
     "end_time": null,
     "exception": null,
     "start_time": null,
     "status": "pending"
    },
    "tags": []
   },
   "outputs": [],
   "source": [
    "X_tsne=tsne.fit_transform(X)\n",
    "X_tsne"
   ]
  },
  {
   "cell_type": "code",
   "execution_count": null,
   "id": "9ed006b3",
   "metadata": {
    "papermill": {
     "duration": null,
     "end_time": null,
     "exception": null,
     "start_time": null,
     "status": "pending"
    },
    "tags": []
   },
   "outputs": [],
   "source": [
    "# Visualisation\n",
    "plt.scatter(X_tsne[:,0],X_tsne[:,1]);"
   ]
  },
  {
   "cell_type": "markdown",
   "id": "48b8b02d",
   "metadata": {
    "papermill": {
     "duration": null,
     "end_time": null,
     "exception": null,
     "start_time": null,
     "status": "pending"
    },
    "tags": []
   },
   "source": [
    "### Findings:\n",
    "\n",
    "1. Formation of clearly defined clusters.\n",
    "\n",
    "2. There can be 2 clusters."
   ]
  },
  {
   "cell_type": "markdown",
   "id": "5cdf3513",
   "metadata": {
    "papermill": {
     "duration": null,
     "end_time": null,
     "exception": null,
     "start_time": null,
     "status": "pending"
    },
    "tags": []
   },
   "source": [
    "## Clustering using GMM"
   ]
  },
  {
   "cell_type": "code",
   "execution_count": null,
   "id": "7ef28042",
   "metadata": {
    "papermill": {
     "duration": null,
     "end_time": null,
     "exception": null,
     "start_time": null,
     "status": "pending"
    },
    "tags": []
   },
   "outputs": [],
   "source": [
    "from sklearn.mixture import GaussianMixture\n",
    "n_comps=np.arange(2,20,1)\n",
    "aic_score=[]\n",
    "bic_score=[]\n",
    "for n in n_comps:\n",
    "    model=GaussianMixture(n_components=n,\n",
    "                          random_state=10,\n",
    "                        n_init=5)\n",
    "    model.fit(X)\n",
    "    aic_score.append(model.aic(X))\n",
    "    bic_score.append(model.bic(X))"
   ]
  },
  {
   "cell_type": "code",
   "execution_count": null,
   "id": "4419bb9d",
   "metadata": {
    "papermill": {
     "duration": null,
     "end_time": null,
     "exception": null,
     "start_time": null,
     "status": "pending"
    },
    "tags": []
   },
   "outputs": [],
   "source": [
    "print(aic_score)"
   ]
  },
  {
   "cell_type": "code",
   "execution_count": null,
   "id": "5e19be8f",
   "metadata": {
    "papermill": {
     "duration": null,
     "end_time": null,
     "exception": null,
     "start_time": null,
     "status": "pending"
    },
    "tags": []
   },
   "outputs": [],
   "source": [
    "print(bic_score)"
   ]
  },
  {
   "cell_type": "code",
   "execution_count": null,
   "id": "ea2f8361",
   "metadata": {
    "papermill": {
     "duration": null,
     "end_time": null,
     "exception": null,
     "start_time": null,
     "status": "pending"
    },
    "tags": []
   },
   "outputs": [],
   "source": [
    "# Plotting\n",
    "plt.plot(n_comps,aic_score,c='b',label='AIC')\n",
    "plt.plot(n_comps,bic_score,c='g',label='BIC')\n",
    "plt.legend();"
   ]
  },
  {
   "cell_type": "markdown",
   "id": "fc107039",
   "metadata": {
    "papermill": {
     "duration": null,
     "end_time": null,
     "exception": null,
     "start_time": null,
     "status": "pending"
    },
    "tags": []
   },
   "source": [
    "### No of clusters is 2"
   ]
  },
  {
   "cell_type": "markdown",
   "id": "b7048ff6",
   "metadata": {
    "papermill": {
     "duration": null,
     "end_time": null,
     "exception": null,
     "start_time": null,
     "status": "pending"
    },
    "tags": []
   },
   "source": [
    "## Building GM model with 2 clusters"
   ]
  },
  {
   "cell_type": "code",
   "execution_count": null,
   "id": "69c4d6b6",
   "metadata": {
    "papermill": {
     "duration": null,
     "end_time": null,
     "exception": null,
     "start_time": null,
     "status": "pending"
    },
    "tags": []
   },
   "outputs": [],
   "source": [
    "gm=GaussianMixture(n_components=2,random_state=100,n_init=5)"
   ]
  },
  {
   "cell_type": "code",
   "execution_count": null,
   "id": "1c77189d",
   "metadata": {
    "papermill": {
     "duration": null,
     "end_time": null,
     "exception": null,
     "start_time": null,
     "status": "pending"
    },
    "tags": []
   },
   "outputs": [],
   "source": [
    "gm.fit(X)"
   ]
  },
  {
   "cell_type": "code",
   "execution_count": null,
   "id": "6d1e2705",
   "metadata": {
    "papermill": {
     "duration": null,
     "end_time": null,
     "exception": null,
     "start_time": null,
     "status": "pending"
    },
    "tags": []
   },
   "outputs": [],
   "source": [
    "pred=gm.predict(X)\n",
    "pred"
   ]
  },
  {
   "cell_type": "code",
   "execution_count": null,
   "id": "9cd72b15",
   "metadata": {
    "papermill": {
     "duration": null,
     "end_time": null,
     "exception": null,
     "start_time": null,
     "status": "pending"
    },
    "tags": []
   },
   "outputs": [],
   "source": [
    "gm.means_"
   ]
  },
  {
   "cell_type": "code",
   "execution_count": null,
   "id": "934e7626",
   "metadata": {
    "papermill": {
     "duration": null,
     "end_time": null,
     "exception": null,
     "start_time": null,
     "status": "pending"
    },
    "tags": []
   },
   "outputs": [],
   "source": [
    "gm.covariances_"
   ]
  },
  {
   "cell_type": "code",
   "execution_count": null,
   "id": "760c8d6c",
   "metadata": {
    "papermill": {
     "duration": null,
     "end_time": null,
     "exception": null,
     "start_time": null,
     "status": "pending"
    },
    "tags": []
   },
   "outputs": [],
   "source": [
    "gm.weights_"
   ]
  },
  {
   "cell_type": "markdown",
   "id": "4c2ae45e",
   "metadata": {
    "papermill": {
     "duration": null,
     "end_time": null,
     "exception": null,
     "start_time": null,
     "status": "pending"
    },
    "tags": []
   },
   "source": [
    "### Adding Label column to the DF"
   ]
  },
  {
   "cell_type": "code",
   "execution_count": null,
   "id": "a740d15c",
   "metadata": {
    "papermill": {
     "duration": null,
     "end_time": null,
     "exception": null,
     "start_time": null,
     "status": "pending"
    },
    "tags": []
   },
   "outputs": [],
   "source": [
    "customer['Label']=pred"
   ]
  },
  {
   "cell_type": "code",
   "execution_count": null,
   "id": "7ec82d9d",
   "metadata": {
    "papermill": {
     "duration": null,
     "end_time": null,
     "exception": null,
     "start_time": null,
     "status": "pending"
    },
    "tags": []
   },
   "outputs": [],
   "source": [
    "customer"
   ]
  },
  {
   "cell_type": "markdown",
   "id": "6b8f0e90",
   "metadata": {
    "papermill": {
     "duration": null,
     "end_time": null,
     "exception": null,
     "start_time": null,
     "status": "pending"
    },
    "tags": []
   },
   "source": [
    "## Insights:"
   ]
  },
  {
   "cell_type": "code",
   "execution_count": null,
   "id": "1ea1458d",
   "metadata": {
    "papermill": {
     "duration": null,
     "end_time": null,
     "exception": null,
     "start_time": null,
     "status": "pending"
    },
    "tags": []
   },
   "outputs": [],
   "source": [
    "customer['Label'].value_counts()"
   ]
  },
  {
   "cell_type": "code",
   "execution_count": null,
   "id": "2007e6b8",
   "metadata": {
    "papermill": {
     "duration": null,
     "end_time": null,
     "exception": null,
     "start_time": null,
     "status": "pending"
    },
    "tags": []
   },
   "outputs": [],
   "source": [
    "customer['Label'].value_counts()/sum(customer['Label'].value_counts())"
   ]
  },
  {
   "cell_type": "code",
   "execution_count": null,
   "id": "01c14269",
   "metadata": {
    "papermill": {
     "duration": null,
     "end_time": null,
     "exception": null,
     "start_time": null,
     "status": "pending"
    },
    "tags": []
   },
   "outputs": [],
   "source": [
    "customer[customer['Genre']=='Male']"
   ]
  },
  {
   "cell_type": "code",
   "execution_count": null,
   "id": "185a0ed6",
   "metadata": {
    "papermill": {
     "duration": null,
     "end_time": null,
     "exception": null,
     "start_time": null,
     "status": "pending"
    },
    "tags": []
   },
   "outputs": [],
   "source": [
    "customer[customer['Genre']=='Male'][customer['Label']==0]"
   ]
  },
  {
   "cell_type": "markdown",
   "id": "774ca684",
   "metadata": {
    "papermill": {
     "duration": null,
     "end_time": null,
     "exception": null,
     "start_time": null,
     "status": "pending"
    },
    "tags": []
   },
   "source": [
    "1. All Males form a market segment, constituting 44% of the customer base. "
   ]
  },
  {
   "cell_type": "code",
   "execution_count": null,
   "id": "345be74e",
   "metadata": {
    "papermill": {
     "duration": null,
     "end_time": null,
     "exception": null,
     "start_time": null,
     "status": "pending"
    },
    "tags": []
   },
   "outputs": [],
   "source": [
    "customer[customer['Genre']=='Female'][customer['Label']==0]"
   ]
  },
  {
   "cell_type": "code",
   "execution_count": null,
   "id": "f3ffe0e7",
   "metadata": {
    "papermill": {
     "duration": null,
     "end_time": null,
     "exception": null,
     "start_time": null,
     "status": "pending"
    },
    "tags": []
   },
   "outputs": [],
   "source": [
    "customer[customer['Genre']=='Female'][customer['Label']==1]"
   ]
  },
  {
   "cell_type": "markdown",
   "id": "f8a4cddd",
   "metadata": {
    "papermill": {
     "duration": null,
     "end_time": null,
     "exception": null,
     "start_time": null,
     "status": "pending"
    },
    "tags": []
   },
   "source": [
    "2. All female customers form a segment, constituting 56 % of the customer base."
   ]
  },
  {
   "cell_type": "code",
   "execution_count": null,
   "id": "0e3fd6d1",
   "metadata": {
    "papermill": {
     "duration": null,
     "end_time": null,
     "exception": null,
     "start_time": null,
     "status": "pending"
    },
    "tags": []
   },
   "outputs": [],
   "source": [
    "# Forming samples\n",
    "\n",
    "gm.sample(10000)"
   ]
  },
  {
   "cell_type": "markdown",
   "id": "372b897b",
   "metadata": {
    "papermill": {
     "duration": null,
     "end_time": null,
     "exception": null,
     "start_time": null,
     "status": "pending"
    },
    "tags": []
   },
   "source": [
    "# DBSCAN"
   ]
  },
  {
   "cell_type": "code",
   "execution_count": null,
   "id": "9a39140f",
   "metadata": {
    "papermill": {
     "duration": null,
     "end_time": null,
     "exception": null,
     "start_time": null,
     "status": "pending"
    },
    "tags": []
   },
   "outputs": [],
   "source": [
    "from sklearn.neighbors import NearestNeighbors # importing the library\n",
    "neighb = NearestNeighbors(n_neighbors=2) # creating an object of the NearestNeighbors class\n",
    "nbrs=neighb.fit(X) # fitting the data to the object\n",
    "distances,indices=nbrs.kneighbors(X)"
   ]
  },
  {
   "cell_type": "code",
   "execution_count": null,
   "id": "b6f7275a",
   "metadata": {
    "papermill": {
     "duration": null,
     "end_time": null,
     "exception": null,
     "start_time": null,
     "status": "pending"
    },
    "tags": []
   },
   "outputs": [],
   "source": [
    "distances = np.sort(distances, axis = 0) # sorting the distances\n",
    "distances = distances[:, 1] # taking the second column of the sorted distances\n",
    "plt.rcParams['figure.figsize'] = (5,3) # setting the figure size\n",
    "plt.plot(distances) # plotting the distances\n",
    "plt.show() # showing the plot"
   ]
  },
  {
   "cell_type": "code",
   "execution_count": null,
   "id": "af3e87da",
   "metadata": {
    "papermill": {
     "duration": null,
     "end_time": null,
     "exception": null,
     "start_time": null,
     "status": "pending"
    },
    "tags": []
   },
   "outputs": [],
   "source": [
    "from sklearn.cluster import DBSCAN\n",
    "# cluster the data into 3 clusters\n",
    "dbscan = DBSCAN(eps = 160, min_samples = 3).fit(X) # fitting the model\n",
    "labels = dbscan.labels_ # getting the labels"
   ]
  },
  {
   "cell_type": "code",
   "execution_count": null,
   "id": "4c4c060b",
   "metadata": {
    "papermill": {
     "duration": null,
     "end_time": null,
     "exception": null,
     "start_time": null,
     "status": "pending"
    },
    "tags": []
   },
   "outputs": [],
   "source": [
    "# Plot the clusters\n",
    "plt.scatter(x=X['Alcohol'],y=X['Mg'], c = X['Label'], cmap= \"plasma\") # plotting the clusters\n",
    "plt.xlabel(\"Cash Advance\") # X-axis label\n",
    "plt.ylabel(\"Purchases\") # Y-axis label\n",
    "plt.show() # showing the plot"
   ]
  },
  {
   "cell_type": "code",
   "execution_count": null,
   "id": "3b0babec",
   "metadata": {
    "papermill": {
     "duration": null,
     "end_time": null,
     "exception": null,
     "start_time": null,
     "status": "pending"
    },
    "tags": []
   },
   "outputs": [],
   "source": []
  }
 ],
 "metadata": {
  "kernelspec": {
   "display_name": "Python 3 (ipykernel)",
   "language": "python",
   "name": "python3"
  },
  "language_info": {
   "codemirror_mode": {
    "name": "ipython",
    "version": 3
   },
   "file_extension": ".py",
   "mimetype": "text/x-python",
   "name": "python",
   "nbconvert_exporter": "python",
   "pygments_lexer": "ipython3",
   "version": "3.9.12"
  },
  "papermill": {
   "default_parameters": {},
   "duration": 32.482443,
   "end_time": "2023-03-26T17:44:19.688568",
   "environment_variables": {},
   "exception": true,
   "input_path": "__notebook__.ipynb",
   "output_path": "__notebook__.ipynb",
   "parameters": {},
   "start_time": "2023-03-26T17:43:47.206125",
   "version": "2.4.0"
  }
 },
 "nbformat": 4,
 "nbformat_minor": 5
}
